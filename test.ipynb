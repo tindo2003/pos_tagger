{
 "cells": [
  {
   "cell_type": "code",
   "execution_count": 102,
   "metadata": {},
   "outputs": [],
   "source": [
    "import numpy as np\n",
    "import pandas as pd\n",
    "import matplotlib.pyplot as plt\n",
    "from collections import defaultdict\n",
    "from nltk.tag import tnt\n",
    "from tqdm import tqdm"
   ]
  },
  {
   "cell_type": "code",
   "execution_count": 8,
   "metadata": {},
   "outputs": [],
   "source": [
    "index_dict = {\"happy\": 0, \"sad\": 1}\n",
    "NUM_TAGS = len(index_dict)\n",
    "TIME_STEPS = 3\n",
    "\n",
    "# Initialize π and back pointer matrices\n",
    "transition = np.array([[0.7, 0.3], [0.5, 0.5]])"
   ]
  },
  {
   "cell_type": "code",
   "execution_count": 9,
   "metadata": {},
   "outputs": [
    {
     "data": {
      "text/plain": [
       "array([[0.7, 0.3],\n",
       "       [0.5, 0.5]])"
      ]
     },
     "execution_count": 9,
     "metadata": {},
     "output_type": "execute_result"
    }
   ],
   "source": [
    "transition"
   ]
  },
  {
   "cell_type": "code",
   "execution_count": 10,
   "metadata": {},
   "outputs": [],
   "source": [
    "emission = {\n",
    "    \"happy\": {\"red\": 0.8, \"green\": 0.1, \"blue\": 0.1},\n",
    "    \"sad\": {\"red\": 0.2, \"green\": 0.3, \"blue\": 0.5},\n",
    "}"
   ]
  },
  {
   "cell_type": "code",
   "execution_count": 11,
   "metadata": {},
   "outputs": [
    {
     "data": {
      "text/plain": [
       "{'happyhappyhappy': 2.4,\n",
       " 'happyhappysad': 3.1,\n",
       " 'happysadhappy': 3.0,\n",
       " 'happysadsad': 3.7,\n",
       " 'sadhappyhappy': 2.3,\n",
       " 'sadhappysad': 3.0,\n",
       " 'sadsadhappy': 2.9,\n",
       " 'sadsadsad': 3.6}"
      ]
     },
     "execution_count": 11,
     "metadata": {},
     "output_type": "execute_result"
    }
   ],
   "source": [
    "# NOTE: observed is G, B, R\n",
    "observed = [\"green\", \"blue\", \"red\"]\n",
    "\n",
    "cur_sequece = []\n",
    "res = {}\n",
    "def dfs(cur_day, cur_score):\n",
    "    if cur_day >= len(observed):\n",
    "        res[\"\".join(cur_sequece)] = cur_score\n",
    "        return\n",
    "    cur_observation = observed[cur_day]\n",
    "    for mood in [\"happy\", \"sad\"]:\n",
    "        cur_score += emission[mood][cur_observation]\n",
    "        # at the start, there is no previous mood\n",
    "        if cur_sequece:\n",
    "            cur_score += transition[index_dict[mood]][index_dict[cur_sequece[-1]]]\n",
    "        cur_sequece.append(mood)\n",
    "        dfs(cur_day + 1, cur_score)\n",
    "        cur_sequece.pop()\n",
    "dfs(0, 0)\n",
    "res"
   ]
  },
  {
   "cell_type": "markdown",
   "metadata": {},
   "source": [
    "implementing https://www.cs.columbia.edu/~mcollins/courses/nlp2011/notes/hmms.pdf and https://aclanthology.org/A00-1031.pdf\n",
    "\n",
    "heavily relied on https://github.com/stathwang/POS-Taggers and nltk/tag/tnt.py"
   ]
  },
  {
   "cell_type": "code",
   "execution_count": 4,
   "metadata": {},
   "outputs": [
    {
     "name": "stdout",
     "output_type": "stream",
     "text": [
      "the shape is (696475, 3)\n"
     ]
    },
    {
     "data": {
      "text/html": [
       "<div>\n",
       "<style scoped>\n",
       "    .dataframe tbody tr th:only-of-type {\n",
       "        vertical-align: middle;\n",
       "    }\n",
       "\n",
       "    .dataframe tbody tr th {\n",
       "        vertical-align: top;\n",
       "    }\n",
       "\n",
       "    .dataframe thead th {\n",
       "        text-align: right;\n",
       "    }\n",
       "</style>\n",
       "<table border=\"1\" class=\"dataframe\">\n",
       "  <thead>\n",
       "    <tr style=\"text-align: right;\">\n",
       "      <th></th>\n",
       "      <th>id</th>\n",
       "      <th>word</th>\n",
       "      <th>tag</th>\n",
       "    </tr>\n",
       "  </thead>\n",
       "  <tbody>\n",
       "    <tr>\n",
       "      <th>0</th>\n",
       "      <td>0</td>\n",
       "      <td>-DOCSTART-</td>\n",
       "      <td>O</td>\n",
       "    </tr>\n",
       "    <tr>\n",
       "      <th>1</th>\n",
       "      <td>1</td>\n",
       "      <td>Pierre</td>\n",
       "      <td>NNP</td>\n",
       "    </tr>\n",
       "    <tr>\n",
       "      <th>2</th>\n",
       "      <td>2</td>\n",
       "      <td>Vinken</td>\n",
       "      <td>NNP</td>\n",
       "    </tr>\n",
       "    <tr>\n",
       "      <th>3</th>\n",
       "      <td>3</td>\n",
       "      <td>,</td>\n",
       "      <td>,</td>\n",
       "    </tr>\n",
       "    <tr>\n",
       "      <th>4</th>\n",
       "      <td>4</td>\n",
       "      <td>61</td>\n",
       "      <td>CD</td>\n",
       "    </tr>\n",
       "  </tbody>\n",
       "</table>\n",
       "</div>"
      ],
      "text/plain": [
       "   id        word  tag\n",
       "0   0  -DOCSTART-    O\n",
       "1   1      Pierre  NNP\n",
       "2   2      Vinken  NNP\n",
       "3   3           ,    ,\n",
       "4   4          61   CD"
      ]
     },
     "execution_count": 4,
     "metadata": {},
     "output_type": "execute_result"
    }
   ],
   "source": [
    "X = pd.read_csv(\"data/train_x.csv\", na_filter=False)\n",
    "Y = pd.read_csv(\"data/train_y.csv\")\n",
    "word_with_tag = X.merge(Y, on=\"id\")\n",
    "print(f\"the shape is {word_with_tag.shape}\")\n",
    "word_with_tag.head()"
   ]
  },
  {
   "cell_type": "code",
   "execution_count": 5,
   "metadata": {},
   "outputs": [
    {
     "data": {
      "text/plain": [
       "[('-DOCSTART-', 'O'),\n",
       " ('Pierre', 'NNP'),\n",
       " ('Vinken', 'NNP'),\n",
       " (',', ','),\n",
       " ('61', 'CD')]"
      ]
     },
     "execution_count": 5,
     "metadata": {},
     "output_type": "execute_result"
    }
   ],
   "source": [
    "tag_word_tupl = list(word_with_tag[[\"tag\", \"word\"]].itertuples(index=False, name=None))\n",
    "word_tag_tupl = list(word_with_tag[[\"word\", \"tag\"]].itertuples(index=False, name=None))\n",
    "word_tag_tupl[:5]"
   ]
  },
  {
   "cell_type": "markdown",
   "metadata": {},
   "source": [
    "A bit of data visualization"
   ]
  },
  {
   "cell_type": "code",
   "execution_count": 6,
   "metadata": {},
   "outputs": [
    {
     "name": "stdout",
     "output_type": "stream",
     "text": [
      "<class 'pandas.core.frame.DataFrame'>\n",
      "RangeIndex: 696475 entries, 0 to 696474\n",
      "Data columns (total 2 columns):\n",
      " #   Column  Non-Null Count   Dtype \n",
      "---  ------  --------------   ----- \n",
      " 0   id      696475 non-null  int64 \n",
      " 1   word    696475 non-null  object\n",
      "dtypes: int64(1), object(1)\n",
      "memory usage: 10.6+ MB\n"
     ]
    }
   ],
   "source": [
    "X.info()"
   ]
  },
  {
   "cell_type": "code",
   "execution_count": 7,
   "metadata": {},
   "outputs": [
    {
     "name": "stdout",
     "output_type": "stream",
     "text": [
      "there are 37505 unique words\n",
      "False\n"
     ]
    }
   ],
   "source": [
    "print(f\"there are {X['word'].nunique()} unique words\")\n",
    "print(\"*\" in list(X[\"word\"].unique()))"
   ]
  },
  {
   "cell_type": "code",
   "execution_count": 8,
   "metadata": {},
   "outputs": [
    {
     "name": "stdout",
     "output_type": "stream",
     "text": [
      "696475\n"
     ]
    },
    {
     "data": {
      "text/html": [
       "<div>\n",
       "<style scoped>\n",
       "    .dataframe tbody tr th:only-of-type {\n",
       "        vertical-align: middle;\n",
       "    }\n",
       "\n",
       "    .dataframe tbody tr th {\n",
       "        vertical-align: top;\n",
       "    }\n",
       "\n",
       "    .dataframe thead th {\n",
       "        text-align: right;\n",
       "    }\n",
       "</style>\n",
       "<table border=\"1\" class=\"dataframe\">\n",
       "  <thead>\n",
       "    <tr style=\"text-align: right;\">\n",
       "      <th></th>\n",
       "      <th>word</th>\n",
       "      <th>count</th>\n",
       "    </tr>\n",
       "  </thead>\n",
       "  <tbody>\n",
       "    <tr>\n",
       "      <th>0</th>\n",
       "      <td>,</td>\n",
       "      <td>35472</td>\n",
       "    </tr>\n",
       "    <tr>\n",
       "      <th>1</th>\n",
       "      <td>the</td>\n",
       "      <td>30079</td>\n",
       "    </tr>\n",
       "    <tr>\n",
       "      <th>2</th>\n",
       "      <td>.</td>\n",
       "      <td>28510</td>\n",
       "    </tr>\n",
       "    <tr>\n",
       "      <th>3</th>\n",
       "      <td>of</td>\n",
       "      <td>16761</td>\n",
       "    </tr>\n",
       "    <tr>\n",
       "      <th>4</th>\n",
       "      <td>to</td>\n",
       "      <td>16130</td>\n",
       "    </tr>\n",
       "    <tr>\n",
       "      <th>...</th>\n",
       "      <td>...</td>\n",
       "      <td>...</td>\n",
       "    </tr>\n",
       "    <tr>\n",
       "      <th>37500</th>\n",
       "      <td>amps</td>\n",
       "      <td>1</td>\n",
       "    </tr>\n",
       "    <tr>\n",
       "      <th>37501</th>\n",
       "      <td>amply</td>\n",
       "      <td>1</td>\n",
       "    </tr>\n",
       "    <tr>\n",
       "      <th>37502</th>\n",
       "      <td>amplify</td>\n",
       "      <td>1</td>\n",
       "    </tr>\n",
       "    <tr>\n",
       "      <th>37503</th>\n",
       "      <td>amplifiers</td>\n",
       "      <td>1</td>\n",
       "    </tr>\n",
       "    <tr>\n",
       "      <th>37504</th>\n",
       "      <td>caseloads</td>\n",
       "      <td>1</td>\n",
       "    </tr>\n",
       "  </tbody>\n",
       "</table>\n",
       "<p>37505 rows × 2 columns</p>\n",
       "</div>"
      ],
      "text/plain": [
       "             word  count\n",
       "0               ,  35472\n",
       "1             the  30079\n",
       "2               .  28510\n",
       "3              of  16761\n",
       "4              to  16130\n",
       "...           ...    ...\n",
       "37500        amps      1\n",
       "37501       amply      1\n",
       "37502     amplify      1\n",
       "37503  amplifiers      1\n",
       "37504   caseloads      1\n",
       "\n",
       "[37505 rows x 2 columns]"
      ]
     },
     "execution_count": 8,
     "metadata": {},
     "output_type": "execute_result"
    }
   ],
   "source": [
    "word_count_df = X.groupby(by=\"word\", as_index=False).count().sort_values(\n",
    "    by=\"id\", ascending=False\n",
    ").rename(columns={\"id\": \"count\"}).reset_index(drop=True)\n",
    "print(word_count_df[\"count\"].sum())\n",
    "word_count_df"
   ]
  },
  {
   "cell_type": "code",
   "execution_count": 9,
   "metadata": {},
   "outputs": [
    {
     "data": {
      "image/png": "[encoded data removed]",
      "text/plain": [
       "<Figure size 1000x600 with 1 Axes>"
      ]
     },
     "metadata": {},
     "output_type": "display_data"
    }
   ],
   "source": [
    "top_10_words = word_count_df.head(10)\n",
    "\n",
    "# Plotting\n",
    "plt.figure(figsize=(10, 6))\n",
    "plt.bar(top_10_words[\"word\"], top_10_words[\"count\"], color=\"skyblue\")\n",
    "plt.xlabel(\"Words\")\n",
    "plt.ylabel(\"Frequency\")\n",
    "plt.title(\"Top 10 Most Frequent Words\")\n",
    "plt.xticks(rotation=45)\n",
    "plt.show()"
   ]
  },
  {
   "cell_type": "code",
   "execution_count": 10,
   "metadata": {},
   "outputs": [],
   "source": [
    "penn_treebank_tags = [\n",
    "    \"CC\",   # Coordinating conjunction\n",
    "    \"CD\",   # Cardinal number\n",
    "    \"DT\",   # Determiner\n",
    "    \"EX\",   # Existential there\n",
    "    \"FW\",   # Foreign word\n",
    "    \"IN\",   # Preposition or subordinating conjunction\n",
    "    \"JJ\",   # Adjective\n",
    "    \"JJR\",  # Adjective, comparative\n",
    "    \"JJS\",  # Adjective, superlative\n",
    "    \"LS\",   # List item marker\n",
    "    \"MD\",   # Modal\n",
    "    \"NN\",   # Noun, singular or mass\n",
    "    \"NNS\",  # Noun, plural\n",
    "    \"NNP\",  # Proper noun, singular\n",
    "    \"NNPS\", # Proper noun, plural\n",
    "    \"PDT\",  # Predeterminer\n",
    "    \"POS\",  # Possessive ending\n",
    "    \"PRP\",  # Personal pronoun\n",
    "    \"PRP$\", # Possessive pronoun\n",
    "    \"RB\",   # Adverb\n",
    "    \"RBR\",  # Adverb, comparative\n",
    "    \"RBS\",  # Adverb, superlative\n",
    "    \"RP\",   # Particle\n",
    "    \"SYM\",  # Symbol\n",
    "    \"TO\",   # to\n",
    "    \"UH\",   # Interjection\n",
    "    \"VB\",   # Verb, base form\n",
    "    \"VBD\",  # Verb, past tense\n",
    "    \"VBG\",  # Verb, gerund or present participle\n",
    "    \"VBN\",  # Verb, past participle\n",
    "    \"VBP\",  # Verb, non-3rd person singular present\n",
    "    \"VBZ\",  # Verb, 3rd person singular present\n",
    "    \"WDT\",  # Wh-determiner\n",
    "    \"WP\",   # Wh-pronoun\n",
    "    \"WP$\",  # Possessive wh-pronoun\n",
    "    \"WRB\"   # Wh-adverb\n",
    "]\n",
    "outlier_tags = [item for item in list(Y['tag'].unique()) if item not in penn_treebank_tags]"
   ]
  },
  {
   "cell_type": "code",
   "execution_count": 11,
   "metadata": {},
   "outputs": [
    {
     "data": {
      "text/plain": [
       "tag  word    \n",
       "#    #             91\n",
       "$    $           4976\n",
       "     C$            54\n",
       "     US$           51\n",
       "     A$            35\n",
       "                 ... \n",
       "WRB  WHY            2\n",
       "     wherever       1\n",
       "``   ``          5148\n",
       "     `             80\n",
       "     non-``         1\n",
       "Name: count, Length: 43418, dtype: int64"
      ]
     },
     "execution_count": 11,
     "metadata": {},
     "output_type": "execute_result"
    }
   ],
   "source": [
    "grouped = word_with_tag.groupby(by=[\"tag\"]).apply(lambda x: x[\"word\"].value_counts())\n",
    "grouped"
   ]
  },
  {
   "cell_type": "code",
   "execution_count": 13,
   "metadata": {},
   "outputs": [
    {
     "data": {
      "text/plain": [
       "tag\n",
       "NN     96805\n",
       "IN     72097\n",
       "NNP    67431\n",
       "DT     59928\n",
       "JJ     45356\n",
       "Name: count, dtype: int64"
      ]
     },
     "execution_count": 13,
     "metadata": {},
     "output_type": "execute_result"
    }
   ],
   "source": [
    "tag_totals = word_with_tag[\"tag\"].value_counts()\n",
    "tag_totals[:5]"
   ]
  },
  {
   "cell_type": "code",
   "execution_count": 14,
   "metadata": {},
   "outputs": [
    {
     "name": "stdout",
     "output_type": "stream",
     "text": [
      "Normalized data for tag: O\n",
      "{'-DOCSTART-': 1.0}\n",
      "Normalized data for tag: ,\n",
      "{',': 0.9999154334038055, 'Wa': 2.8188865398167723e-05, 'an': 2.8188865398167723e-05, '2': 2.8188865398167723e-05}\n",
      "Normalized data for tag: .\n",
      "{'.': 0.9886604015674307, '?': 0.009605714880188647, '!': 0.001733883552380622}\n",
      "Normalized data for tag: ``\n",
      "{'``': 0.9845094664371773, '`': 0.015299292407726142, 'non-``': 0.00019124115509657678}\n",
      "Normalized data for tag: ''\n",
      "{\"''\": 0.9817825661116553, \"'\": 0.01821743388834476}\n",
      "Normalized data for tag: :\n",
      "{'--': 0.4314269850083287, ':': 0.2670738478622987, ';': 0.24736257634647418, '...': 0.04053303720155469, '-': 0.013603553581343698}\n",
      "Normalized data for tag: $\n",
      "{'$': 0.9709268292682927, 'C$': 0.01053658536585366, 'US$': 0.009951219512195122, 'A$': 0.006829268292682927, 'HK$': 0.0013658536585365853, 'NZ$': 0.0001951219512195122, 'C': 0.0001951219512195122}\n",
      "Normalized data for tag: (\n",
      "{'(': 0.8452497551420176, '{': 0.15475024485798236}\n",
      "Normalized data for tag: )\n",
      "{')': 0.8446601941747572, '}': 0.1553398058252427}\n",
      "Normalized data for tag: #\n",
      "{'#': 1.0}\n"
     ]
    },
    {
     "data": {
      "text/plain": [
       "tag  word\n",
       "#    #       1.000000\n",
       "$    $       0.970927\n",
       "     C$      0.010537\n",
       "     US$     0.009951\n",
       "     A$      0.006829\n",
       "Name: count, dtype: float64"
      ]
     },
     "execution_count": 14,
     "metadata": {},
     "output_type": "execute_result"
    }
   ],
   "source": [
    "normalized = grouped.groupby(level=0).apply(lambda x: x / tag_totals[x.name]).reset_index(level=0, drop=True)\n",
    "# print out words for tags that do not appear in \n",
    "for weird_tag in outlier_tags:\n",
    "  print(f\"Normalized data for tag: {weird_tag}\")\n",
    "  print(normalized.loc[weird_tag].to_dict())\n",
    "\n",
    "normalized.head()"
   ]
  },
  {
   "cell_type": "markdown",
   "metadata": {},
   "source": [
    "### Construct sentences from X_train ###"
   ]
  },
  {
   "cell_type": "code",
   "execution_count": 15,
   "metadata": {},
   "outputs": [],
   "source": [
    "# word_tag_tupl is a list of list of tuples.\n",
    "# NOTE: remove the rows containg the tag: O\n",
    "word_tag_tupl = [item for item in word_tag_tupl if item[0] != \"-DOCSTART-\"]\n",
    "word_tag_tupl = tnt.basic_sent_chop(word_tag_tupl, raw=False)"
   ]
  },
  {
   "cell_type": "code",
   "execution_count": 38,
   "metadata": {},
   "outputs": [
    {
     "data": {
      "text/plain": [
       "[[('Mr.', 'NNP'),\n",
       "  ('Vinken', 'NNP'),\n",
       "  ('is', 'VBZ'),\n",
       "  ('chairman', 'NN'),\n",
       "  ('of', 'IN'),\n",
       "  ('Elsevier', 'NNP'),\n",
       "  ('N.V.', 'NNP'),\n",
       "  (',', ','),\n",
       "  ('the', 'DT'),\n",
       "  ('Dutch', 'NNP'),\n",
       "  ('publishing', 'VBG'),\n",
       "  ('group', 'NN'),\n",
       "  ('.', '.')]]"
      ]
     },
     "execution_count": 38,
     "metadata": {},
     "output_type": "execute_result"
    }
   ],
   "source": [
    "word_tag_tupl[1:2]"
   ]
  },
  {
   "cell_type": "markdown",
   "metadata": {},
   "source": [
    "### Emission probabilities ###\n",
    "This shows that the emission_matrix, or B probabilities, is very sparse"
   ]
  },
  {
   "cell_type": "code",
   "execution_count": 17,
   "metadata": {},
   "outputs": [
    {
     "data": {
      "text/html": [
       "<div>\n",
       "<style scoped>\n",
       "    .dataframe tbody tr th:only-of-type {\n",
       "        vertical-align: middle;\n",
       "    }\n",
       "\n",
       "    .dataframe tbody tr th {\n",
       "        vertical-align: top;\n",
       "    }\n",
       "\n",
       "    .dataframe thead th {\n",
       "        text-align: right;\n",
       "    }\n",
       "</style>\n",
       "<table border=\"1\" class=\"dataframe\">\n",
       "  <thead>\n",
       "    <tr style=\"text-align: right;\">\n",
       "      <th>word</th>\n",
       "      <th>!</th>\n",
       "      <th>#</th>\n",
       "      <th>$</th>\n",
       "      <th>%</th>\n",
       "      <th>&amp;</th>\n",
       "      <th>'</th>\n",
       "      <th>''</th>\n",
       "      <th>'30s</th>\n",
       "      <th>'40s</th>\n",
       "      <th>'50s</th>\n",
       "      <th>...</th>\n",
       "      <th>zlotys</th>\n",
       "      <th>zombies</th>\n",
       "      <th>zone</th>\n",
       "      <th>zones</th>\n",
       "      <th>zoning</th>\n",
       "      <th>zoo</th>\n",
       "      <th>zoology</th>\n",
       "      <th>zoomed</th>\n",
       "      <th>{</th>\n",
       "      <th>}</th>\n",
       "    </tr>\n",
       "    <tr>\n",
       "      <th>tag</th>\n",
       "      <th></th>\n",
       "      <th></th>\n",
       "      <th></th>\n",
       "      <th></th>\n",
       "      <th></th>\n",
       "      <th></th>\n",
       "      <th></th>\n",
       "      <th></th>\n",
       "      <th></th>\n",
       "      <th></th>\n",
       "      <th></th>\n",
       "      <th></th>\n",
       "      <th></th>\n",
       "      <th></th>\n",
       "      <th></th>\n",
       "      <th></th>\n",
       "      <th></th>\n",
       "      <th></th>\n",
       "      <th></th>\n",
       "      <th></th>\n",
       "      <th></th>\n",
       "    </tr>\n",
       "  </thead>\n",
       "  <tbody>\n",
       "    <tr>\n",
       "      <th>#</th>\n",
       "      <td>0.0</td>\n",
       "      <td>1.0</td>\n",
       "      <td>0.000000</td>\n",
       "      <td>0.0</td>\n",
       "      <td>0.0</td>\n",
       "      <td>0.000000</td>\n",
       "      <td>0.000000</td>\n",
       "      <td>0.0</td>\n",
       "      <td>0.0</td>\n",
       "      <td>0.0</td>\n",
       "      <td>...</td>\n",
       "      <td>0.0</td>\n",
       "      <td>0.0</td>\n",
       "      <td>0.0</td>\n",
       "      <td>0.0</td>\n",
       "      <td>0.0</td>\n",
       "      <td>0.0</td>\n",
       "      <td>0.0</td>\n",
       "      <td>0.0</td>\n",
       "      <td>0.00000</td>\n",
       "      <td>0.00000</td>\n",
       "    </tr>\n",
       "    <tr>\n",
       "      <th>$</th>\n",
       "      <td>0.0</td>\n",
       "      <td>0.0</td>\n",
       "      <td>0.970927</td>\n",
       "      <td>0.0</td>\n",
       "      <td>0.0</td>\n",
       "      <td>0.000000</td>\n",
       "      <td>0.000000</td>\n",
       "      <td>0.0</td>\n",
       "      <td>0.0</td>\n",
       "      <td>0.0</td>\n",
       "      <td>...</td>\n",
       "      <td>0.0</td>\n",
       "      <td>0.0</td>\n",
       "      <td>0.0</td>\n",
       "      <td>0.0</td>\n",
       "      <td>0.0</td>\n",
       "      <td>0.0</td>\n",
       "      <td>0.0</td>\n",
       "      <td>0.0</td>\n",
       "      <td>0.00000</td>\n",
       "      <td>0.00000</td>\n",
       "    </tr>\n",
       "    <tr>\n",
       "      <th>''</th>\n",
       "      <td>0.0</td>\n",
       "      <td>0.0</td>\n",
       "      <td>0.000000</td>\n",
       "      <td>0.0</td>\n",
       "      <td>0.0</td>\n",
       "      <td>0.018217</td>\n",
       "      <td>0.981783</td>\n",
       "      <td>0.0</td>\n",
       "      <td>0.0</td>\n",
       "      <td>0.0</td>\n",
       "      <td>...</td>\n",
       "      <td>0.0</td>\n",
       "      <td>0.0</td>\n",
       "      <td>0.0</td>\n",
       "      <td>0.0</td>\n",
       "      <td>0.0</td>\n",
       "      <td>0.0</td>\n",
       "      <td>0.0</td>\n",
       "      <td>0.0</td>\n",
       "      <td>0.00000</td>\n",
       "      <td>0.00000</td>\n",
       "    </tr>\n",
       "    <tr>\n",
       "      <th>(</th>\n",
       "      <td>0.0</td>\n",
       "      <td>0.0</td>\n",
       "      <td>0.000000</td>\n",
       "      <td>0.0</td>\n",
       "      <td>0.0</td>\n",
       "      <td>0.000000</td>\n",
       "      <td>0.000000</td>\n",
       "      <td>0.0</td>\n",
       "      <td>0.0</td>\n",
       "      <td>0.0</td>\n",
       "      <td>...</td>\n",
       "      <td>0.0</td>\n",
       "      <td>0.0</td>\n",
       "      <td>0.0</td>\n",
       "      <td>0.0</td>\n",
       "      <td>0.0</td>\n",
       "      <td>0.0</td>\n",
       "      <td>0.0</td>\n",
       "      <td>0.0</td>\n",
       "      <td>0.15475</td>\n",
       "      <td>0.00000</td>\n",
       "    </tr>\n",
       "    <tr>\n",
       "      <th>)</th>\n",
       "      <td>0.0</td>\n",
       "      <td>0.0</td>\n",
       "      <td>0.000000</td>\n",
       "      <td>0.0</td>\n",
       "      <td>0.0</td>\n",
       "      <td>0.000000</td>\n",
       "      <td>0.000000</td>\n",
       "      <td>0.0</td>\n",
       "      <td>0.0</td>\n",
       "      <td>0.0</td>\n",
       "      <td>...</td>\n",
       "      <td>0.0</td>\n",
       "      <td>0.0</td>\n",
       "      <td>0.0</td>\n",
       "      <td>0.0</td>\n",
       "      <td>0.0</td>\n",
       "      <td>0.0</td>\n",
       "      <td>0.0</td>\n",
       "      <td>0.0</td>\n",
       "      <td>0.00000</td>\n",
       "      <td>0.15534</td>\n",
       "    </tr>\n",
       "  </tbody>\n",
       "</table>\n",
       "<p>5 rows × 37505 columns</p>\n",
       "</div>"
      ],
      "text/plain": [
       "word    !    #         $    %    &         '        ''  '30s  '40s  '50s  ...  \\\n",
       "tag                                                                       ...   \n",
       "#     0.0  1.0  0.000000  0.0  0.0  0.000000  0.000000   0.0   0.0   0.0  ...   \n",
       "$     0.0  0.0  0.970927  0.0  0.0  0.000000  0.000000   0.0   0.0   0.0  ...   \n",
       "''    0.0  0.0  0.000000  0.0  0.0  0.018217  0.981783   0.0   0.0   0.0  ...   \n",
       "(     0.0  0.0  0.000000  0.0  0.0  0.000000  0.000000   0.0   0.0   0.0  ...   \n",
       ")     0.0  0.0  0.000000  0.0  0.0  0.000000  0.000000   0.0   0.0   0.0  ...   \n",
       "\n",
       "word  zlotys  zombies  zone  zones  zoning  zoo  zoology  zoomed        {  \\\n",
       "tag                                                                         \n",
       "#        0.0      0.0   0.0    0.0     0.0  0.0      0.0     0.0  0.00000   \n",
       "$        0.0      0.0   0.0    0.0     0.0  0.0      0.0     0.0  0.00000   \n",
       "''       0.0      0.0   0.0    0.0     0.0  0.0      0.0     0.0  0.00000   \n",
       "(        0.0      0.0   0.0    0.0     0.0  0.0      0.0     0.0  0.15475   \n",
       ")        0.0      0.0   0.0    0.0     0.0  0.0      0.0     0.0  0.00000   \n",
       "\n",
       "word        }  \n",
       "tag            \n",
       "#     0.00000  \n",
       "$     0.00000  \n",
       "''    0.00000  \n",
       "(     0.00000  \n",
       ")     0.15534  \n",
       "\n",
       "[5 rows x 37505 columns]"
      ]
     },
     "execution_count": 17,
     "metadata": {},
     "output_type": "execute_result"
    }
   ],
   "source": [
    "emission_mx = normalized.unstack(level=1).fillna(0)\n",
    "emission_mx.head()"
   ]
  },
  {
   "cell_type": "code",
   "execution_count": 18,
   "metadata": {},
   "outputs": [],
   "source": [
    "emission_probs = emission_mx.to_dict()"
   ]
  },
  {
   "cell_type": "code",
   "execution_count": 37,
   "metadata": {},
   "outputs": [
    {
     "data": {
      "text/plain": [
       "0.01524311476256911"
      ]
     },
     "execution_count": 37,
     "metadata": {},
     "output_type": "execute_result"
    }
   ],
   "source": [
    "emission_probs['buy']['VB']"
   ]
  },
  {
   "cell_type": "code",
   "execution_count": 46,
   "metadata": {},
   "outputs": [],
   "source": [
    "hi = word_with_tag.groupby(by=\"word\")['tag'].unique()\n",
    "word_tag_dict = {k: list(v) for k, v in hi.to_dict().items()}"
   ]
  },
  {
   "cell_type": "code",
   "execution_count": 48,
   "metadata": {},
   "outputs": [
    {
     "data": {
      "text/plain": [
       "['NN', 'VB', 'VBP']"
      ]
     },
     "execution_count": 48,
     "metadata": {},
     "output_type": "execute_result"
    }
   ],
   "source": [
    "word_tag_dict['work']"
   ]
  },
  {
   "cell_type": "markdown",
   "metadata": {},
   "source": [
    "### Transition probabilities ###"
   ]
  },
  {
   "cell_type": "code",
   "execution_count": 20,
   "metadata": {},
   "outputs": [],
   "source": [
    "def process_ngrams(sentences):\n",
    "    # Initialize counters\n",
    "    unigram_counts = defaultdict(int)\n",
    "    bigram_counts = defaultdict(int)\n",
    "    trigram_counts = defaultdict(int)\n",
    "\n",
    "    # Process the sentences\n",
    "    for sentence in sentences:\n",
    "        tags = [tag for _, tag in sentence]\n",
    "\n",
    "        # Add start and end tags\n",
    "        padded_tags = [\"START\", \"START\"] + tags + [\"END\"]\n",
    "\n",
    "        # Count unigrams\n",
    "        for tag in padded_tags:\n",
    "            unigram_counts[tag] += 1\n",
    "\n",
    "        # Count bigrams\n",
    "        for bigram in zip(padded_tags, padded_tags[1:]):\n",
    "            bigram_counts[bigram] += 1\n",
    "\n",
    "        # Count trigrams\n",
    "        for trigram in zip(padded_tags, padded_tags[1:], padded_tags[2:]):\n",
    "            trigram_counts[trigram] += 1\n",
    "\n",
    "    return unigram_counts, bigram_counts, trigram_counts\n"
   ]
  },
  {
   "cell_type": "code",
   "execution_count": 21,
   "metadata": {},
   "outputs": [],
   "source": [
    "# Calculate probabilities: q(s|u, v) = c(u, v, s) / c(u, v)\n",
    "def calculate_probabilities(unigram_counts, bigram_counts, trigram_counts):\n",
    "    bigram_probabilities = {}\n",
    "    trigram_probabilities = {}\n",
    "\n",
    "    # Calculate bigram probabilities\n",
    "    for (t1, t2), count in bigram_counts.items():\n",
    "        bigram_probabilities[(t1, t2)] = count / unigram_counts[t1]\n",
    "\n",
    "    # Calculate trigram probabilities\n",
    "    for (t1, t2, t3), count in trigram_counts.items():\n",
    "        trigram_probabilities[(t1, t2, t3)] = count / bigram_counts[(t1, t2)]\n",
    "\n",
    "    return bigram_probabilities, trigram_probabilities\n",
    "\n",
    "unigram_counts, bigram_counts, trigram_counts = process_ngrams(word_tag_tupl)\n",
    "bigram_probabilities, trigram_probabilities = calculate_probabilities(\n",
    "    unigram_counts, bigram_counts, trigram_counts\n",
    ")"
   ]
  },
  {
   "cell_type": "code",
   "execution_count": 32,
   "metadata": {},
   "outputs": [],
   "source": [
    "def deleted_interpolation(trigram_counts, bigram_counts, unigram_counts):\n",
    "    lambda1 = lambda2 = lambda3 = 0\n",
    "    \n",
    "    N = max(unigram_counts.values())\n",
    "\n",
    "    for (t1, t2, t3), count in trigram_counts.items():\n",
    "        if count > 0:\n",
    "            case1 = (count - 1) / (bigram_counts[(t1, t2)] - 1) if bigram_counts[(t1, t2)] > 1 else 0\n",
    "            case2 = (bigram_counts[(t2, t3)] - 1) / (unigram_counts[t2] - 1) if unigram_counts[t2] > 1 else 0\n",
    "            case3 = (unigram_counts[t3] - 1) / (N - 1) if N > 1 else 0\n",
    "\n",
    "            max_case = max(case1, case2, case3)\n",
    "\n",
    "            if max_case == case1:\n",
    "                lambda3 += count\n",
    "            elif max_case == case2:\n",
    "                lambda2 += count\n",
    "            else:\n",
    "                lambda1 += count\n",
    "\n",
    "    total = lambda1 + lambda2 + lambda3\n",
    "    lambda1 /= total\n",
    "    lambda2 /= total\n",
    "    lambda3 /= total\n",
    "\n",
    "    return lambda1, lambda2, lambda3"
   ]
  },
  {
   "cell_type": "code",
   "execution_count": 52,
   "metadata": {},
   "outputs": [
    {
     "name": "stdout",
     "output_type": "stream",
     "text": [
      "l1: 0.8484580585005352, l2: 0.01709707497323618, l3: 0.13444486652622856\n"
     ]
    }
   ],
   "source": [
    "lambda1, lambda2, lambda3 = deleted_interpolation(\n",
    "    trigram_counts, bigram_counts, unigram_counts\n",
    ")\n",
    "print(f\"l1: {lambda1}, l2: {lambda2}, l3: {lambda3}\")"
   ]
  },
  {
   "cell_type": "code",
   "execution_count": 73,
   "metadata": {},
   "outputs": [
    {
     "name": "stdout",
     "output_type": "stream",
     "text": [
      "First 5 Bigram Probabilities:\n",
      "P(START|START) = 0.5000\n",
      "P(NNP|START) = 0.0927\n",
      "P(NNP|NNP) = 0.3772\n",
      "P(,|NNP) = 0.1381\n",
      "P(CD|,) = 0.0217\n",
      "\n",
      "First 5 Trigram Probabilities:\n",
      "P(NNP|START, START) = 0.1855\n",
      "P(NNP|START, NNP) = 0.5954\n",
      "P(,|NNP, NNP) = 0.2014\n",
      "P(CD|NNP, ,) = 0.0260\n",
      "P(NNS|,, CD) = 0.1699\n"
     ]
    }
   ],
   "source": [
    "from itertools import islice\n",
    "\n",
    "\n",
    "print(\"First 5 Bigram Probabilities:\")\n",
    "for (t1, t2), prob in islice(bigram_probabilities.items(), 5):\n",
    "    print(f\"P({t2}|{t1}) = {prob:.4f}\")\n",
    "\n",
    "print(\"\\nFirst 5 Trigram Probabilities:\")\n",
    "for (t1, t2, t3), prob in islice(trigram_probabilities.items(), 5):\n",
    "    print(f\"P({t3}|{t1}, {t2}) = {prob:.4f}\")"
   ]
  },
  {
   "cell_type": "markdown",
   "metadata": {},
   "source": [
    "### Viterbi ###"
   ]
  },
  {
   "cell_type": "code",
   "execution_count": 136,
   "metadata": {},
   "outputs": [
    {
     "name": "stdout",
     "output_type": "stream",
     "text": [
      "['O', 'NNP', ',', 'CD', 'NNS', 'JJ', 'MD', 'VB', 'DT', 'NN', 'IN', '.', 'VBZ', 'VBG', 'CC', 'VBD', 'VBN', 'RB', 'TO', 'PRP', 'RBR', 'WDT', 'VBP', 'RP', 'PRP$', 'JJS', 'POS', '``', 'EX', \"''\", 'WP', ':', 'JJR', 'WRB', '$', 'NNPS', 'WP$', '(', ')', 'PDT', 'RBS', 'FW', 'UH', 'SYM', 'LS', '#', 'START', 'END', 'UNK']\n"
     ]
    }
   ],
   "source": [
    "import numpy as np\n",
    "\n",
    "PTB_TAGS = list(Y[\"tag\"].unique())\n",
    "PTB_TAGS.append(\"START\")\n",
    "PTB_TAGS.append(\"END\")\n",
    "PTB_TAGS.append(\"UNK\")\n",
    "print(PTB_TAGS)\n",
    "\n",
    "NUM_TAGS = len(PTB_TAGS)\n",
    "TAG_TO_IDX = {tag: idx for idx, tag in enumerate(PTB_TAGS)}\n",
    "\n",
    "\n",
    "def viterbi(\n",
    "    sentence,\n",
    "    unigram_counts,\n",
    "    bigram_probabilities,\n",
    "    trigram_probabilities,\n",
    "    emission_probs,\n",
    "    lambda1,\n",
    "    lambda2,\n",
    "    lambda3,\n",
    "):\n",
    "    T = len(sentence)\n",
    "    # Initialize trellis and backpointers\n",
    "    trellis = np.full((NUM_TAGS, NUM_TAGS, T + 1), -np.inf)\n",
    "    backpointers = np.zeros((NUM_TAGS, NUM_TAGS, T + 1), dtype=int)\n",
    "\n",
    "    # Initialization: Set π(0, START, START) = 0 (in log space)\n",
    "    start_idx = TAG_TO_IDX[\"START\"]\n",
    "    trellis[start_idx, start_idx, 0] = 0\n",
    "\n",
    "    # Fill in the rest of the trellis\n",
    "    for t in range(1, T + 1):\n",
    "        word = sentence[t - 1]\n",
    "        #print(f\"current word is {word}\")\n",
    "        is_unknown = word not in emission_probs\n",
    "        if is_unknown:\n",
    "            print(f\"Word '{word}' not found in training corpus. Treating as UNK.\")\n",
    "            emission_probs[word] = {tag: 1e-10 for tag in PTB_TAGS}\n",
    "\n",
    "        for u in range(NUM_TAGS):\n",
    "            for v in range(NUM_TAGS):\n",
    "                if is_unknown:\n",
    "                    # Copy over previous time step's values for UNK tag cells\n",
    "                    if PTB_TAGS[v] == 'UNK':\n",
    "                        max_log_prob = trellis[u, TAG_TO_IDX['UNK'], t - 1]\n",
    "                        max_w = TAG_TO_IDX['UNK']\n",
    "                    else:\n",
    "                        max_log_prob = -np.inf\n",
    "                        max_w = -1\n",
    "                else:\n",
    "                    max_log_prob = -np.inf\n",
    "                    max_w = -1\n",
    "                    for w in range(NUM_TAGS):\n",
    "                        trans_prob = (\n",
    "                            lambda1 * trigram_probabilities.get((PTB_TAGS[w], PTB_TAGS[u], PTB_TAGS[v]), 1e-10)\n",
    "                            + lambda2 * bigram_probabilities.get((PTB_TAGS[u], PTB_TAGS[v]), 1e-10)\n",
    "                            + lambda3 * unigram_counts.get((PTB_TAGS[v]), 1e-10)\n",
    "                        )\n",
    "                        emis_prob = emission_probs[word].get(PTB_TAGS[v], 1e-10)\n",
    "                        log_prob = (\n",
    "                            trellis[w, u, t - 1]\n",
    "                            + np.log(trans_prob)\n",
    "                            + np.log(emis_prob)\n",
    "                        )\n",
    "                        if log_prob > max_log_prob:\n",
    "                            max_log_prob = log_prob\n",
    "                            max_w = w\n",
    "                trellis[u, v, t] = max_log_prob\n",
    "                backpointers[u, v, t] = max_w\n",
    "\n",
    "    # Find the best path\n",
    "    best_path = []\n",
    "    max_log_prob = -np.inf\n",
    "    max_u, max_v = -1, -1\n",
    "    for u in range(NUM_TAGS):\n",
    "        for v in range(NUM_TAGS):\n",
    "            log_prob = trellis[u, v, T] + np.log(\n",
    "                trigram_probabilities.get((PTB_TAGS[u], PTB_TAGS[v], \"END\"), 1e-10)\n",
    "            )\n",
    "            if log_prob > max_log_prob:\n",
    "                max_log_prob = log_prob\n",
    "                max_u, max_v = u, v\n",
    "\n",
    "    # Backtrack to find the best path\n",
    "    best_path.append(PTB_TAGS[max_v])\n",
    "    best_path.append(PTB_TAGS[max_u])\n",
    "    for t in range(T, 1, -1):\n",
    "        max_w = backpointers[max_u, max_v, t]\n",
    "        best_path.append(PTB_TAGS[max_w])\n",
    "        max_u, max_v = max_w, max_u\n",
    "\n",
    "    # Reverse the best path to get it in the correct order\n",
    "    best_path = list(reversed(best_path))\n",
    "    return best_path"
   ]
  },
  {
   "cell_type": "markdown",
   "metadata": {},
   "source": [
    "### Testing ###"
   ]
  },
  {
   "cell_type": "code",
   "execution_count": 133,
   "metadata": {},
   "outputs": [
    {
     "data": {
      "text/html": [
       "<div>\n",
       "<style scoped>\n",
       "    .dataframe tbody tr th:only-of-type {\n",
       "        vertical-align: middle;\n",
       "    }\n",
       "\n",
       "    .dataframe tbody tr th {\n",
       "        vertical-align: top;\n",
       "    }\n",
       "\n",
       "    .dataframe thead th {\n",
       "        text-align: right;\n",
       "    }\n",
       "</style>\n",
       "<table border=\"1\" class=\"dataframe\">\n",
       "  <thead>\n",
       "    <tr style=\"text-align: right;\">\n",
       "      <th></th>\n",
       "      <th>id</th>\n",
       "      <th>word</th>\n",
       "    </tr>\n",
       "  </thead>\n",
       "  <tbody>\n",
       "    <tr>\n",
       "      <th>0</th>\n",
       "      <td>0</td>\n",
       "      <td>-DOCSTART-</td>\n",
       "    </tr>\n",
       "    <tr>\n",
       "      <th>1</th>\n",
       "      <td>1</td>\n",
       "      <td>Following</td>\n",
       "    </tr>\n",
       "    <tr>\n",
       "      <th>2</th>\n",
       "      <td>2</td>\n",
       "      <td>is</td>\n",
       "    </tr>\n",
       "    <tr>\n",
       "      <th>3</th>\n",
       "      <td>3</td>\n",
       "      <td>a</td>\n",
       "    </tr>\n",
       "    <tr>\n",
       "      <th>4</th>\n",
       "      <td>4</td>\n",
       "      <td>weekly</td>\n",
       "    </tr>\n",
       "  </tbody>\n",
       "</table>\n",
       "</div>"
      ],
      "text/plain": [
       "   id        word\n",
       "0   0  -DOCSTART-\n",
       "1   1   Following\n",
       "2   2          is\n",
       "3   3           a\n",
       "4   4      weekly"
      ]
     },
     "execution_count": 133,
     "metadata": {},
     "output_type": "execute_result"
    }
   ],
   "source": [
    "X_DEV = pd.read_csv(\"data/dev_x.csv\", na_filter=False)\n",
    "Y_DEV = pd.read_csv(\"data/dev_y.csv\")\n",
    "X_DEV.head()"
   ]
  },
  {
   "cell_type": "code",
   "execution_count": 134,
   "metadata": {},
   "outputs": [
    {
     "name": "stdout",
     "output_type": "stream",
     "text": [
      "[['Following', 'is', 'a', 'weekly', 'listing', 'of', 'unadited', 'net', 'asset', 'values', 'of', 'publicly', 'traded', 'investment', 'fund', 'shares', ',', 'reported', 'by', 'the', 'companies', 'as', 'of', 'Friday', \"'s\", 'close', '.'], ['Also', 'shown', 'is', 'the', 'closing', 'listed', 'market', 'price', 'or', 'a', 'dealer-to-dealer', 'asked', 'price', 'of', 'each', 'fund', \"'s\", 'shares', ',', 'with', 'the', 'percentage', 'of', 'difference', '.'], ['Closed', 'End', 'Bond', 'Funds', 'Flexible', 'Portfolio', 'Funds', 'Specialized', 'Equity', 'and', 'Convertible', 'Funds', 'a', '-', 'Ex-dividend', '.'], ['b', '-', 'As', 'of', 'Thursday', \"'s\", 'close', '.'], ['c', '-', 'Translated', 'at', 'Commercial', 'Rand', 'exchange', 'rate', '.']]\n",
      "[['VBG', 'VBZ', 'DT', 'JJ', 'NN', 'IN', 'JJ', 'JJ', 'NN', 'NNS', 'IN', 'RB', 'JJ', 'NN', 'NN', 'NNS', ',', 'VBN', 'IN', 'DT', 'NNS', 'IN', 'IN', 'NNP', 'POS', 'NN', '.'], ['RB', 'VBN', 'VBZ', 'DT', 'NN', 'JJ', 'NN', 'NN', 'CC', 'DT', 'JJ', 'JJ', 'NN', 'IN', 'DT', 'NN', 'POS', 'NNS', ',', 'IN', 'DT', 'NN', 'IN', 'NN', '.'], ['NNP', 'NNP', 'NNP', 'NNPS', 'NNP', 'NNP', 'NNPS', 'NNP', 'NNP', 'CC', 'NNP', 'NNPS', 'SYM', ':', 'NN', '.'], ['SYM', ':', 'IN', 'IN', 'NNP', 'POS', 'NN', '.'], ['SYM', ':', 'VBN', 'IN', 'NNP', 'NNP', 'NN', 'NN', '.']]\n"
     ]
    }
   ],
   "source": [
    "merged_dev = X_DEV.merge(Y_DEV, on=\"id\")[['word', 'tag']]\n",
    "merged_dev_no_docstart = merged_dev[merged_dev[\"tag\"] != \"O\"]\n",
    "data = tnt.basic_sent_chop(\n",
    "    list(merged_dev_no_docstart[[\"word\", \"tag\"]].itertuples(index=False, name=None)), raw=False\n",
    ")\n",
    "x_test = []\n",
    "y_test = []\n",
    "\n",
    "for sublist in data:\n",
    "    tokens = []\n",
    "    tags = []\n",
    "    for token, tag in sublist:\n",
    "        tokens.append(token)\n",
    "        tags.append(tag)\n",
    "    x_test.append(tokens)\n",
    "    y_test.append(tags)\n",
    "print(x_test[:5])\n",
    "print(y_test[:5])"
   ]
  },
  {
   "cell_type": "markdown",
   "metadata": {},
   "source": [
    "### Metric ###"
   ]
  },
  {
   "cell_type": "code",
   "execution_count": 131,
   "metadata": {},
   "outputs": [
    {
     "name": "stdout",
     "output_type": "stream",
     "text": [
      "current word is abc\n",
      "current word is def\n",
      "current word is I\n"
     ]
    },
    {
     "name": "stderr",
     "output_type": "stream",
     "text": [
      "/var/folders/qh/rrvm0zvs2jg1wtj1pwtyd71m0000gn/T/ipykernel_22543/435535241.py:64: RuntimeWarning: divide by zero encountered in log\n",
      "  + np.log(emis_prob)\n"
     ]
    },
    {
     "name": "stdout",
     "output_type": "stream",
     "text": [
      "current word is love\n",
      "current word is you\n"
     ]
    },
    {
     "data": {
      "text/plain": [
       "['START', 'NN', 'NN', 'PRP', 'NN', 'PRP']"
      ]
     },
     "execution_count": 131,
     "metadata": {},
     "output_type": "execute_result"
    }
   ],
   "source": [
    "def compute_accuracy(predicted_tags, expected_tags):\n",
    "    correct = sum(p == e for p, e in zip(predicted_tags, expected_tags))\n",
    "    total = len(expected_tags)\n",
    "    accuracy = correct / total\n",
    "    return accuracy\n",
    "\n",
    "sentence = \"abc def I love you\"\n",
    "my_lst = sentence.split(\" \")\n",
    "predicted = viterbi(\n",
    "    my_lst,\n",
    "    unigram_counts,\n",
    "    bigram_probabilities,\n",
    "    trigram_probabilities,\n",
    "    emission_probs,\n",
    "    lambda1,\n",
    "    lambda2,\n",
    "    lambda3,\n",
    ")\n",
    "predicted"
   ]
  },
  {
   "cell_type": "code",
   "execution_count": 137,
   "metadata": {},
   "outputs": [
    {
     "name": "stderr",
     "output_type": "stream",
     "text": [
      "Processing sentences:   0%|          | 0/126 [00:00<?, ?it/s]/var/folders/qh/rrvm0zvs2jg1wtj1pwtyd71m0000gn/T/ipykernel_22543/3653745714.py:64: RuntimeWarning: divide by zero encountered in log\n",
      "  + np.log(emis_prob)\n",
      "Processing sentences:  11%|█         | 14/126 [01:35<16:53,  9.05s/it]"
     ]
    }
   ],
   "source": [
    "def compute_overall_accuracy(\n",
    "    x_test,\n",
    "    y_test,\n",
    "    start=0,\n",
    "    end=None,\n",
    "):\n",
    "    if end is None:\n",
    "        end = len(x_test)\n",
    "\n",
    "    total_correct = 0\n",
    "    total_tags = 0\n",
    "\n",
    "    for i in tqdm(range(start, end), desc=\"Processing sentences\"):\n",
    "        predicted = viterbi(\n",
    "            x_test[i],\n",
    "            unigram_counts,\n",
    "            bigram_probabilities,\n",
    "            trigram_probabilities,\n",
    "            emission_probs,\n",
    "            lambda1,\n",
    "            lambda2,\n",
    "            lambda3,\n",
    "        )\n",
    "        expected = y_test[i]\n",
    "        total_correct += sum(p == e for p, e in zip(predicted[1:], expected))\n",
    "        total_tags += len(expected)\n",
    "\n",
    "    overall_accuracy = total_correct / total_tags if total_tags > 0 else 0\n",
    "    return overall_accuracy\n",
    "\n",
    "\n",
    "overall_accuracy = compute_overall_accuracy(\n",
    "    x_test,\n",
    "    y_test,\n",
    "    start=197, end=323\n",
    ")\n",
    "print(f\"Overall Accuracy is {overall_accuracy}\")"
   ]
  },
  {
   "cell_type": "markdown",
   "metadata": {},
   "source": [
    "### NLTK ###"
   ]
  },
  {
   "cell_type": "code",
   "execution_count": 15,
   "metadata": {},
   "outputs": [
    {
     "name": "stderr",
     "output_type": "stream",
     "text": [
      "[nltk_data] Downloading package treebank to /Users/tindo/nltk_data...\n",
      "[nltk_data]   Package treebank is already up-to-date!\n",
      "[nltk_data] Downloading package brown to /Users/tindo/nltk_data...\n",
      "[nltk_data]   Package brown is already up-to-date!\n"
     ]
    },
    {
     "data": {
      "text/plain": [
       "True"
      ]
     },
     "execution_count": 15,
     "metadata": {},
     "output_type": "execute_result"
    }
   ],
   "source": [
    "import nltk\n",
    "nltk.download('treebank')\n",
    "nltk.download(\"brown\")"
   ]
  },
  {
   "cell_type": "code",
   "execution_count": 2,
   "metadata": {},
   "outputs": [
    {
     "name": "stdout",
     "output_type": "stream",
     "text": [
      "0.8859315589353612\n"
     ]
    }
   ],
   "source": [
    "from nltk.tag import PerceptronTagger\n",
    "from nltk.corpus import treebank\n",
    "from nltk.corpus import brown\n",
    "tagger = PerceptronTagger()\n",
    "gold_data = treebank.tagged_sents()[10:20]\n",
    "print(tagger.accuracy(gold_data))"
   ]
  },
  {
   "cell_type": "code",
   "execution_count": 18,
   "metadata": {},
   "outputs": [
    {
     "data": {
      "text/plain": [
       "<ConditionalFreqDist with 46 conditions>"
      ]
     },
     "execution_count": 18,
     "metadata": {},
     "output_type": "execute_result"
    }
   ],
   "source": [
    "wsj = nltk.corpus.treebank.tagged_words()\n",
    "cfd1 = nltk.ConditionalFreqDist(wsj)\n",
    "cfd2 = nltk.ConditionalFreqDist(tag_word_tupl)\n",
    "cfd2"
   ]
  },
  {
   "cell_type": "code",
   "execution_count": 19,
   "metadata": {},
   "outputs": [
    {
     "data": {
      "text/plain": [
       "FreqDist({'be': 2703, 'have': 786, 'make': 382, 'buy': 295, 'sell': 284, 'get': 279, 'take': 263, 'do': 232, 'pay': 198, 'yield': 171, ...})"
      ]
     },
     "execution_count": 19,
     "metadata": {},
     "output_type": "execute_result"
    }
   ],
   "source": [
    "cfd2[\"VB\"]"
   ]
  },
  {
   "cell_type": "code",
   "execution_count": 33,
   "metadata": {},
   "outputs": [
    {
     "data": {
      "text/plain": [
       "0.01524311476256911"
      ]
     },
     "execution_count": 33,
     "metadata": {},
     "output_type": "execute_result"
    }
   ],
   "source": [
    "cfd2[\"VB\"].freq(\"buy\")"
   ]
  },
  {
   "cell_type": "code",
   "execution_count": null,
   "metadata": {},
   "outputs": [],
   "source": [
    "trigram_counter = dict(nltk.FreqDist(nltk.trigrams(list(X[\"word\"].values))))\n",
    "bigram_counter = dict(nltk.FreqDist(nltk.bigrams(list(X[\"word\"].values))))\n",
    "transition_probs = {key: val / bigram_counter[key[:2]] for key, val in trigram_counter.items()}\n",
    "transition_probs"
   ]
  },
  {
   "cell_type": "code",
   "execution_count": 40,
   "metadata": {},
   "outputs": [
    {
     "name": "stderr",
     "output_type": "stream",
     "text": [
      "/var/folders/qh/rrvm0zvs2jg1wtj1pwtyd71m0000gn/T/ipykernel_98796/267290831.py:8: DeprecationWarning: \n",
      "  Function evaluate() has been deprecated.  Use accuracy(gold)\n",
      "  instead.\n",
      "  bigram_tagger.evaluate(test_sents)\n"
     ]
    },
    {
     "data": {
      "text/plain": [
       "[[('The', 'AT'), ('Fulton', 'NP-TL'), ('County', 'NN-TL'), ('Grand', 'JJ-TL'), ('Jury', 'NN-TL'), ('said', 'VBD'), ('Friday', 'NR'), ('an', 'AT'), ('investigation', 'NN'), ('of', 'IN'), (\"Atlanta's\", 'NP$'), ('recent', 'JJ'), ('primary', 'NN'), ('election', 'NN'), ('produced', 'VBD'), ('``', '``'), ('no', 'AT'), ('evidence', 'NN'), (\"''\", \"''\"), ('that', 'CS'), ('any', 'DTI'), ('irregularities', 'NNS'), ('took', 'VBD'), ('place', 'NN'), ('.', '.')], [('The', 'AT'), ('jury', 'NN'), ('further', 'RBR'), ('said', 'VBD'), ('in', 'IN'), ('term-end', 'NN'), ('presentments', 'NNS'), ('that', 'CS'), ('the', 'AT'), ('City', 'NN-TL'), ('Executive', 'JJ-TL'), ('Committee', 'NN-TL'), (',', ','), ('which', 'WDT'), ('had', 'HVD'), ('over-all', 'JJ'), ('charge', 'NN'), ('of', 'IN'), ('the', 'AT'), ('election', 'NN'), (',', ','), ('``', '``'), ('deserves', 'VBZ'), ('the', 'AT'), ('praise', 'NN'), ('and', 'CC'), ('thanks', 'NNS'), ('of', 'IN'), ('the', 'AT'), ('City', 'NN-TL'), ('of', 'IN-TL'), ('Atlanta', 'NP-TL'), (\"''\", \"''\"), ('for', 'IN'), ('the', 'AT'), ('manner', 'NN'), ('in', 'IN'), ('which', 'WDT'), ('the', 'AT'), ('election', 'NN'), ('was', 'BEDZ'), ('conducted', 'VBN'), ('.', '.')], ...]"
      ]
     },
     "execution_count": 40,
     "metadata": {},
     "output_type": "execute_result"
    }
   ],
   "source": [
    "from nltk.corpus import brown\n",
    "\n",
    "brown_tagged_sents = brown.tagged_sents(categories=\"news\")\n",
    "size = int(len(brown_tagged_sents) * 0.9)\n",
    "train_sents = brown_tagged_sents[:size]\n",
    "test_sents = brown_tagged_sents[size:]\n",
    "bigram_tagger = nltk.TrigramTagger(train_sents)\n",
    "bigram_tagger.evaluate(test_sents)\n",
    "train_sents"
   ]
  },
  {
   "cell_type": "code",
   "execution_count": 22,
   "metadata": {},
   "outputs": [
    {
     "name": "stderr",
     "output_type": "stream",
     "text": [
      "/var/folders/qh/rrvm0zvs2jg1wtj1pwtyd71m0000gn/T/ipykernel_98796/142853021.py:5: DeprecationWarning: \n",
      "  Function evaluate() has been deprecated.  Use accuracy(gold)\n",
      "  instead.\n",
      "  t3.evaluate(test_sents)\n"
     ]
    },
    {
     "data": {
      "text/plain": [
       "0.843317053722715"
      ]
     },
     "execution_count": 22,
     "metadata": {},
     "output_type": "execute_result"
    }
   ],
   "source": [
    "t0 = nltk.DefaultTagger('NN')\n",
    "t1 = nltk.UnigramTagger(train_sents, backoff=t0)\n",
    "t2 = nltk.BigramTagger(train_sents, backoff=t1)\n",
    "t3 = nltk.TrigramTagger(train_sents, backoff=t2)\n",
    "t3.evaluate(test_sents)"
   ]
  },
  {
   "cell_type": "code",
   "execution_count": 13,
   "metadata": {},
   "outputs": [
    {
     "name": "stdout",
     "output_type": "stream",
     "text": [
      "{('VERB', False): 2818, ('ADJ', False): 1184, ('NOUN', False): 5216, ('.', False): 1767, ('DET', False): 2119, ('ADV', False): 512, ('ADP', False): 2244, ('PRON', False): 454, ('PRT', False): 412, ('CONJ', False): 396, ('NUM', False): 330, ('X', False): 6}\n",
      "{('BOS', False): FreqDist({('DET', False): 215, ('NOUN', False): 207, ('PRON', False): 85, ('.', False): 77, ('ADP', False): 57, ('VERB', False): 42, ('ADJ', False): 33, ('ADV', False): 27, ('CONJ', False): 27, ('NUM', False): 17, ...}), ('VERB', False): FreqDist({('VERB', False): 626, ('DET', False): 485, ('ADP', False): 472, ('NOUN', False): 376, ('ADV', False): 200, ('.', False): 196, ('PRT', False): 162, ('ADJ', False): 133, ('PRON', False): 86, ('NUM', False): 33, ...}), ('ADJ', False): FreqDist({('NOUN', False): 859, ('ADP', False): 79, ('ADJ', False): 69, ('.', False): 55, ('PRT', False): 33, ('CONJ', False): 31, ('NUM', False): 19, ('VERB', False): 19, ('DET', False): 5, ('ADV', False): 5, ...}), ('.', False): FreqDist({('NOUN', False): 190, ('.', False): 157, ('DET', False): 140, ('VERB', False): 134, ('ADP', False): 113, ('PRON', False): 101, ('CONJ', False): 75, ('ADJ', False): 56, ('ADV', False): 44, ('PRT', False): 26, ...}), ('DET', False): FreqDist({('NOUN', False): 1371, ('ADJ', False): 474, ('VERB', False): 132, ('NUM', False): 41, ('.', False): 26, ('ADV', False): 25, ('ADP', False): 23, ('PRON', False): 13, ('DET', False): 10, ('PRT', False): 3, ...}), ('NOUN', False): FreqDist({('NOUN', False): 1297, ('ADP', False): 1268, ('.', False): 1111, ('VERB', False): 786, ('CONJ', False): 217, ('PRT', False): 121, ('ADV', False): 93, ('ADJ', False): 82, ('DET', False): 81, ('PRON', False): 63, ...}), ('ADV', False): FreqDist({('VERB', False): 187, ('ADP', False): 73, ('ADJ', False): 65, ('ADV', False): 44, ('.', False): 40, ('DET', False): 33, ('NOUN', False): 21, ('PRON', False): 15, ('PRT', False): 15, ('NUM', False): 11, ...}), ('ADP', False): FreqDist({('DET', False): 1047, ('NOUN', False): 612, ('ADJ', False): 179, ('NUM', False): 120, ('VERB', False): 117, ('PRON', False): 61, ('ADP', False): 49, ('ADV', False): 23, ('PRT', False): 17, ('.', False): 16, ...}), ('PRON', False): FreqDist({('VERB', False): 371, ('.', False): 27, ('ADP', False): 18, ('ADV', False): 18, ('PRON', False): 4, ('ADJ', False): 4, ('PRT', False): 4, ('DET', False): 4, ('CONJ', False): 3, ('NOUN', False): 1}), ('PRT', False): FreqDist({('VERB', False): 308, ('DET', False): 30, ('ADP', False): 27, ('NOUN', False): 16, ('.', False): 14, ('ADV', False): 9, ('ADJ', False): 3, ('PRT', False): 3, ('CONJ', False): 1, ('PRON', False): 1}), ('CONJ', False): FreqDist({('NOUN', False): 115, ('VERB', False): 78, ('DET', False): 66, ('ADJ', False): 55, ('ADP', False): 26, ('ADV', False): 18, ('PRON', False): 18, ('PRT', False): 12, ('NUM', False): 4, ('.', False): 4}), ('NUM', False): FreqDist({('NOUN', False): 149, ('.', False): 43, ('ADP', False): 39, ('ADJ', False): 31, ('VERB', False): 18, ('NUM', False): 15, ('CONJ', False): 6, ('ADV', False): 6, ('PRON', False): 5, ('DET', False): 3, ...}), ('X', False): FreqDist({('X', False): 3, ('NOUN', False): 2, ('.', False): 1})}\n",
      "{(('BOS', False), ('BOS', False)): FreqDist({('DET', False): 215, ('NOUN', False): 207, ('PRON', False): 85, ('.', False): 77, ('ADP', False): 57, ('VERB', False): 42, ('ADJ', False): 33, ('ADV', False): 27, ('CONJ', False): 27, ('NUM', False): 17, ...}), (('BOS', False), ('VERB', False)): FreqDist({('NOUN', False): 16, ('ADP', False): 10, ('DET', False): 5, ('ADJ', False): 4, ('VERB', False): 3, ('PRT', False): 2, ('NUM', False): 1, ('ADV', False): 1}), (('VERB', False), ('ADJ', False)): FreqDist({('NOUN', False): 63, ('ADP', False): 30, ('PRT', False): 18, ('CONJ', False): 5, ('.', False): 4, ('ADJ', False): 4, ('VERB', False): 2, ('DET', False): 2, ('ADV', False): 2, ('NUM', False): 1, ...}), (('BOS', False), ('.', False)): FreqDist({('DET', False): 24, ('PRON', False): 17, ('NOUN', False): 10, ('PRT', False): 6, ('ADP', False): 5, ('ADV', False): 4, ('VERB', False): 3, ('ADJ', False): 3, ('CONJ', False): 2, ('NUM', False): 2}), (('.', False), ('DET', False)): FreqDist({('NOUN', False): 79, ('ADJ', False): 28, ('VERB', False): 17, ('ADP', False): 4, ('DET', False): 4, ('ADV', False): 4, ('NUM', False): 3, ('.', False): 1}), (('DET', False), ('NOUN', False)): FreqDist({('ADP', False): 409, ('NOUN', False): 322, ('VERB', False): 229, ('.', False): 212, ('PRT', False): 44, ('CONJ', False): 43, ('ADJ', False): 31, ('ADV', False): 30, ('DET', False): 18, ('PRON', False): 17, ...}), (('NOUN', False), ('VERB', False)): FreqDist({('VERB', False): 263, ('ADP', False): 121, ('DET', False): 97, ('ADV', False): 79, ('NOUN', False): 63, ('.', False): 55, ('PRT', False): 31, ('PRON', False): 27, ('ADJ', False): 25, ('NUM', False): 5, ...}), (('VERB', False), ('VERB', False)): FreqDist({('ADP', False): 162, ('DET', False): 116, ('VERB', False): 92, ('NOUN', False): 56, ('PRT', False): 56, ('.', False): 40, ('ADJ', False): 35, ('ADV', False): 34, ('PRON', False): 14, ('NUM', False): 13, ...}), (('VERB', False), ('ADV', False)): FreqDist({('VERB', False): 91, ('ADP', False): 24, ('ADV', False): 24, ('ADJ', False): 22, ('DET', False): 13, ('NOUN', False): 10, ('.', False): 8, ('PRON', False): 3, ('NUM', False): 2, ('PRT', False): 2, ...}), (('ADV', False), ('ADJ', False)): FreqDist({('NOUN', False): 25, ('.', False): 13, ('ADP', False): 12, ('ADJ', False): 4, ('PRT', False): 4, ('CONJ', False): 3, ('VERB', False): 2, ('ADV', False): 1, ('DET', False): 1}), (('ADJ', False), ('ADP', False)): FreqDist({('DET', False): 33, ('NOUN', False): 17, ('NUM', False): 12, ('ADJ', False): 7, ('VERB', False): 5, ('PRON', False): 3, ('ADV', False): 2}), (('ADP', False), ('DET', False)): FreqDist({('NOUN', False): 694, ('ADJ', False): 249, ('VERB', False): 44, ('NUM', False): 25, ('.', False): 9, ('ADP', False): 7, ('PRON', False): 7, ('ADV', False): 7, ('DET', False): 5}), (('NOUN', False), ('.', False)): FreqDist({('NOUN', False): 132, ('.', False): 92, ('VERB', False): 83, ('ADP', False): 72, ('DET', False): 71, ('CONJ', False): 46, ('PRON', False): 44, ('ADJ', False): 28, ('ADV', False): 22, ('NUM', False): 20, ...}), (('.', False), ('.', False)): FreqDist({('PRON', False): 22, ('NOUN', False): 14, ('DET', False): 14, ('CONJ', False): 8, ('.', False): 7, ('VERB', False): 7, ('ADP', False): 3, ('PRT', False): 3, ('ADV', False): 2}), (('.', False), ('NOUN', False)): FreqDist({('NOUN', False): 52, ('.', False): 49, ('VERB', False): 31, ('ADP', False): 28, ('CONJ', False): 13, ('NUM', False): 10, ('ADJ', False): 2, ('PRT', False): 1, ('PRON', False): 1, ('ADV', False): 1}), (('VERB', False), ('DET', False)): FreqDist({('NOUN', False): 315, ('ADJ', False): 118, ('VERB', False): 16, ('.', False): 11, ('ADV', False): 8, ('NUM', False): 7, ('ADP', False): 6, ('PRT', False): 2, ('X', False): 1, ('PRON', False): 1}), (('DET', False), ('ADP', False)): FreqDist({('DET', False): 15, ('NOUN', False): 6, ('NUM', False): 1, ('ADJ', False): 1}), (('NOUN', False), ('ADV', False)): FreqDist({('VERB', False): 36, ('ADP', False): 19, ('DET', False): 7, ('ADJ', False): 7, ('.', False): 7, ('ADV', False): 7, ('PRT', False): 4, ('CONJ', False): 2, ('NOUN', False): 2, ('PRON', False): 1}), (('ADV', False), ('VERB', False)): FreqDist({('ADP', False): 41, ('DET', False): 37, ('VERB', False): 30, ('NOUN', False): 21, ('PRT', False): 17, ('.', False): 11, ('PRON', False): 9, ('ADV', False): 9, ('ADJ', False): 6, ('CONJ', False): 4, ...}), (('VERB', False), ('PRON', False)): FreqDist({('VERB', False): 37, ('ADP', False): 17, ('.', False): 12, ('ADV', False): 7, ('PRT', False): 4, ('DET', False): 4, ('CONJ', False): 3, ('ADJ', False): 2}), (('PRON', False), ('VERB', False)): FreqDist({('VERB', False): 129, ('ADV', False): 45, ('.', False): 43, ('DET', False): 40, ('ADP', False): 39, ('NOUN', False): 23, ('ADJ', False): 19, ('PRON', False): 14, ('PRT', False): 14, ('NUM', False): 4, ...}), (('VERB', False), ('NOUN', False)): FreqDist({('ADP', False): 105, ('NOUN', False): 93, ('.', False): 63, ('VERB', False): 38, ('CONJ', False): 15, ('PRT', False): 15, ('PRON', False): 10, ('DET', False): 9, ('ADV', False): 7, ('ADJ', False): 6, ...}), (('BOS', False), ('PRON', False)): FreqDist({('VERB', False): 78, ('ADV', False): 6, ('.', False): 1}), (('ADJ', False), ('PRT', False)): FreqDist({('VERB', False): 31, ('NOUN', False): 1, ('.', False): 1}), (('PRT', False), ('VERB', False)): FreqDist({('DET', False): 101, ('NOUN', False): 50, ('ADP', False): 32, ('VERB', False): 25, ('.', False): 23, ('PRT', False): 22, ('ADJ', False): 21, ('PRON', False): 13, ('ADV', False): 8, ('CONJ', False): 7, ...}), (('DET', False), ('ADJ', False)): FreqDist({('NOUN', False): 384, ('ADJ', False): 33, ('NUM', False): 17, ('.', False): 11, ('VERB', False): 9, ('ADP', False): 8, ('CONJ', False): 7, ('PRT', False): 2, ('X', False): 1, ('ADV', False): 1}), (('ADJ', False), ('NOUN', False)): FreqDist({('ADP', False): 277, ('.', False): 214, ('NOUN', False): 136, ('VERB', False): 105, ('CONJ', False): 41, ('ADV', False): 21, ('DET', False): 19, ('PRT', False): 16, ('PRON', False): 13, ('ADJ', False): 10, ...}), (('ADV', False), ('DET', False)): FreqDist({('NOUN', False): 24, ('VERB', False): 3, ('ADJ', False): 2, ('ADV', False): 2, ('ADP', False): 1, ('NUM', False): 1}), (('PRON', False), ('CONJ', False)): FreqDist({('NOUN', False): 1, ('VERB', False): 1, ('PRT', False): 1}), (('CONJ', False), ('NOUN', False)): FreqDist({('NOUN', False): 52, ('.', False): 24, ('ADP', False): 20, ('VERB', False): 8, ('PRT', False): 3, ('CONJ', False): 3, ('PRON', False): 2, ('ADJ', False): 2, ('ADV', False): 1}), (('BOS', False), ('NOUN', False)): FreqDist({('VERB', False): 76, ('NOUN', False): 73, ('.', False): 18, ('ADP', False): 13, ('NUM', False): 6, ('ADV', False): 4, ('ADJ', False): 3, ('PRT', False): 2, ('PRON', False): 2, ('CONJ', False): 2}), (('NOUN', False), ('NOUN', False)): FreqDist({('NOUN', False): 361, ('.', False): 347, ('VERB', False): 222, ('ADP', False): 219, ('CONJ', False): 62, ('PRT', False): 26, ('ADV', False): 19, ('DET', False): 12, ('ADJ', False): 12, ('PRON', False): 8, ...}), (('VERB', False), ('ADP', False)): FreqDist({('DET', False): 224, ('NOUN', False): 116, ('ADJ', False): 36, ('VERB', False): 29, ('NUM', False): 24, ('PRON', False): 17, ('PRT', False): 8, ('ADP', False): 7, ('ADV', False): 6, ('.', False): 4, ...}), (('NOUN', False), ('CONJ', False)): FreqDist({('NOUN', False): 90, ('VERB', False): 42, ('DET', False): 38, ('ADJ', False): 27, ('ADP', False): 9, ('PRON', False): 4, ('PRT', False): 3, ('ADV', False): 2, ('NUM', False): 2}), (('CONJ', False), ('VERB', False)): FreqDist({('DET', False): 21, ('ADP', False): 16, ('NOUN', False): 11, ('VERB', False): 9, ('ADV', False): 7, ('.', False): 6, ('PRT', False): 4, ('ADJ', False): 3, ('NUM', False): 1}), (('VERB', False), ('.', False)): FreqDist({('.', False): 36, ('VERB', False): 19, ('DET', False): 15, ('ADP', False): 13, ('ADV', False): 9, ('NOUN', False): 7, ('PRON', False): 7, ('ADJ', False): 6, ('PRT', False): 3, ('CONJ', False): 3}), (('.', False), ('PRON', False)): FreqDist({('VERB', False): 96, ('ADV', False): 2, ('PRON', False): 1, ('NOUN', False): 1, ('.', False): 1}), (('DET', False), ('.', False)): FreqDist({('NOUN', False): 7, ('ADJ', False): 5, ('.', False): 3, ('PRON', False): 3, ('ADV', False): 2, ('ADP', False): 1}), (('.', False), ('ADV', False)): FreqDist({('VERB', False): 14, ('.', False): 8, ('ADP', False): 6, ('PRON', False): 4, ('ADJ', False): 3, ('ADV', False): 3, ('DET', False): 2, ('CONJ', False): 1, ('NOUN', False): 1, ('PRT', False): 1, ...}), (('ADV', False), ('.', False)): FreqDist({('DET', False): 10, ('NOUN', False): 5, ('PRON', False): 2, ('VERB', False): 2, ('ADP', False): 2, ('CONJ', False): 1, ('PRT', False): 1, ('.', False): 1}), (('.', False), ('VERB', False)): FreqDist({('VERB', False): 30, ('ADP', False): 27, ('DET', False): 25, ('NOUN', False): 14, ('.', False): 9, ('ADV', False): 9, ('ADJ', False): 7, ('PRT', False): 6, ('PRON', False): 3, ('NUM', False): 2, ...}), (('DET', False), ('DET', False)): FreqDist({('NOUN', False): 5, ('VERB', False): 3, ('ADJ', False): 2}), (('DET', False), ('VERB', False)): FreqDist({('NOUN', False): 64, ('VERB', False): 28, ('DET', False): 12, ('ADP', False): 6, ('ADV', False): 6, ('ADJ', False): 6, ('.', False): 3, ('PRT', False): 3, ('CONJ', False): 2, ('PRON', False): 1, ...}), (('ADP', False), ('.', False)): FreqDist({('ADJ', False): 4, ('VERB', False): 3, ('ADP', False): 2, ('NOUN', False): 2, ('CONJ', False): 1, ('DET', False): 1, ('PRON', False): 1}), (('.', False), ('ADP', False)): FreqDist({('DET', False): 55, ('NOUN', False): 26, ('ADP', False): 10, ('VERB', False): 6, ('ADJ', False): 5, ('NUM', False): 4, ('PRON', False): 4, ('ADV', False): 2, ('.', False): 1}), (('ADP', False), ('ADJ', False)): FreqDist({('NOUN', False): 145, ('ADJ', False): 8, ('CONJ', False): 7, ('ADP', False): 7, ('.', False): 6, ('PRT', False): 2, ('DET', False): 1, ('VERB', False): 1, ('NUM', False): 1, ('ADV', False): 1}), (('ADJ', False), ('.', False)): FreqDist({('ADJ', False): 9, ('NOUN', False): 7, ('CONJ', False): 7, ('.', False): 5, ('VERB', False): 4, ('ADP', False): 4, ('ADV', False): 3, ('PRON', False): 2, ('PRT', False): 1, ('DET', False): 1}), (('ADP', False), ('PRT', False)): FreqDist({('NOUN', False): 9, ('VERB', False): 7, ('DET', False): 1}), (('NOUN', False), ('ADP', False)): FreqDist({('DET', False): 587, ('NOUN', False): 384, ('ADJ', False): 102, ('VERB', False): 69, ('NUM', False): 57, ('PRON', False): 23, ('ADP', False): 18, ('ADV', False): 10, ('.', False): 9, ('PRT', False): 7, ...}), (('BOS', False), ('PRT', False)): FreqDist({('VERB', False): 10, ('ADV', False): 3}), (('ADJ', False), ('ADJ', False)): FreqDist({('NOUN', False): 64, ('ADJ', False): 2, ('CONJ', False): 2, ('.', False): 1}), (('NOUN', False), ('PRT', False)): FreqDist({('VERB', False): 110, ('.', False): 5, ('ADV', False): 3, ('ADJ', False): 2, ('ADP', False): 1}), (('VERB', False), ('PRT', False)): FreqDist({('VERB', False): 101, ('ADP', False): 23, ('DET', False): 21, ('.', False): 7, ('NOUN', False): 5, ('PRT', False): 3, ('CONJ', False): 1, ('PRON', False): 1}), (('PRT', False), ('DET', False)): FreqDist({('NOUN', False): 19, ('ADJ', False): 8, ('VERB', False): 2, ('ADP', False): 1}), (('ADP', False), ('VERB', False)): FreqDist({('NOUN', False): 43, ('DET', False): 29, ('ADP', False): 16, ('VERB', False): 7, ('ADJ', False): 5, ('PRT', False): 5, ('PRON', False): 5, ('.', False): 3, ('ADV', False): 2, ('CONJ', False): 1}), (('NOUN', False), ('PRON', False)): FreqDist({('VERB', False): 55, ('.', False): 4, ('ADV', False): 2, ('ADJ', False): 1, ('PRON', False): 1}), (('BOS', False), ('DET', False)): FreqDist({('NOUN', False): 149, ('ADJ', False): 36, ('VERB', False): 23, ('.', False): 2, ('ADP', False): 2, ('PRON', False): 1, ('ADV', False): 1, ('NUM', False): 1}), (('ADP', False), ('NOUN', False)): FreqDist({('NOUN', False): 179, ('ADP', False): 147, ('.', False): 132, ('VERB', False): 48, ('CONJ', False): 31, ('DET', False): 16, ('PRT', False): 12, ('ADJ', False): 12, ('NUM', False): 9, ('PRON', False): 8, ...}), (('ADP', False), ('PRON', False)): FreqDist({('VERB', False): 49, ('.', False): 9, ('PRON', False): 2, ('ADP', False): 1}), (('PRON', False), ('PRON', False)): FreqDist({('VERB', False): 4}), (('BOS', False), ('ADV', False)): FreqDist({('.', False): 8, ('ADP', False): 4, ('PRON', False): 3, ('NUM', False): 2, ('NOUN', False): 2, ('DET', False): 2, ('PRT', False): 2, ('ADJ', False): 1, ('ADV', False): 1, ('CONJ', False): 1, ...}), (('ADV', False), ('ADP', False)): FreqDist({('DET', False): 38, ('NOUN', False): 11, ('ADJ', False): 9, ('PRON', False): 4, ('NUM', False): 4, ('ADP', False): 2, ('VERB', False): 2, ('.', False): 2, ('ADV', False): 1}), (('.', False), ('PRT', False)): FreqDist({('VERB', False): 16, ('DET', False): 6, ('ADJ', False): 1, ('.', False): 1, ('ADV', False): 1, ('NOUN', False): 1}), (('.', False), ('ADJ', False)): FreqDist({('NOUN', False): 29, ('.', False): 10, ('ADP', False): 8, ('CONJ', False): 4, ('ADJ', False): 3, ('PRT', False): 1, ('VERB', False): 1}), (('.', False), ('CONJ', False)): FreqDist({('DET', False): 16, ('NOUN', False): 15, ('VERB', False): 11, ('PRON', False): 8, ('ADV', False): 7, ('ADJ', False): 6, ('ADP', False): 6, ('.', False): 3, ('PRT', False): 3}), (('ADP', False), ('ADP', False)): FreqDist({('DET', False): 14, ('NOUN', False): 13, ('NUM', False): 7, ('ADP', False): 6, ('ADJ', False): 5, ('PRON', False): 2, ('VERB', False): 1, ('ADV', False): 1}), (('ADJ', False), ('NUM', False)): FreqDist({('NOUN', False): 14, ('NUM', False): 2, ('VERB', False): 2, ('ADP', False): 1}), (('NUM', False), ('NOUN', False)): FreqDist({('ADP', False): 42, ('.', False): 41, ('NOUN', False): 24, ('VERB', False): 21, ('DET', False): 6, ('CONJ', False): 5, ('ADJ', False): 4, ('PRON', False): 2, ('ADV', False): 2, ('PRT', False): 1}), (('NOUN', False), ('NUM', False)): FreqDist({('.', False): 10, ('ADP', False): 9, ('VERB', False): 7, ('NOUN', False): 6, ('ADJ', False): 5, ('CONJ', False): 1, ('PRT', False): 1}), (('ADJ', False), ('CONJ', False)): FreqDist({('ADJ', False): 19, ('VERB', False): 4, ('NUM', False): 2, ('NOUN', False): 2, ('ADV', False): 1, ('ADP', False): 1, ('PRT', False): 1, ('DET', False): 1}), (('CONJ', False), ('ADV', False)): FreqDist({('VERB', False): 5, ('ADJ', False): 2, ('DET', False): 2, ('ADV', False): 2, ('PRT', False): 2, ('ADP', False): 1, ('PRON', False): 1, ('NUM', False): 1, ('.', False): 1, ('NOUN', False): 1}), (('ADP', False), ('ADV', False)): FreqDist({('ADJ', False): 7, ('NUM', False): 4, ('VERB', False): 4, ('PRON', False): 2, ('ADV', False): 2, ('NOUN', False): 1, ('PRT', False): 1, ('.', False): 1, ('DET', False): 1}), (('DET', False), ('NUM', False)): FreqDist({('NOUN', False): 25, ('ADJ', False): 5, ('NUM', False): 4, ('ADP', False): 2, ('.', False): 2, ('VERB', False): 1, ('PRON', False): 1, ('ADV', False): 1}), (('ADP', False), ('NUM', False)): FreqDist({('NOUN', False): 60, ('.', False): 16, ('ADP', False): 14, ('NUM', False): 6, ('ADV', False): 5, ('VERB', False): 5, ('CONJ', False): 4, ('ADJ', False): 4, ('PRON', False): 2, ('DET', False): 2, ...}), (('NUM', False), ('ADP', False)): FreqDist({('DET', False): 19, ('NOUN', False): 12, ('NUM', False): 6, ('ADJ', False): 1, ('ADP', False): 1}), (('BOS', False), ('ADP', False)): FreqDist({('DET', False): 31, ('NOUN', False): 16, ('VERB', False): 3, ('ADJ', False): 3, ('PRON', False): 2, ('NUM', False): 1, ('ADP', False): 1}), (('NUM', False), ('ADJ', False)): FreqDist({('NOUN', False): 22, ('ADJ', False): 5, ('ADP', False): 3, ('CONJ', False): 1}), (('ADV', False), ('NUM', False)): FreqDist({('NOUN', False): 6, ('ADJ', False): 3, ('ADP', False): 1, ('PRON', False): 1}), (('PRON', False), ('ADP', False)): FreqDist({('DET', False): 10, ('NOUN', False): 3, ('VERB', False): 2, ('PRON', False): 1, ('ADJ', False): 1, ('ADP', False): 1}), (('ADV', False), ('CONJ', False)): FreqDist({('ADV', False): 3, ('ADP', False): 2, ('VERB', False): 2}), (('CONJ', False), ('ADP', False)): FreqDist({('DET', False): 10, ('ADJ', False): 6, ('PRON', False): 4, ('NOUN', False): 3, ('ADP', False): 2, ('PRT', False): 1}), (('VERB', False), ('NUM', False)): FreqDist({('NOUN', False): 13, ('ADJ', False): 9, ('ADP', False): 4, ('NUM', False): 3, ('DET', False): 1, ('VERB', False): 1, ('PRON', False): 1, ('.', False): 1}), (('CONJ', False), ('ADJ', False)): FreqDist({('NOUN', False): 41, ('.', False): 5, ('ADJ', False): 4, ('ADP', False): 2, ('VERB', False): 1, ('PRT', False): 1, ('CONJ', False): 1}), (('CONJ', False), ('DET', False)): FreqDist({('NOUN', False): 38, ('ADJ', False): 16, ('VERB', False): 5, ('PRON', False): 3, ('NUM', False): 2, ('ADP', False): 1, ('PRT', False): 1}), (('BOS', False), ('NUM', False)): FreqDist({('NOUN', False): 9, ('ADP', False): 4, ('ADJ', False): 1}), (('NUM', False), ('NUM', False)): FreqDist({('NOUN', False): 11, ('ADJ', False): 1, ('CONJ', False): 1, ('ADP', False): 1, ('VERB', False): 1}), (('NUM', False), ('PRON', False)): FreqDist({('VERB', False): 4, ('ADJ', False): 1}), (('PRT', False), ('ADP', False)): FreqDist({('DET', False): 11, ('NOUN', False): 5, ('NUM', False): 4, ('ADJ', False): 3, ('ADP', False): 1, ('PRON', False): 1, ('PRT', False): 1, ('ADV', False): 1}), (('CONJ', False), ('NUM', False)): FreqDist({('ADJ', False): 2, ('VERB', False): 1, ('ADP', False): 1}), (('NUM', False), ('DET', False)): FreqDist({('NOUN', False): 2, ('ADJ', False): 1}), (('NOUN', False), ('ADJ', False)): FreqDist({('NOUN', False): 52, ('ADP', False): 8, ('.', False): 5, ('ADJ', False): 5, ('PRT', False): 3, ('VERB', False): 2, ('CONJ', False): 1, ('DET', False): 1}), (('NOUN', False), ('DET', False)): FreqDist({('NOUN', False): 42, ('VERB', False): 18, ('ADJ', False): 12, ('.', False): 3, ('ADV', False): 3, ('ADP', False): 1, ('PRON', False): 1, ('NUM', False): 1}), (('.', False), ('NUM', False)): FreqDist({('.', False): 14, ('NOUN', False): 5, ('ADP', False): 2, ('ADJ', False): 1}), (('BOS', False), ('ADJ', False)): FreqDist({('NOUN', False): 31, ('ADP', False): 1, ('ADJ', False): 1}), (('NUM', False), ('.', False)): FreqDist({('ADP', False): 9, ('DET', False): 4, ('NOUN', False): 3, ('.', False): 2, ('PRON', False): 2, ('CONJ', False): 2, ('VERB', False): 2, ('NUM', False): 1, ('ADV', False): 1, ('ADJ', False): 1}), (('NUM', False), ('CONJ', False)): FreqDist({('NOUN', False): 2, ('VERB', False): 2, ('ADJ', False): 1, ('DET', False): 1}), (('ADV', False), ('NOUN', False)): FreqDist({('.', False): 6, ('VERB', False): 4, ('ADP', False): 4, ('NOUN', False): 3, ('NUM', False): 2, ('DET', False): 1, ('PRT', False): 1}), (('ADJ', False), ('VERB', False)): FreqDist({('NOUN', False): 12, ('.', False): 2, ('ADJ', False): 1, ('VERB', False): 1, ('CONJ', False): 1, ('PRT', False): 1, ('ADP', False): 1}), (('DET', False), ('PRON', False)): FreqDist({('VERB', False): 13}), (('PRT', False), ('NOUN', False)): FreqDist({('.', False): 5, ('ADP', False): 3, ('VERB', False): 3, ('CONJ', False): 2, ('ADV', False): 1, ('NOUN', False): 1}), (('PRT', False), ('.', False)): FreqDist({('VERB', False): 6, ('CONJ', False): 4, ('.', False): 3, ('PRON', False): 1}), (('CONJ', False), ('PRON', False)): FreqDist({('VERB', False): 17, ('ADV', False): 1}), (('DET', False), ('ADV', False)): FreqDist({('ADJ', False): 17, ('VERB', False): 6, ('NOUN', False): 1, ('ADV', False): 1}), (('VERB', False), ('CONJ', False)): FreqDist({('VERB', False): 14, ('DET', False): 5, ('NOUN', False): 2, ('ADV', False): 2, ('ADJ', False): 2, ('ADP', False): 1}), (('PRON', False), ('ADV', False)): FreqDist({('VERB', False): 11, ('DET', False): 2, ('CONJ', False): 1, ('PRT', False): 1, ('ADP', False): 1, ('ADV', False): 1, ('.', False): 1}), (('PRON', False), ('.', False)): FreqDist({('.', False): 8, ('VERB', False): 4, ('ADP', False): 2, ('CONJ', False): 1, ('ADV', False): 1, ('NOUN', False): 1}), (('PRON', False), ('ADJ', False)): FreqDist({('PRT', False): 2, ('NOUN', False): 1, ('VERB', False): 1}), (('PRON', False), ('PRT', False)): FreqDist({('VERB', False): 4}), (('CONJ', False), ('PRT', False)): FreqDist({('VERB', False): 11, ('ADV', False): 1}), (('CONJ', False), ('.', False)): FreqDist({('NOUN', False): 2, ('VERB', False): 1}), (('PRT', False), ('ADJ', False)): FreqDist({('NOUN', False): 2, ('PRON', False): 1}), (('ADJ', False), ('DET', False)): FreqDist({('NOUN', False): 3, ('NUM', False): 1, ('VERB', False): 1}), (('ADJ', False), ('ADV', False)): FreqDist({('NOUN', False): 1, ('ADJ', False): 1, ('ADP', False): 1, ('DET', False): 1, ('VERB', False): 1}), (('ADJ', False), ('X', False)): FreqDist({('X', False): 1}), (('X', False), ('X', False)): FreqDist({('NOUN', False): 2, ('.', False): 1}), (('X', False), ('NOUN', False)): FreqDist({('NOUN', False): 1, ('ADP', False): 1}), (('ADV', False), ('ADV', False)): FreqDist({('ADP', False): 15, ('VERB', False): 13, ('.', False): 4, ('ADV', False): 3, ('PRT', False): 2, ('DET', False): 2, ('ADJ', False): 1, ('PRON', False): 1, ('NUM', False): 1, ('NOUN', False): 1, ...}), (('BOS', False), ('CONJ', False)): FreqDist({('PRON', False): 6, ('ADP', False): 6, ('DET', False): 5, ('PRT', False): 4, ('ADV', False): 3, ('VERB', False): 1, ('NOUN', False): 1, ('.', False): 1}), (('ADP', False), ('CONJ', False)): FreqDist({('NOUN', False): 2, ('ADP', False): 1}), (('ADV', False), ('PRON', False)): FreqDist({('VERB', False): 15}), (('NUM', False), ('ADV', False)): FreqDist({('ADJ', False): 2, ('.', False): 2, ('NOUN', False): 1, ('ADP', False): 1}), (('DET', False), ('X', False)): FreqDist({('X', False): 1}), (('ADV', False), ('PRT', False)): FreqDist({('VERB', False): 12, ('ADP', False): 3}), (('PRT', False), ('CONJ', False)): FreqDist({('VERB', False): 1}), (('PRT', False), ('ADV', False)): FreqDist({('VERB', False): 5, ('ADJ', False): 2, ('ADP', False): 1, ('DET', False): 1}), (('DET', False), ('PRT', False)): FreqDist({('VERB', False): 2, ('ADV', False): 1}), (('PRT', False), ('PRT', False)): FreqDist({('DET', False): 2, ('VERB', False): 1}), (('NUM', False), ('VERB', False)): FreqDist({('VERB', False): 9, ('NOUN', False): 3, ('DET', False): 2, ('.', False): 1, ('PRT', False): 1, ('ADP', False): 1, ('ADJ', False): 1}), (('NUM', False), ('PRT', False)): FreqDist({('VERB', False): 3}), (('PRON', False), ('DET', False)): FreqDist({('ADJ', False): 2, ('DET', False): 1, ('NOUN', False): 1}), (('ADJ', False), ('PRON', False)): FreqDist({('VERB', False): 2}), (('PRON', False), ('NOUN', False)): FreqDist({('VERB', False): 1}), (('PRT', False), ('PRON', False)): FreqDist({('VERB', False): 1}), (('NOUN', False), ('X', False)): FreqDist({('X', False): 1})}\n",
      "{'Fears': FreqDist({'VERB': 1}), 'prejudicial': FreqDist({'ADJ': 2}), 'aspects': FreqDist({'NOUN': 1}), '``': FreqDist({'.': 149}), 'The': FreqDist({'DET': 164}), 'statements': FreqDist({'NOUN': 6}), 'may': FreqDist({'VERB': 13}), 'be': FreqDist({'VERB': 119}), 'highly': FreqDist({'ADV': 3}), 'to': FreqDist({'PRT': 275, 'ADP': 159}), 'my': FreqDist({'DET': 4}), 'client': FreqDist({'NOUN': 1}), \"''\": FreqDist({'.': 139}), ',': FreqDist({'.': 664}), 'Bellows': FreqDist({'NOUN': 2}), 'told': FreqDist({'VERB': 11}), 'the': FreqDist({'DET': 1106}), 'court': FreqDist({'NOUN': 10}), '.': FreqDist({'.': 677}), 'Some': FreqDist({'DET': 8}), 'of': FreqDist({'ADP': 514}), 'defendants': FreqDist({'NOUN': 4}), 'strongly': FreqDist({'ADV': 1}), 'indicated': FreqDist({'VERB': 5}), 'they': FreqDist({'PRON': 31}), 'knew': FreqDist({'VERB': 2}), 'were': FreqDist({'VERB': 29}), 'receiving': FreqDist({'VERB': 2}), 'stolen': FreqDist({'VERB': 1}), 'property': FreqDist({'NOUN': 2}), 'It': FreqDist({'PRON': 23}), 'is': FreqDist({'VERB': 148}), 'impossible': FreqDist({'ADJ': 1}), 'get': FreqDist({'VERB': 12}), 'a': FreqDist({'DET': 316}), 'fair': FreqDist({'ADJ': 2}), 'trial': FreqDist({'NOUN': 3}), 'when': FreqDist({'ADV': 11}), 'some': FreqDist({'DET': 29}), 'made': FreqDist({'VERB': 20}), 'involving': FreqDist({'VERB': 3}), 'themselves': FreqDist({'PRON': 7}), 'and': FreqDist({'CONJ': 299}), 'others': FreqDist({'NOUN': 4}), 'Judge': FreqDist({'NOUN': 5}), 'Parsons': FreqDist({'NOUN': 1}), 'leaned': FreqDist({'VERB': 1}), 'over': FreqDist({'ADP': 20, 'PRT': 1}), 'bench': FreqDist({'NOUN': 1}), 'inquired': FreqDist({'VERB': 1}), 'You': FreqDist({'PRON': 2}), 'mean': FreqDist({'VERB': 5}), 'admitting': FreqDist({'VERB': 1}), 'this': FreqDist({'DET': 46}), '?': FreqDist({'.': 14}), 'Yes': FreqDist({'ADV': 1}), 'your': FreqDist({'DET': 1}), 'honor': FreqDist({'NOUN': 1}), 'replied': FreqDist({'VERB': 3}), 'What': FreqDist({'DET': 3}), 'amounts': FreqDist({'VERB': 1}), 'if': FreqDist({'ADP': 19}), 'true': FreqDist({'ADJ': 1}), 'that': FreqDist({'ADP': 132, 'PRON': 19, 'DET': 16, 'ADV': 1}), 'there': FreqDist({'PRT': 21, 'ADV': 1}), 'will': FreqDist({'VERB': 78}), 'free-for-all': FreqDist({'ADJ': 1}), 'fight': FreqDist({'NOUN': 6}), 'in': FreqDist({'ADP': 330, 'PRT': 5}), 'case': FreqDist({'NOUN': 11}), 'There': FreqDist({'PRT': 10}), 'conflict': FreqDist({'NOUN': 3}), 'among': FreqDist({'ADP': 5}), 'Washington': FreqDist({'NOUN': 14}), 'July': FreqDist({'NOUN': 3}), '24': FreqDist({'NUM': 5}), '--': FreqDist({'.': 47}), 'President': FreqDist({'NOUN': 34}), 'Kennedy': FreqDist({'NOUN': 19}), 'today': FreqDist({'NOUN': 10}), 'pushed': FreqDist({'VERB': 1}), 'aside': FreqDist({'ADV': 1}), 'other': FreqDist({'ADJ': 25}), 'White': FreqDist({'ADJ': 10}), 'House': FreqDist({'NOUN': 17}), 'business': FreqDist({'NOUN': 6}), 'devote': FreqDist({'VERB': 1}), 'all': FreqDist({'PRT': 19, 'ADV': 1}), 'his': FreqDist({'DET': 59}), 'time': FreqDist({'NOUN': 17}), 'attention': FreqDist({'NOUN': 2}), 'working': FreqDist({'VERB': 5}), 'on': FreqDist({'ADP': 127, 'PRT': 4}), 'Berlin': FreqDist({'NOUN': 3}), 'crisis': FreqDist({'NOUN': 3}), 'address': FreqDist({'NOUN': 6}), 'he': FreqDist({'PRON': 101}), 'deliver': FreqDist({'VERB': 1}), 'tomorrow': FreqDist({'NOUN': 4}), 'night': FreqDist({'NOUN': 14}), 'American': FreqDist({'ADJ': 6, 'NOUN': 1}), 'people': FreqDist({'NOUN': 17}), 'nationwide': FreqDist({'ADJ': 1}), 'television': FreqDist({'NOUN': 1}), 'radio': FreqDist({'NOUN': 3}), 'spent': FreqDist({'VERB': 3}), 'much': FreqDist({'ADJ': 5, 'ADV': 2}), 'week-end': FreqDist({'NOUN': 1}), 'at': FreqDist({'ADP': 60}), 'summer': FreqDist({'NOUN': 1}), 'home': FreqDist({'NOUN': 21}), 'Cape': FreqDist({'NOUN': 1}), 'Cod': FreqDist({'NOUN': 1}), 'writing': FreqDist({'VERB': 1}), 'first': FreqDist({'ADJ': 20, 'ADV': 4}), 'drafts': FreqDist({'NOUN': 2}), 'portions': FreqDist({'NOUN': 1}), 'with': FreqDist({'ADP': 88}), 'help': FreqDist({'VERB': 5, 'NOUN': 3}), 'aids': FreqDist({'NOUN': 1}), 'whom': FreqDist({'PRON': 3}), 'talked': FreqDist({'VERB': 2}), 'by': FreqDist({'ADP': 109}), 'telephone': FreqDist({'NOUN': 3}), 'Shortly': FreqDist({'ADV': 1}), 'after': FreqDist({'ADP': 26}), 'Chief': FreqDist({'NOUN': 2, 'ADJ': 1}), 'Executive': FreqDist({'NOUN': 1}), 'returned': FreqDist({'VERB': 1}), 'midmorning': FreqDist({'NOUN': 1}), 'from': FreqDist({'ADP': 52}), 'Hyannis': FreqDist({'NOUN': 1}), 'Port': FreqDist({'NOUN': 2}), 'Mass.': FreqDist({'NOUN': 2}), 'spokesman': FreqDist({'NOUN': 2}), 'said': FreqDist({'VERB': 126}), 'text': FreqDist({'NOUN': 1}), 'still': FreqDist({'ADV': 5}), 'had': FreqDist({'VERB': 40}), 'quite': FreqDist({'PRT': 1}), 'way': FreqDist({'NOUN': 5}), 'go': FreqDist({'VERB': 13}), 'toward': FreqDist({'ADP': 6}), 'completion': FreqDist({'NOUN': 2}), 'Decisions': FreqDist({'NOUN': 1}), 'are': FreqDist({'VERB': 48}), 'Asked': FreqDist({'VERB': 1}), 'elaborate': FreqDist({'VERB': 1}), 'Pierre': FreqDist({'NOUN': 1}), 'Salinger': FreqDist({'NOUN': 2}), 'press': FreqDist({'NOUN': 5}), 'secretary': FreqDist({'NOUN': 6}), 'I': FreqDist({'PRON': 23}), 'would': FreqDist({'VERB': 95}), 'say': FreqDist({'VERB': 6}), \"it's\": FreqDist({'PRT': 1}), 'got': FreqDist({'VERB': 2}), 'thru': FreqDist({'ADP': 1}), 'several': FreqDist({'ADJ': 8}), 'more': FreqDist({'ADJ': 29, 'ADV': 13}), 'work': FreqDist({'NOUN': 13, 'VERB': 4}), 'advisers': FreqDist({'NOUN': 1}), 'members': FreqDist({'NOUN': 14}), 'staff': FreqDist({'NOUN': 4}), 'doing': FreqDist({'VERB': 1}), 'involved': FreqDist({'VERB': 9}), 'composition': FreqDist({'NOUN': 1}), 'wording': FreqDist({'VERB': 1}), 'rather': FreqDist({'ADP': 2}), 'than': FreqDist({'ADP': 29}), 'last': FreqDist({'ADJ': 32, 'VERB': 1}), 'minute': FreqDist({'NOUN': 1}), 'decisions': FreqDist({'NOUN': 2}), 'administration': FreqDist({'NOUN': 46}), 'plans': FreqDist({'NOUN': 6, 'VERB': 2}), 'meet': FreqDist({'VERB': 8}), 'latest': FreqDist({'ADJ': 2}), 'precipitated': FreqDist({'VERB': 1}), \"Russia's\": FreqDist({'NOUN': 1}), 'demands': FreqDist({'NOUN': 1}), 'proposals': FreqDist({'NOUN': 4}), 'for': FreqDist({'ADP': 218}), 'city': FreqDist({'NOUN': 31}), '10': FreqDist({'NUM': 9}), 'cases': FreqDist({'NOUN': 11}), 'investigation': FreqDist({'NOUN': 5}), 'Nov.': FreqDist({'NOUN': 3}), '8': FreqDist({'NUM': 3}), 'election': FreqDist({'NOUN': 19}), 'dismissed': FreqDist({'VERB': 1}), 'yesterday': FreqDist({'NOUN': 11}), 'Acting': FreqDist({'VERB': 2}), 'John': FreqDist({'NOUN': 7}), 'M.': FreqDist({'NOUN': 6}), 'Karns': FreqDist({'NOUN': 7}), 'who': FreqDist({'PRON': 49}), 'charged': FreqDist({'VERB': 4}), 'prosecution': FreqDist({'NOUN': 1}), 'obtained': FreqDist({'VERB': 4}), 'evidence': FreqDist({'NOUN': 5}), 'unfair': FreqDist({'ADJ': 1}), 'fundamentally': FreqDist({'ADV': 1}), 'illegal': FreqDist({'ADJ': 1}), 'means': FreqDist({'NOUN': 6, 'VERB': 1}), 'matter': FreqDist({'NOUN': 7}), 'even': FreqDist({'ADV': 9}), 'greater': FreqDist({'ADJ': 4}), 'significance': FreqDist({'NOUN': 1}), 'guilt': FreqDist({'NOUN': 1}), 'or': FreqDist({'CONJ': 37}), 'innocence': FreqDist({'NOUN': 1}), '50': FreqDist({'NUM': 2}), 'persons': FreqDist({'NOUN': 13}), 'He': FreqDist({'PRON': 54}), 'was': FreqDist({'VERB': 102}), 'violation': FreqDist({'NOUN': 1}), 'legal': FreqDist({'ADJ': 1}), 'rights': FreqDist({'NOUN': 1}), 'citizens': FreqDist({'NOUN': 1}), \"Karns'\": FreqDist({'NOUN': 1}), 'ruling': FreqDist({'NOUN': 1}), 'pertained': FreqDist({'VERB': 1}), 'eight': FreqDist({'NUM': 7}), 'In': FreqDist({'ADP': 25}), 'two': FreqDist({'NUM': 20}), 'ruled': FreqDist({'VERB': 2}), 'state': FreqDist({'NOUN': 41, 'VERB': 2}), 'been': FreqDist({'VERB': 57}), 'unable': FreqDist({'ADJ': 1}), 'make': FreqDist({'VERB': 12}), 'Contempt': FreqDist({'NOUN': 1}), 'proceedings': FreqDist({'NOUN': 1}), 'originally': FreqDist({'ADV': 1}), 'brought': FreqDist({'VERB': 5}), 'against': FreqDist({'ADP': 13}), '677': FreqDist({'NUM': 1}), '133': FreqDist({'NUM': 1}), 'precincts': FreqDist({'NOUN': 3}), 'Morris': FreqDist({'NOUN': 4}), 'J.': FreqDist({'NOUN': 11}), 'Wexler': FreqDist({'NOUN': 6}), 'special': FreqDist({'ADJ': 16}), 'prosecutor': FreqDist({'NOUN': 1}), 'Issue': FreqDist({'VERB': 1}), 'jury': FreqDist({'NOUN': 4}), 'subpoenas': FreqDist({'NOUN': 1}), 'admitted': FreqDist({'VERB': 1}), 'earlier': FreqDist({'ADJ': 1}), 'hearings': FreqDist({'NOUN': 2}), 'issued': FreqDist({'VERB': 2}), 'grand': FreqDist({'ADJ': 3}), 'subpenas': FreqDist({'NOUN': 1}), 'about': FreqDist({'ADP': 8, 'ADV': 6, 'PRT': 1}), '200': FreqDist({'NUM': 3}), 'questioned': FreqDist({'VERB': 2}), 'individuals': FreqDist({'NOUN': 2}), 'Criminal': FreqDist({'ADJ': 3}), 'courts': FreqDist({'NOUN': 1}), 'building': FreqDist({'NOUN': 3, 'VERB': 1}), 'but': FreqDist({'CONJ': 28}), 'did': FreqDist({'VERB': 13}), 'not': FreqDist({'ADV': 67}), 'take': FreqDist({'VERB': 16}), 'them': FreqDist({'PRON': 18}), 'before': FreqDist({'ADP': 8, 'ADV': 1}), 'Mayer': FreqDist({'NOUN': 1}), 'Goldberg': FreqDist({'NOUN': 3}), 'attorney': FreqDist({'NOUN': 5}), 'judges': FreqDist({'NOUN': 4}), '58th': FreqDist({'ADJ': 2}), 'precinct': FreqDist({'NOUN': 5}), '23d': FreqDist({'ADJ': 4}), 'ward': FreqDist({'NOUN': 7}), 'argued': FreqDist({'VERB': 1}), 'procedure': FreqDist({'NOUN': 1}), 'constituted': FreqDist({'VERB': 3}), 'intimidation': FreqDist({'NOUN': 1}), 'has': FreqDist({'VERB': 84}), 'denied': FreqDist({'VERB': 2}), 'repeatedly': FreqDist({'ADV': 1}), 'coercion': FreqDist({'NOUN': 1}), 'used': FreqDist({'VERB': 2}), 'questioning': FreqDist({'VERB': 1}), 'it': FreqDist({'PRON': 62}), 'wrongful': FreqDist({'ADJ': 1}), 'act': FreqDist({'NOUN': 1}), 'privately': FreqDist({'ADV': 1}), 'outside': FreqDist({'ADP': 2}), 'room': FreqDist({'NOUN': 2}), 'very': FreqDist({'ADV': 7, 'ADJ': 1}), 'serious': FreqDist({'ADJ': 3}), 'misuse': FreqDist({'NOUN': 1}), 'processes': FreqDist({'NOUN': 1}), 'Actually': FreqDist({'ADV': 2}), 'abuse': FreqDist({'NOUN': 1}), 'process': FreqDist({'NOUN': 2}), 'have': FreqDist({'VERB': 48}), 'contempt': FreqDist({'NOUN': 1}), 'Cook': FreqDist({'NOUN': 2}), 'county': FreqDist({'NOUN': 6}), 'altho': FreqDist({'ADP': 1}), 'vindication': FreqDist({'NOUN': 1}), 'authority': FreqDist({'NOUN': 2}), 'function': FreqDist({'NOUN': 1}), 'City': FreqDist({'NOUN': 13}), 'judge': FreqDist({'NOUN': 3}), 'East': FreqDist({'ADJ': 6, 'NOUN': 1}), 'St.': FreqDist({'NOUN': 3}), 'Louis': FreqDist({'NOUN': 1}), 'sitting': FreqDist({'VERB': 1}), 'County': FreqDist({'NOUN': 9}), 'Faced': FreqDist({'VERB': 1}), 'seven': FreqDist({'NUM': 3}), 'scheduled': FreqDist({'VERB': 7}), 'week': FreqDist({'NOUN': 11}), 'hear': FreqDist({'VERB': 3}), '35': FreqDist({'NUM': 3}), 'these': FreqDist({'DET': 12}), 'complementary': FreqDist({'ADJ': 1}), 'miscount': FreqDist({'NOUN': 1}), 'vote': FreqDist({'NOUN': 10, 'VERB': 4}), 'which': FreqDist({'DET': 41}), 'votes': FreqDist({'NOUN': 2}), 'taken': FreqDist({'VERB': 8}), 'one': FreqDist({'NUM': 28, 'NOUN': 2}), 'candidate': FreqDist({'NOUN': 11}), 'given': FreqDist({'VERB': 8}), 'another': FreqDist({'DET': 11}), '33d': FreqDist({'ADJ': 1}), '24th': FreqDist({'ADJ': 1}), '42d': FreqDist({'ADJ': 1}), '31st': FreqDist({'ADJ': 1}), '21st': FreqDist({'ADJ': 1}), '28th': FreqDist({'ADJ': 1}), '29th': FreqDist({'ADJ': 2}), '18th': FreqDist({'ADJ': 1}), '4th': FreqDist({'ADJ': 1}), '9th': FreqDist({'ADJ': 1}), 'heard': FreqDist({'VERB': 4}), 'previously': FreqDist({'ADV': 1}), 'under': FreqDist({'ADP': 16}), 'advisement': FreqDist({'NOUN': 2}), 'Two': FreqDist({'NUM': 1}), 'also': FreqDist({'ADV': 22}), 'Claims': FreqDist({'VERB': 1}), 'precedent': FreqDist({'NOUN': 1}), 'lacking': FreqDist({'VERB': 1}), 'After': FreqDist({'ADP': 4}), 'reading': FreqDist({'VERB': 1}), 'statement': FreqDist({'NOUN': 8}), 'discharging': FreqDist({'VERB': 1}), 'subpenaed': FreqDist({'VERB': 1}), 'dismiss': FreqDist({'VERB': 1}), 'Feb.': FreqDist({'NOUN': 3}), '9': FreqDist({'NUM': 3}), 'proposed': FreqDist({'VERB': 8}), 'mammoth': FreqDist({'ADJ': 1}), 'new': FreqDist({'ADJ': 24}), 'medical': FreqDist({'ADJ': 14}), 'care': FreqDist({'NOUN': 14, 'VERB': 1}), 'program': FreqDist({'NOUN': 22}), 'whereby': FreqDist({'ADV': 1}), 'social': FreqDist({'ADJ': 9}), 'security': FreqDist({'NOUN': 7}), 'taxes': FreqDist({'NOUN': 5}), '70': FreqDist({'NUM': 3}), 'million': FreqDist({'NUM': 19}), 'workers': FreqDist({'NOUN': 6}), 'raised': FreqDist({'VERB': 4}), 'pay': FreqDist({'VERB': 12, 'NOUN': 1}), 'hospital': FreqDist({'NOUN': 7}), 'bills': FreqDist({'NOUN': 7}), '14.2': FreqDist({'NUM': 1}), 'Americans': FreqDist({'NOUN': 4}), '65': FreqDist({'NUM': 2}), 'covered': FreqDist({'VERB': 2}), 'railroad': FreqDist({'NOUN': 4}), 'retirement': FreqDist({'NOUN': 3}), 'programs': FreqDist({'NOUN': 4}), 'message': FreqDist({'NOUN': 4}), 'Congress': FreqDist({'NOUN': 8}), 'tied': FreqDist({'VERB': 1}), 'aged': FreqDist({'VERB': 5}), 'plan': FreqDist({'NOUN': 25, 'VERB': 2}), 'requests': FreqDist({'NOUN': 1}), 'large': FreqDist({'ADJ': 4}), 'federal': FreqDist({'ADJ': 14}), 'grants': FreqDist({'NOUN': 12}), 'finance': FreqDist({'VERB': 1, 'NOUN': 1}), 'dental': FreqDist({'ADJ': 6}), 'scholarships': FreqDist({'NOUN': 3}), 'build': FreqDist({'VERB': 9}), '20': FreqDist({'NUM': 4}), 'schools': FreqDist({'NOUN': 14}), 'expand': FreqDist({'VERB': 1}), 'child': FreqDist({'NOUN': 3}), 'health': FreqDist({'NOUN': 8}), 'general': FreqDist({'ADJ': 11, 'NOUN': 2}), 'research': FreqDist({'NOUN': 5}), 'similar': FreqDist({'ADJ': 4}), 'sponsored': FreqDist({'VERB': 2}), 'year': FreqDist({'NOUN': 39}), 'as': FreqDist({'ADP': 76, 'ADV': 9}), 'senator': FreqDist({'NOUN': 2}), 'Capitol': FreqDist({'NOUN': 4}), 'hill': FreqDist({'NOUN': 1}), 'defeated': FreqDist({'VERB': 2}), 'Cost': FreqDist({'NOUN': 1}), 'up': FreqDist({'PRT': 18, 'ADP': 7}), '$37': FreqDist({'NOUN': 2}), 'financed': FreqDist({'VERB': 1}), 'boosting': FreqDist({'VERB': 1}), 'payroll': FreqDist({'NOUN': 6}), 'tax': FreqDist({'NOUN': 26}), 'each': FreqDist({'DET': 12}), 'now': FreqDist({'ADV': 16}), 'paying': FreqDist({'VERB': 2}), 'such': FreqDist({'ADJ': 10, 'PRT': 3}), '6': FreqDist({'NUM': 1}), 'per': FreqDist({'ADP': 14}), 'cent': FreqDist({'NOUN': 9}), '3': FreqDist({'NUM': 4}), 'worker': FreqDist({'NOUN': 1}), 'employer': FreqDist({'NOUN': 1}), '$4,800': FreqDist({'NOUN': 1}), 'alone': FreqDist({'ADV': 3}), 'boost': FreqDist({'NOUN': 2, 'VERB': 1}), 'base': FreqDist({'NOUN': 2}), '$5,000': FreqDist({'NOUN': 2}), '6.5': FreqDist({'NUM': 1}), '3.25': FreqDist({'NUM': 1}), 'Similar': FreqDist({'ADJ': 1}), 'boosts': FreqDist({'NOUN': 1}), 'imposed': FreqDist({'VERB': 1}), 'those': FreqDist({'DET': 13}), 'system': FreqDist({'NOUN': 8}), 'actually': FreqDist({'ADV': 1}), 'rise': FreqDist({'VERB': 1}), '7.5': FreqDist({'NUM': 1}), 'starting': FreqDist({'VERB': 1}), 'Jan.': FreqDist({'NOUN': 2}), '1': FreqDist({'NUM': 8}), '1963': FreqDist({'NUM': 2}), 'approved': FreqDist({'VERB': 3}), 'because': FreqDist({'ADP': 5, 'ADV': 4}), 'levy': FreqDist({'NOUN': 1}), 'already': FreqDist({'ADV': 4}), 'date': FreqDist({'NOUN': 2}), 'costs': FreqDist({'NOUN': 6}), 'Outlays': FreqDist({'NOUN': 1}), 'increase': FreqDist({'NOUN': 7, 'VERB': 5}), 'Officials': FreqDist({'NOUN': 2}), 'estimated': FreqDist({'VERB': 3}), 'annual': FreqDist({'ADJ': 6}), 'amount': FreqDist({'NOUN': 5, 'VERB': 3}), '1.5': FreqDist({'NUM': 1}), 'billion': FreqDist({'NUM': 3}), 'dollars': FreqDist({'NOUN': 5}), 'benefits': FreqDist({'NOUN': 2}), 'paid': FreqDist({'VERB': 6}), 'out': FreqDist({'PRT': 20, 'ADP': 6}), 'run': FreqDist({'VERB': 5}), 'Both': FreqDist({'DET': 3}), 'figures': FreqDist({'NOUN': 1}), 'higher': FreqDist({'ADJ': 4, 'ADV': 1}), 'later': FreqDist({'ADV': 4, 'ADJ': 1}), 'years': FreqDist({'NOUN': 19}), 'Other': FreqDist({'ADJ': 3}), 'parts': FreqDist({'NOUN': 2}), 'entail': FreqDist({'VERB': 1}), '750': FreqDist({'NUM': 1}), 'next': FreqDist({'ADJ': 6}), 'These': FreqDist({'DET': 3}), 'Nursing': FreqDist({'VERB': 1}), 'carries': FreqDist({'VERB': 1}), 'systems': FreqDist({'NOUN': 1}), ':': FreqDist({'.': 17}), 'Full': FreqDist({'ADJ': 2}), 'payment': FreqDist({'NOUN': 3}), 'stays': FreqDist({'NOUN': 1}), '90': FreqDist({'NUM': 1}), 'days': FreqDist({'NOUN': 12}), 'illness': FreqDist({'NOUN': 2}), 'except': FreqDist({'ADP': 1}), 'patient': FreqDist({'NOUN': 4, 'ADJ': 1}), '$10': FreqDist({'NOUN': 1}), 'day': FreqDist({'NOUN': 7}), 'cost': FreqDist({'NOUN': 6, 'VERB': 1}), 'nine': FreqDist({'NUM': 4}), '2': FreqDist({'NUM': 2}), 'nursing': FreqDist({'VERB': 5}), '180': FreqDist({'NUM': 1}), 'following': FreqDist({'VERB': 5, 'NOUN': 1}), 'discharge': FreqDist({'NOUN': 1}), 'A': FreqDist({'DET': 19}), 'could': FreqDist({'VERB': 20}), 'receive': FreqDist({'VERB': 4}), '300': FreqDist({'NUM': 1}), 'paid-for': FreqDist({'ADJ': 1}), 'unit': FreqDist({'NOUN': 1}), 'formula': FreqDist({'NOUN': 4}), 'allowing': FreqDist({'VERB': 1}), 'use': FreqDist({'VERB': 7, 'NOUN': 2}), 'none': FreqDist({'NOUN': 2}), 'only': FreqDist({'ADV': 11, 'ADJ': 3}), 'part': FreqDist({'NOUN': 9}), 'hospital-care': FreqDist({'NOUN': 1}), 'credit': FreqDist({'NOUN': 1}), 'Hospital': FreqDist({'NOUN': 1}), 'outpatient': FreqDist({'NOUN': 1}), 'clinic': FreqDist({'NOUN': 1}), 'diagnostic': FreqDist({'NOUN': 1}), 'service': FreqDist({'NOUN': 10}), 'excess': FreqDist({'NOUN': 1}), '$20': FreqDist({'NOUN': 1}), '4': FreqDist({'NUM': 3}), 'Community': FreqDist({'NOUN': 1}), 'visiting': FreqDist({'VERB': 1}), 'nurse': FreqDist({'NOUN': 1}), 'services': FreqDist({'NOUN': 7}), '240': FreqDist({'NUM': 1}), 'an': FreqDist({'DET': 63}), 'noted': FreqDist({'VERB': 1}), 'passed': FreqDist({'VERB': 3}), 'law': FreqDist({'NOUN': 11}), 'providing': FreqDist({'VERB': 1, 'ADP': 1}), 'states': FreqDist({'NOUN': 14}), 'needy': FreqDist({'ADJ': 1}), 'Calls': FreqDist({'VERB': 1}), 'proposal': FreqDist({'NOUN': 9}), 'modest': FreqDist({'ADJ': 3}), 'designed': FreqDist({'VERB': 1}), 'needs': FreqDist({'NOUN': 4}), 'millions': FreqDist({'NOUN': 3}), 'no': FreqDist({'DET': 27, 'ADV': 2}), 'wish': FreqDist({'NOUN': 1}), \"taxpayers'\": FreqDist({'NOUN': 1}), 'expense': FreqDist({'NOUN': 2}), 'nevertheless': FreqDist({'ADV': 2}), 'staggered': FreqDist({'VERB': 2}), 'drain': FreqDist({'NOUN': 1}), 'their': FreqDist({'DET': 29}), 'savings': FreqDist({'NOUN': 1}), 'children': FreqDist({'NOUN': 5}), 'caused': FreqDist({'VERB': 4}), 'extended': FreqDist({'VERB': 1}), 'stay': FreqDist({'NOUN': 1}), 'This': FreqDist({'DET': 16}), 'cut': FreqDist({'VERB': 2}), 'absolutely': FreqDist({'ADV': 1}), 'essential': FreqDist({'ADJ': 2, 'NOUN': 1}), 'sufficient': FreqDist({'ADJ': 2}), \"'\": FreqDist({'.': 14}), 'deductible': FreqDist({'ADJ': 1}), 'requirements': FreqDist({'NOUN': 1}), 'discourage': FreqDist({'VERB': 1}), 'any': FreqDist({'DET': 14}), 'malingering': FreqDist({'NOUN': 1}), 'unnecessary': FreqDist({'ADJ': 1}), 'overcrowding': FreqDist({'NOUN': 1}), 'our': FreqDist({'DET': 9}), 'hospitals': FreqDist({'NOUN': 2}), 'socialized': FreqDist({'VERB': 1}), 'medicine': FreqDist({'NOUN': 3}), 'prepayment': FreqDist({'NOUN': 1}), 'absolute': FreqDist({'ADJ': 1}), 'freedom': FreqDist({'NOUN': 2}), 'choice': FreqDist({'NOUN': 3}), 'guaranteed': FreqDist({'VERB': 1}), 'Every': FreqDist({'DET': 1}), 'person': FreqDist({'NOUN': 4}), 'choose': FreqDist({'VERB': 1}), 'own': FreqDist({'ADJ': 6, 'VERB': 1}), 'doctor': FreqDist({'NOUN': 2}), \"Wouldn't\": FreqDist({'VERB': 1}), 'doctors': FreqDist({'NOUN': 1}), 'does': FreqDist({'VERB': 7}), 'cover': FreqDist({'VERB': 1}), 'They': FreqDist({'PRON': 10}), 'Apart': FreqDist({'ADV': 1}), \"President's\": FreqDist({'NOUN': 3}), 'most': FreqDist({'ADV': 10, 'ADJ': 4}), 'ambitious': FreqDist({'ADJ': 1}), 'costly': FreqDist({'ADJ': 1}), 'enlarge': FreqDist({'VERB': 1}), \"nation's\": FreqDist({'NOUN': 4}), '92': FreqDist({'NUM': 1}), '47': FreqDist({'NUM': 1}), 'cannot': FreqDist({'VERB': 2}), 'handle': FreqDist({'VERB': 1}), 'student': FreqDist({'NOUN': 2}), 'load': FreqDist({'NOUN': 1}), 'needed': FreqDist({'VERB': 5}), 'rising': FreqDist({'VERB': 2}), 'need': FreqDist({'NOUN': 6, 'VERB': 4}), 'Moreover': FreqDist({'ADV': 1}), 'many': FreqDist({'ADJ': 3}), 'qualified': FreqDist({'VERB': 2}), 'young': FreqDist({'ADJ': 3}), 'going': FreqDist({'VERB': 5}), 'into': FreqDist({'ADP': 16}), 'dentistry': FreqDist({'NOUN': 1}), \"can't\": FreqDist({'VERB': 2}), 'afford': FreqDist({'VERB': 1}), 'schooling': FreqDist({'VERB': 1}), 'Contributions': FreqDist({'NOUN': 1}), 'scholarship': FreqDist({'NOUN': 2}), 'provide': FreqDist({'VERB': 8}), 'contributions': FreqDist({'NOUN': 2}), 'school': FreqDist({'NOUN': 11}), 'equal': FreqDist({'ADJ': 1}), '$1,500': FreqDist({'NOUN': 2}), 'one-fourth': FreqDist({'NOUN': 1}), 'students': FreqDist({'NOUN': 1}), 'money': FreqDist({'NOUN': 2}), '4-year': FreqDist({'ADJ': 1}), 'based': FreqDist({'VERB': 1}), '$2,000': FreqDist({'NOUN': 1}), 'addition': FreqDist({'NOUN': 1}), 'government': FreqDist({'NOUN': 24}), '$1,000': FreqDist({'NOUN': 1}), 'education': FreqDist({'NOUN': 3}), 'grant': FreqDist({'NOUN': 2}), 'combined': FreqDist({'VERB': 1}), '5.1': FreqDist({'NUM': 1}), '21': FreqDist({'NUM': 2}), '1966': FreqDist({'NUM': 2}), 'recommended': FreqDist({'VERB': 2}), 'matching': FreqDist({'VERB': 4}), 'totaling': FreqDist({'VERB': 1}), '700': FreqDist({'NUM': 1}), 'constructing': FreqDist({'VERB': 1}), 'enlarging': FreqDist({'VERB': 1}), 'capacity': FreqDist({'NOUN': 1}), 'existing': FreqDist({'VERB': 1}), 'ones': FreqDist({'NOUN': 1}), 'More': FreqDist({'ADJ': 1}), 'homes': FreqDist({'NOUN': 3}), 'area': FreqDist({'NOUN': 3}), 'community': FreqDist({'NOUN': 4}), 'called': FreqDist({'VERB': 13}), 'doubling': FreqDist({'VERB': 1}), 'present': FreqDist({'ADJ': 8, 'ADV': 1}), 'dollar': FreqDist({'NOUN': 3}), 'construction': FreqDist({'NOUN': 5}), 'asked': FreqDist({'VERB': 11}), 'initial': FreqDist({'ADJ': 1}), 'appropriation': FreqDist({'NOUN': 1}), 'stimulatory': FreqDist({'ADJ': 1}), 'improve': FreqDist({'VERB': 1}), 'further': FreqDist({'ADJ': 4, 'ADV': 2}), 'unspecified': FreqDist({'ADJ': 3}), 'sum': FreqDist({'NOUN': 1}), 'experimental': FreqDist({'ADJ': 1}), 'field': FreqDist({'NOUN': 2}), 'recommend': FreqDist({'VERB': 2}), 'funds': FreqDist({'NOUN': 8}), \"children's\": FreqDist({'NOUN': 1}), 'bureau': FreqDist({'NOUN': 2}), 'approve': FreqDist({'VERB': 1}), 'establishment': FreqDist({'NOUN': 1}), 'national': FreqDist({'ADJ': 15}), 'institute': FreqDist({'NOUN': 1, 'VERB': 1}), 'Asks': FreqDist({'VERB': 1}), 'ask': FreqDist({'VERB': 4}), 'vocational': FreqDist({'ADJ': 1}), 'rehabilitation': FreqDist({'NOUN': 2}), 'how': FreqDist({'ADV': 5}), 'For': FreqDist({'ADP': 2}), '30': FreqDist({'NUM': 2}), 'facilities': FreqDist({'NOUN': 3}), 'propose': FreqDist({'VERB': 1}), 'increasing': FreqDist({'VERB': 1}), '540': FreqDist({'NUM': 1}), '1961-62': FreqDist({'NUM': 1}), 'budget': FreqDist({'NOUN': 2}), 'direct': FreqDist({'ADJ': 1}), 'combine': FreqDist({'VERB': 1}), 'indispensable': FreqDist({'ADJ': 1}), 'elements': FreqDist({'NOUN': 1}), 'sound': FreqDist({'ADJ': 3}), 'knowledge': FreqDist({'NOUN': 1}), 'Reaction': FreqDist({'NOUN': 1}), 'expected': FreqDist({'VERB': 15}), 'Congressional': FreqDist({'ADJ': 2}), 'reaction': FreqDist({'NOUN': 3}), 'along': FreqDist({'ADP': 6, 'ADV': 1}), 'lines': FreqDist({'NOUN': 5}), 'Legislators': FreqDist({'NOUN': 3}), 'opposed': FreqDist({'VERB': 4}), 'placing': FreqDist({'VERB': 1}), 'aged-care': FreqDist({'NOUN': 1}), 'criticized': FreqDist({'VERB': 1}), 'Those': FreqDist({'DET': 1}), 'backed': FreqDist({'VERB': 1}), 'hailed': FreqDist({'VERB': 2}), 'Senate': FreqDist({'NOUN': 8}), 'Republican': FreqDist({'NOUN': 22}), 'Leader': FreqDist({'NOUN': 2}), 'Dirksen': FreqDist({'NOUN': 1}), '(': FreqDist({'.': 15}), 'Ill.': FreqDist({'NOUN': 2}), ')': FreqDist({'.': 15}), 'Charles': FreqDist({'NOUN': 4}), 'Halleck': FreqDist({'NOUN': 2}), 'Ind.': FreqDist({'NOUN': 1}), 'persuade': FreqDist({'VERB': 2}), 'change': FreqDist({'VERB': 1}), 'opposition': FreqDist({'NOUN': 6}), 'compulsory': FreqDist({'ADJ': 1}), 'insurance': FreqDist({'NOUN': 1}), 'voluntary': FreqDist({'ADJ': 4}), 'enacted': FreqDist({'VERB': 1}), 'should': FreqDist({'VERB': 21}), 'Speaker': FreqDist({'NOUN': 2}), 'Sam': FreqDist({'NOUN': 2}), 'Rayburn': FreqDist({'NOUN': 1}), 'D.': FreqDist({'NOUN': 7}), 'Tex.': FreqDist({'NOUN': 1}), 'mighty': FreqDist({'ADV': 1}), 'fine': FreqDist({'ADJ': 1}), 'thing': FreqDist({'NOUN': 3}), 'prediction': FreqDist({'NOUN': 1}), 'its': FreqDist({'DET': 30}), 'fate': FreqDist({'NOUN': 1}), 'hastily': FreqDist({'ADV': 1}), 'pressure': FreqDist({'NOUN': 4}), 'tonight': FreqDist({'NOUN': 1}), 'confirmed': FreqDist({'VERB': 1}), 'Robert': FreqDist({'NOUN': 2}), 'C.': FreqDist({'NOUN': 9}), 'Weaver': FreqDist({'NOUN': 1}), 'housing': FreqDist({'VERB': 5}), 'chief': FreqDist({'NOUN': 3}), 'Only': FreqDist({'ADV': 1}), '11': FreqDist({'NUM': 4}), 'senators': FreqDist({'NOUN': 1}), 'floor': FreqDist({'NOUN': 3}), 'record': FreqDist({'NOUN': 3}), 'number': FreqDist({'NOUN': 5}), 'scattered': FreqDist({'VERB': 1}), 'ayes': FreqDist({'NOUN': 1}), 'noes': FreqDist({'NOUN': 1}), 'Customary': FreqDist({'ADJ': 1}), 'rules': FreqDist({'NOUN': 1}), 'ignored': FreqDist({'VERB': 1}), 'order': FreqDist({'NOUN': 3}), 'speed': FreqDist({'VERB': 1}), 'approval': FreqDist({'NOUN': 2}), 'Negro': FreqDist({'NOUN': 1}), 'leader': FreqDist({'NOUN': 7}), 'administrator': FreqDist({'NOUN': 1}), 'agency': FreqDist({'NOUN': 2}), 'Presidential': FreqDist({'ADJ': 2}), 'appointments': FreqDist({'NOUN': 1}), 'including': FreqDist({'ADP': 1}), 'cabinet': FreqDist({'NOUN': 2}), 'rank': FreqDist({'NOUN': 2}), 'immediate': FreqDist({'ADJ': 5}), 'action': FreqDist({'NOUN': 2}), 'rule': FreqDist({'NOUN': 11}), 'requiring': FreqDist({'VERB': 1}), 'least': FreqDist({'ADJ': 2}), 'hour': FreqDist({'NOUN': 2}), 'delay': FreqDist({'NOUN': 1}), 'reported': FreqDist({'VERB': 10}), 'Enforce': FreqDist({'VERB': 1}), 'demand': FreqDist({'NOUN': 2}), 'enforced': FreqDist({'VERB': 1}), 'Sen.': FreqDist({'NOUN': 8}), 'Wayne': FreqDist({'NOUN': 3}), 'Morse': FreqDist({'NOUN': 3}), 'Ore.': FreqDist({'NOUN': 1}), 'connection': FreqDist({'NOUN': 2}), \"Eisenhower's\": FreqDist({'NOUN': 1}), 'selections': FreqDist({'NOUN': 1}), '1953': FreqDist({'NUM': 1}), \"Kennedy's\": FreqDist({'NOUN': 2}), '1961': FreqDist({'NUM': 9}), 'Oslo': FreqDist({'NOUN': 5}), 'positive': FreqDist({'ADJ': 2}), 'element': FreqDist({'NOUN': 1}), 'emerge': FreqDist({'VERB': 1}), 'meeting': FreqDist({'NOUN': 15}), 'North': FreqDist({'ADJ': 2}), 'Atlantic': FreqDist({'NOUN': 1}), 'Treaty': FreqDist({'NOUN': 2}), 'Organization': FreqDist({'NOUN': 3}), 'Foreign': FreqDist({'ADJ': 4}), 'Ministers': FreqDist({'NOUN': 1}), 'freer': FreqDist({'ADJ': 1}), 'franker': FreqDist({'ADJ': 1}), 'wider': FreqDist({'ADJ': 1}), 'discussions': FreqDist({'NOUN': 1}), 'animated': FreqDist({'VERB': 1}), 'better': FreqDist({'ADJ': 3}), 'mutual': FreqDist({'ADJ': 1}), 'understanding': FreqDist({'NOUN': 2, 'VERB': 2}), 'past': FreqDist({'ADJ': 3, 'NOUN': 3, 'ADP': 1}), 'meetings': FreqDist({'NOUN': 2}), 'session': FreqDist({'NOUN': 18}), 'organization': FreqDist({'NOUN': 7}), 'nature': FreqDist({'NOUN': 1}), 'can': FreqDist({'VERB': 17}), 'proceed': FreqDist({'VERB': 1}), 'route': FreqDist({'NOUN': 2}), 'step': FreqDist({'NOUN': 4, 'VERB': 1}), 'without': FreqDist({'ADP': 11}), 'dramatic': FreqDist({'ADJ': 1}), 'changes': FreqDist({'NOUN': 7}), 'ministers': FreqDist({'NOUN': 1}), 'met': FreqDist({'VERB': 2}), 'climate': FreqDist({'NOUN': 2}), 'candor': FreqDist({'NOUN': 1}), 'genuine': FreqDist({'ADJ': 2}), 'attempt': FreqDist({'NOUN': 5}), 'information': FreqDist({'NOUN': 6}), \"another's\": FreqDist({'DET': 1}), 'problems': FreqDist({'NOUN': 5}), 'atmosphere': FreqDist({'NOUN': 2}), 'particularly': FreqDist({'ADV': 2}), 'noticeable': FreqDist({'ADJ': 2}), 'where': FreqDist({'ADV': 14}), 'relations': FreqDist({'NOUN': 7}), 'concerned': FreqDist({'VERB': 4}), 'between': FreqDist({'ADP': 10}), 'colonialist': FreqDist({'NOUN': 1}), 'powers': FreqDist({'NOUN': 1}), 'never': FreqDist({'ADV': 4}), 'long': FreqDist({'ADJ': 4, 'ADV': 3}), 'nightmare': FreqDist({'NOUN': 1}), 'clash': FreqDist({'NOUN': 1}), 'trouble': FreqDist({'NOUN': 1}), 'Africa': FreqDist({'NOUN': 3}), 'exacerbated': FreqDist({'VERB': 1}), 'difficulties': FreqDist({'NOUN': 1}), 'tragedies': FreqDist({'NOUN': 1}), 'facing': FreqDist({'VERB': 1}), 'allies': FreqDist({'NOUN': 1}), 'intellectually': FreqDist({'ADV': 1}), 'emotionally': FreqDist({'ADV': 1}), 'disapprove': FreqDist({'VERB': 1}), 'circumstances': FreqDist({'NOUN': 1}), 'troubles': FreqDist({'NOUN': 1}), 'conspicuous': FreqDist({'ADJ': 1}), 'absence': FreqDist({'NOUN': 1}), 'Explosion': FreqDist({'NOUN': 1}), 'avoided': FreqDist({'VERB': 1}), 'Portugal': FreqDist({'NOUN': 1}), 'few': FreqDist({'ADJ': 2}), 'weeks': FreqDist({'NOUN': 5}), 'ago': FreqDist({'ADV': 5}), 'rumored': FreqDist({'VERB': 1}), 'ready': FreqDist({'ADJ': 2}), 'walk': FreqDist({'VERB': 1, 'NOUN': 1}), 'NATO': FreqDist({'NOUN': 7}), 'Council': FreqDist({'NOUN': 10}), 'critics': FreqDist({'NOUN': 1}), 'Angola': FreqDist({'NOUN': 2}), 'policy': FreqDist({'NOUN': 8}), 'prove': FreqDist({'VERB': 2}), 'harsh': FreqDist({'ADJ': 1}), 'relaxation': FreqDist({'NOUN': 2}), 'tension': FreqDist({'NOUN': 1}), 'remarkably': FreqDist({'ADV': 1}), 'courteous': FreqDist({'ADJ': 1}), 'explanation': FreqDist({'NOUN': 1}), 'left': FreqDist({'VERB': 6, 'ADJ': 3}), 'basic': FreqDist({'ADJ': 3}), 'positions': FreqDist({'NOUN': 3}), 'unchanged': FreqDist({'ADJ': 1}), 'explosion': FreqDist({'NOUN': 2}), 'council': FreqDist({'NOUN': 16}), 'bitter': FreqDist({'ADJ': 2}), 'surprises': FreqDist({'NOUN': 1}), 'UN': FreqDist({'NOUN': 1}), 'General': FreqDist({'ADJ': 6}), 'Assembly': FreqDist({'NOUN': 4}), \"members'\": FreqDist({'NOUN': 1}), 'since': FreqDist({'ADP': 11}), 'ad': FreqDist({'X': 1}), 'hoc': FreqDist({'X': 1}), 'committee': FreqDist({'NOUN': 12}), 'set': FreqDist({'VERB': 3}), 'so': FreqDist({'ADP': 5, 'ADV': 3}), 'future': FreqDist({'NOUN': 4, 'ADJ': 2}), 'topics': FreqDist({'NOUN': 1}), 'discussed': FreqDist({'VERB': 1}), 'advance': FreqDist({'NOUN': 1, 'VERB': 1}), 'Canada': FreqDist({'NOUN': 1}), 'somewhat': FreqDist({'ADV': 2}), 'allied': FreqDist({'VERB': 1}), 'cars': FreqDist({'NOUN': 2}), 'back': FreqDist({'ADV': 10, 'VERB': 1, 'NOUN': 1}), 'track': FreqDist({'NOUN': 6}), 'behind': FreqDist({'ADP': 1}), 'locomotive': FreqDist({'NOUN': 1}), 'Even': FreqDist({'ADV': 2}), 'Norway': FreqDist({'NOUN': 1}), 'despite': FreqDist({'ADP': 3}), 'daily': FreqDist({'ADJ': 1, 'ADV': 1}), 'limited': FreqDist({'VERB': 4}), 'manifestations': FreqDist({'NOUN': 1}), 'atomic': FreqDist({'ADJ': 2}), 'arms': FreqDist({'NOUN': 2}), 'heart': FreqDist({'NOUN': 2}), 'northernmost': FreqDist({'ADJ': 1}), 'capital': FreqDist({'NOUN': 1}), 'alliance': FreqDist({'NOUN': 3}), 'closer': FreqDist({'ADJ': 1}), 'line': FreqDist({'NOUN': 2}), 'On': FreqDist({'ADP': 3}), 'negative': FreqDist({'ADJ': 1}), 'side': FreqDist({'NOUN': 3}), 'balance': FreqDist({'NOUN': 1}), 'sheet': FreqDist({'NOUN': 1}), 'must': FreqDist({'VERB': 15}), 'disappointment': FreqDist({'NOUN': 1}), 'United': FreqDist({'VERB': 29}), 'States': FreqDist({'NOUN': 21}), 'leadership': FreqDist({'NOUN': 8}), 'hoped': FreqDist({'VERB': 2}), 'One': FreqDist({'NUM': 8}), 'diplomat': FreqDist({'NOUN': 1}), 'described': FreqDist({'VERB': 1}), 'tenor': FreqDist({'NOUN': 1}), 'Secretary': FreqDist({'NOUN': 9}), 'State': FreqDist({'NOUN': 14}), 'Dean': FreqDist({'NOUN': 2}), \"Rusk's\": FreqDist({'NOUN': 3}), 'speeches': FreqDist({'NOUN': 1}), 'inconclusive': FreqDist({'ADJ': 1}), 'But': FreqDist({'CONJ': 23}), 'hastened': FreqDist({'VERB': 1}), 'add': FreqDist({'VERB': 1}), 'policies': FreqDist({'NOUN': 4}), 'always': FreqDist({'ADV': 2}), 'clear': FreqDist({'ADJ': 2, 'VERB': 1}), 'Mr.': FreqDist({'NOUN': 52}), 'analysis': FreqDist({'NOUN': 1}), 'various': FreqDist({'ADJ': 1}), 'global': FreqDist({'ADJ': 2}), 'danger': FreqDist({'NOUN': 2}), 'points': FreqDist({'NOUN': 3}), 'setbacks': FreqDist({'NOUN': 1}), 'West': FreqDist({'ADJ': 2, 'NOUN': 1}), 'merely': FreqDist({'ADV': 2}), 'yet': FreqDist({'ADV': 2}), 'firmly': FreqDist({'ADV': 2}), 'fixed': FreqDist({'VERB': 1}), 'Exploratory': FreqDist({'ADJ': 1}), 'mood': FreqDist({'NOUN': 2}), 'certain': FreqDist({'ADJ': 4}), 'vagueness': FreqDist({'NOUN': 1}), 'tactical': FreqDist({'ADJ': 1}), 'appreciation': FreqDist({'NOUN': 1}), 'fact': FreqDist({'NOUN': 2}), 'semipublic': FreqDist({'ADJ': 1}), 'affair': FreqDist({'NOUN': 1}), 'fewer': FreqDist({'ADJ': 1}), 'six': FreqDist({'NUM': 5}), 'Soviet': FreqDist({'NOUN': 8}), 'correspondents': FreqDist({'NOUN': 2}), 'accredited': FreqDist({'VERB': 1}), 'impression': FreqDist({'NOUN': 2}), 'during': FreqDist({'ADP': 8}), 'three': FreqDist({'NUM': 14}), 'personal': FreqDist({'ADJ': 2}), 'popularity': FreqDist({'NOUN': 1}), 'delegation': FreqDist({'NOUN': 1}), 'came': FreqDist({'VERB': 7}), 'tentative': FreqDist({'ADJ': 1}), 'exploratory': FreqDist({'ADJ': 1}), 'frame': FreqDist({'NOUN': 1}), 'mind': FreqDist({'NOUN': 3}), 'listen': FreqDist({'VERB': 1}), 'learn': FreqDist({'VERB': 1}), 'enunciate': FreqDist({'VERB': 1}), 'firm': FreqDist({'NOUN': 4, 'ADJ': 1}), 'scale': FreqDist({'NOUN': 1}), 'detailed': FreqDist({'VERB': 3}), 'application': FreqDist({'NOUN': 1}), 'individual': FreqDist({'ADJ': 1}), 'spots': FreqDist({'NOUN': 1}), 'himself': FreqDist({'PRON': 3}), 'speech': FreqDist({'NOUN': 4}), 'gave': FreqDist({'VERB': 2}), 'idea': FreqDist({'NOUN': 1}), 'tremendous': FreqDist({'ADJ': 2}), 'march': FreqDist({'NOUN': 1}), 'events': FreqDist({'NOUN': 1}), 'inside': FreqDist({'ADP': 2, 'NOUN': 1}), 'preoccupied': FreqDist({'VERB': 1}), 'four': FreqDist({'NUM': 5}), 'months': FreqDist({'NOUN': 11}), 'core': FreqDist({'NOUN': 1}), 'reiterated': FreqDist({'VERB': 1}), \"States'\": FreqDist({'NOUN': 2}), 'profound': FreqDist({'ADJ': 1}), 'attachment': FreqDist({'NOUN': 1}), 'cornerstone': FreqDist({'NOUN': 1}), 'foreign': FreqDist({'ADJ': 5}), 'announced': FreqDist({'VERB': 5}), 'five': FreqDist({'NUM': 6}), 'nuclear': FreqDist({'ADJ': 3}), 'submarines': FreqDist({'NOUN': 1}), 'eventually': FreqDist({'ADV': 2}), \"NATO's\": FreqDist({'NOUN': 1}), 'disposal': FreqDist({'NOUN': 1}), 'European': FreqDist({'ADJ': 2}), 'waters': FreqDist({'NOUN': 2}), 'solemnly': FreqDist({'ADV': 1}), 'repeated': FreqDist({'VERB': 1}), 'warning': FreqDist({'NOUN': 2}), 'Union': FreqDist({'NOUN': 5}), 'stand': FreqDist({'NOUN': 6, 'VERB': 3}), 'setback': FreqDist({'NOUN': 1}), 'affirmation': FreqDist({'NOUN': 1}), 'once': FreqDist({'ADV': 1}), 'again': FreqDist({'ADV': 5}), 'whole': FreqDist({'NOUN': 1, 'ADJ': 1}), 'Conflict': FreqDist({'NOUN': 1}), 'surveyed': FreqDist({'VERB': 1}), \"secretary's\": FreqDist({'NOUN': 1}), 'greatest': FreqDist({'ADJ': 2}), 'achievement': FreqDist({'NOUN': 1}), 'perhaps': FreqDist({'ADV': 4}), 'rekindling': FreqDist({'NOUN': 1}), 'realization': FreqDist({'NOUN': 1}), 'East-West': FreqDist({'ADJ': 1}), 'friction': FreqDist({'NOUN': 1}), 'wherever': FreqDist({'ADV': 1}), 'place': FreqDist({'NOUN': 2}), 'around': FreqDist({'ADP': 1}), 'globe': FreqDist({'NOUN': 1}), 'essence': FreqDist({'NOUN': 1}), 'entirely': FreqDist({'ADV': 1}), 'different': FreqDist({'ADJ': 1}), 'societies': FreqDist({'NOUN': 2}), 'treated': FreqDist({'VERB': 1}), 'regard': FreqDist({'NOUN': 1}), 'geographical': FreqDist({'ADJ': 1}), 'distance': FreqDist({'NOUN': 1}), 'lack': FreqDist({'NOUN': 1, 'VERB': 1}), 'apparent': FreqDist({'ADJ': 4}), 'spring': FreqDist({'NOUN': 4}), 'impetus': FreqDist({'NOUN': 1}), 'main': FreqDist({'NOUN': 1}), 'directions': FreqDist({'NOUN': 1}), 'deeper': FreqDist({'ADJ': 1}), 'timely': FreqDist({'ADJ': 1}), 'political': FreqDist({'ADJ': 13}), 'consultation': FreqDist({'NOUN': 1}), 'within': FreqDist({'ADP': 6}), 'Economic': FreqDist({'ADJ': 2}), 'Cooperation': FreqDist({'NOUN': 1}), 'Development': FreqDist({'NOUN': 2}), 'ratified': FreqDist({'VERB': 1}), 'method': FreqDist({'NOUN': 2}), 'coordinating': FreqDist({'VERB': 2}), 'aid': FreqDist({'NOUN': 15}), 'underdeveloped': FreqDist({'ADJ': 1}), 'countries': FreqDist({'NOUN': 13}), 'strengthening': FreqDist({'VERB': 1, 'NOUN': 1}), 'conventional': FreqDist({'ADJ': 2}), 'forces': FreqDist({'NOUN': 8}), 'well': FreqDist({'ADV': 7}), 'maintenance': FreqDist({'NOUN': 1}), 'deterrent': FreqDist({'NOUN': 1}), 'threshold': FreqDist({'NOUN': 1}), \"alliance's\": FreqDist({'NOUN': 1}), 'difficult': FreqDist({'ADJ': 3}), 'come': FreqDist({'VERB': 12}), 'Each': FreqDist({'DET': 4}), 'ally': FreqDist({'NOUN': 2}), 'carry': FreqDist({'VERB': 3}), 'obligations': FreqDist({'NOUN': 1}), 'laid': FreqDist({'VERB': 2}), 'down': FreqDist({'PRT': 5, 'ADP': 2}), 'completely': FreqDist({'ADV': 2}), 'fulfilled': FreqDist({'VERB': 1}), 'moves': FreqDist({'VERB': 1}), 'haltingly': FreqDist({'ADV': 1}), 'Geneva': FreqDist({'NOUN': 5}), 'conference': FreqDist({'NOUN': 9}), 'Laos': FreqDist({'NOUN': 15}), 'just': FreqDist({'ADV': 5, 'ADJ': 1}), 'debate': FreqDist({'NOUN': 1}), 'erupts': FreqDist({'VERB': 1}), 'little': FreqDist({'ADJ': 1, 'ADV': 1}), 'optimism': FreqDist({'NOUN': 1}), 'here': FreqDist({'ADV': 10}), 'Communists': FreqDist({'NOUN': 6}), 'docile': FreqDist({'ADJ': 1}), 'table': FreqDist({'NOUN': 1}), 'military': FreqDist({'ADJ': 13}), 'actions': FreqDist({'NOUN': 3}), 'ground': FreqDist({'NOUN': 1}), 'Department': FreqDist({'NOUN': 6}), 'officials': FreqDist({'NOUN': 2}), 'explain': FreqDist({'VERB': 1}), 'mainly': FreqDist({'ADV': 1}), 'interested': FreqDist({'VERB': 4}), 'setting': FreqDist({'VERB': 2}), 'international': FreqDist({'ADJ': 2}), 'inspection': FreqDist({'NOUN': 1}), 'prevent': FreqDist({'VERB': 5}), 'being': FreqDist({'VERB': 9}), 'Communist': FreqDist({'NOUN': 12}), 'attacks': FreqDist({'NOUN': 1}), 'neighboring': FreqDist({'VERB': 1}), 'Thailand': FreqDist({'NOUN': 2}), 'South': FreqDist({'ADJ': 2}), 'Viet': FreqDist({'NOUN': 2}), 'Nam': FreqDist({'NOUN': 2}), 'count': FreqDist({'VERB': 1}), 'neutral': FreqDist({'ADJ': 1}), 'attending': FreqDist({'VERB': 1}), 'achieve': FreqDist({'VERB': 2}), 'hopes': FreqDist({'VERB': 2}), 'Lao': FreqDist({'NOUN': 5}), 'Cabinet': FreqDist({'NOUN': 1}), 'become': FreqDist({'VERB': 7}), 'dominated': FreqDist({'VERB': 1}), 'acceptable': FreqDist({'ADJ': 2}), 'found': FreqDist({'VERB': 2}), 'possibility': FreqDist({'NOUN': 1}), 'Policies': FreqDist({'NOUN': 2}), 'modified': FreqDist({'VERB': 1}), 'inclination': FreqDist({'NOUN': 1}), 'accept': FreqDist({'VERB': 2}), 'de': FreqDist({'X': 1}), 'facto': FreqDist({'X': 1}), 'cease-fire': FreqDist({'NOUN': 2}), 'continue': FreqDist({'VERB': 1}), 'insist': FreqDist({'VERB': 2}), 'verification': FreqDist({'NOUN': 2}), 'control': FreqDist({'NOUN': 3}), 'commission': FreqDist({'NOUN': 5}), 'participating': FreqDist({'VERB': 1}), 'modifications': FreqDist({'NOUN': 1}), 'felt': FreqDist({'VERB': 3}), 'compelled': FreqDist({'VERB': 1}), 'excuses': FreqDist({'VERB': 1}), 'chain': FreqDist({'NOUN': 1}), 'errors': FreqDist({'NOUN': 1}), 'previous': FreqDist({'ADJ': 2}), 'Its': FreqDist({'DET': 1}), 'spokesmen': FreqDist({'NOUN': 3}), 'enough': FreqDist({'ADJ': 5}), 'reforms': FreqDist({'NOUN': 3}), 'economic': FreqDist({'ADJ': 6}), 'critical': FreqDist({'ADJ': 3}), 'areas': FreqDist({'NOUN': 2}), 'moving': FreqDist({'VERB': 2}), 'confrontations': FreqDist({'NOUN': 1}), 'showing': FreqDist({'VERB': 2}), 'gain': FreqDist({'NOUN': 1, 'VERB': 1}), 'free': FreqDist({'ADJ': 5}), 'world': FreqDist({'NOUN': 4}), 'question': FreqDist({'NOUN': 6, 'VERB': 1}), 'arises': FreqDist({'VERB': 1}), 'How': FreqDist({'ADV': 2}), 'effective': FreqDist({'ADJ': 3}), 'dealing': FreqDist({'VERB': 1}), 'aggression': FreqDist({'NOUN': 1}), 'Former': FreqDist({'ADJ': 1}), 'Vice-President': FreqDist({'NOUN': 2}), 'Richard': FreqDist({'NOUN': 7}), 'Nixon': FreqDist({'NOUN': 3}), 'Detroit': FreqDist({'NOUN': 1}), 'firmer': FreqDist({'ADJ': 3}), 'tougher': FreqDist({'ADJ': 1, 'ADV': 1}), 'what': FreqDist({'DET': 15}), 'feels': FreqDist({'VERB': 1}), 'tendency': FreqDist({'NOUN': 1}), 'too': FreqDist({'ADV': 4}), 'conciliatory': FreqDist({'ADJ': 1}), 'GOP': FreqDist({'NOUN': 4}), 'restrained': FreqDist({'VERB': 1}), 'Gallup': FreqDist({'NOUN': 1}), 'poll': FreqDist({'NOUN': 2}), 'find': FreqDist({'VERB': 5}), 'Republicans': FreqDist({'NOUN': 9}), 'feel': FreqDist({'VERB': 2}), 'understates': FreqDist({'VERB': 1}), 'situation': FreqDist({'NOUN': 4}), 'see': FreqDist({'VERB': 9}), 'hardly': FreqDist({'ADV': 3}), 'restrain': FreqDist({'VERB': 1}), 'raising': FreqDist({'VERB': 4}), 'whether': FreqDist({'ADP': 7}), 'power': FreqDist({'NOUN': 2}), 'amateurish': FreqDist({'ADJ': 1}), 'monumental': FreqDist({'ADJ': 1}), 'blunders': FreqDist({'NOUN': 1}), 'Cuba': FreqDist({'NOUN': 4}), 'correspondent': FreqDist({'NOUN': 1}), 'constantly': FreqDist({'ADV': 1}), 'why': FreqDist({'ADV': 2}), \"didn't\": FreqDist({'VERB': 2}), 'attack': FreqDist({'NOUN': 8, 'VERB': 1}), 'score': FreqDist({'NOUN': 1}), 'His': FreqDist({'DET': 11}), 'reply': FreqDist({'NOUN': 2}), 'agreed': FreqDist({'VERB': 8}), 'unity': FreqDist({'NOUN': 2}), 'country': FreqDist({'NOUN': 4}), 'politics': FreqDist({'NOUN': 2}), 'let': FreqDist({'VERB': 1}), 'wisdom': FreqDist({'NOUN': 1}), 'served': FreqDist({'VERB': 3}), 'notice': FreqDist({'NOUN': 1}), 'through': FreqDist({'ADP': 7, 'PRT': 1}), 'Senator': FreqDist({'NOUN': 2}), 'Thruston': FreqDist({'NOUN': 1}), 'B.': FreqDist({'NOUN': 2}), 'Morton': FreqDist({'NOUN': 1}), 'R': FreqDist({'NOUN': 1}), 'Kentucky': FreqDist({'NOUN': 1}), 'chairman': FreqDist({'NOUN': 6}), 'National': FreqDist({'ADJ': 3}), 'Committee': FreqDist({'NOUN': 12}), 'held': FreqDist({'VERB': 3}), 'responsible': FreqDist({'ADJ': 3}), 'outcome': FreqDist({'NOUN': 2}), 'coalition': FreqDist({'NOUN': 7}), 'susceptible': FreqDist({'ADJ': 1}), 'domination': FreqDist({'NOUN': 1}), 'assailed': FreqDist({'VERB': 1}), 'direction': FreqDist({'NOUN': 3}), 'Harvard': FreqDist({'NOUN': 1}), 'Boston': FreqDist({'NOUN': 3}), 'University': FreqDist({'NOUN': 4}), 'Brandeis': FreqDist({'NOUN': 1}), 'Massachusetts': FreqDist({'NOUN': 6}), 'Institute': FreqDist({'NOUN': 1}), 'Technology': FreqDist({'NOUN': 1}), 'educators': FreqDist({'NOUN': 1}), 'Detente': FreqDist({'NOUN': 1}), 'urged': FreqDist({'VERB': 3}), 'group': FreqDist({'NOUN': 4}), 'pleads': FreqDist({'VERB': 1}), 'give': FreqDist({'VERB': 8}), 'support': FreqDist({'NOUN': 2, 'VERB': 2}), 'invasion': FreqDist({'NOUN': 1}), 'exile': FreqDist({'NOUN': 1}), 'groups': FreqDist({'NOUN': 6}), 'recommends': FreqDist({'VERB': 1}), 'seek': FreqDist({'VERB': 4}), 'instead': FreqDist({'ADV': 4}), 'detach': FreqDist({'VERB': 1}), 'Castro': FreqDist({'NOUN': 1}), 'regime': FreqDist({'NOUN': 3}), 'bloc': FreqDist({'NOUN': 3}), 'diplomatic': FreqDist({'ADJ': 2}), 'detente': FreqDist({'NOUN': 1}), 'resumption': FreqDist({'NOUN': 1}), 'trade': FreqDist({'NOUN': 2}), ';': FreqDist({'.': 14}), 'concentrate': FreqDist({'VERB': 1}), 'constructive': FreqDist({'ADJ': 1}), 'efforts': FreqDist({'NOUN': 10}), 'eliminating': FreqDist({'VERB': 2}), 'Latin': FreqDist({'ADJ': 3}), 'America': FreqDist({'NOUN': 3}), 'conditions': FreqDist({'NOUN': 1}), 'totalitarian': FreqDist({'ADJ': 1}), 'nationalism': FreqDist({'NOUN': 1}), 'feeds': FreqDist({'VERB': 1}), 'oppose': FreqDist({'VERB': 2}), 'intervention': FreqDist({'NOUN': 1}), 'specific': FreqDist({'ADJ': 1}), 'provocation': FreqDist({'NOUN': 2}), 'clearly': FreqDist({'ADV': 3}), 'shipped': FreqDist({'VERB': 1}), 'tolerated': FreqDist({'VERB': 1}), 'Until': FreqDist({'ADP': 1}), 'Cuban': FreqDist({'NOUN': 1}), 'fiasco': FreqDist({'NOUN': 1}), 'victories': FreqDist({'NOUN': 1}), 'almost': FreqDist({'ADV': 3}), 'observer': FreqDist({'NOUN': 1}), 'blended': FreqDist({'VERB': 1}), 'respected': FreqDist({'VERB': 1}), 'generally': FreqDist({'ADV': 3}), 'opinions': FreqDist({'NOUN': 2}), 'voiced': FreqDist({'VERB': 2}), 'both': FreqDist({'DET': 9}), 'professors': FreqDist({'NOUN': 1}), 'Aid': FreqDist({'NOUN': 1}), 'revamped': FreqDist({'VERB': 2}), 'Very': FreqDist({'ADV': 1}), 'early': FreqDist({'ADV': 6, 'ADJ': 2}), 'informed': FreqDist({'VERB': 2}), 'Kremlin': FreqDist({'NOUN': 2}), 'channels': FreqDist({'NOUN': 1}), 'high': FreqDist({'ADJ': 7}), 'official': FreqDist({'ADJ': 1, 'NOUN': 1}), 'source': FreqDist({'NOUN': 3}), 'disclosed': FreqDist({'VERB': 4}), 'react': FreqDist({'VERB': 1}), 'Eisenhower': FreqDist({'NOUN': 11}), 'formative': FreqDist({'ADJ': 1}), 'period': FreqDist({'NOUN': 4}), 'Strenuous': FreqDist({'ADJ': 1}), 'remove': FreqDist({'VERB': 1}), 'pin': FreqDist({'NOUN': 1}), 'pricking': FreqDist({'VERB': 1}), 'test': FreqDist({'NOUN': 3}), 'ban': FreqDist({'NOUN': 1}), 'negotiations': FreqDist({'NOUN': 2}), 'reviewed': FreqDist({'VERB': 1}), 'changed': FreqDist({'VERB': 1}), 'thus': FreqDist({'ADV': 3}), 'far': FreqDist({'ADV': 10}), 'response': FreqDist({'NOUN': 1}), 'kind': FreqDist({'NOUN': 4}), 'emphasis': FreqDist({'NOUN': 1}), 'encourage': FreqDist({'VERB': 1}), 'reform': FreqDist({'NOUN': 2}), 'recipient': FreqDist({'NOUN': 1}), 'nations': FreqDist({'NOUN': 5}), 'looked': FreqDist({'VERB': 1}), 'show': FreqDist({'VERB': 2}), 'determination': FreqDist({'NOUN': 1}), 'sailing': FreqDist({'VERB': 1}), 'naval': FreqDist({'ADJ': 1}), 'fleet': FreqDist({'NOUN': 2}), 'Southeast': FreqDist({'ADJ': 3}), 'Asian': FreqDist({'ADJ': 1}), 'useless': FreqDist({'ADJ': 2}), 'gesture': FreqDist({'NOUN': 1}), 'Again': FreqDist({'ADV': 1}), 'freeze': FreqDist({'VERB': 1}), 'aided': FreqDist({'VERB': 1}), 'Pathet': FreqDist({'NOUN': 3}), 'faster': FreqDist({'ADJ': 1}), 'rate': FreqDist({'NOUN': 3}), 'And': FreqDist({'CONJ': 4}), 'went': FreqDist({'VERB': 1}), 'territory': FreqDist({'NOUN': 1}), 'exposed': FreqDist({'VERB': 1}), 'huge': FreqDist({'ADJ': 1}), 'build-up': FreqDist({'NOUN': 1}), 'acclaimed': FreqDist({'VERB': 1}), 'performing': FreqDist({'VERB': 1}), 'great': FreqDist({'ADJ': 4}), 'Asia': FreqDist({'NOUN': 3}), 'SEATO': FreqDist({'NOUN': 2}), 'steamed': FreqDist({'VERB': 1}), 'prepared': FreqDist({'VERB': 1}), 'contingency': FreqDist({'NOUN': 1}), 'coping': FreqDist({'VERB': 1}), 'losses': FreqDist({'NOUN': 1}), 'want': FreqDist({'VERB': 5}), 'risk': FreqDist({'VERB': 1}), 'all-out': FreqDist({'ADJ': 1}), 'war': FreqDist({'NOUN': 3}), 'disagreed': FreqDist({'VERB': 2}), 'however': FreqDist({'ADV': 3}), 'complication': FreqDist({'NOUN': 1}), 'concluded': FreqDist({'VERB': 2}), 'ill': FreqDist({'ADV': 1}), 'suited': FreqDist({'VERB': 1}), 'unlike': FreqDist({'ADP': 1}), 'determined': FreqDist({'VERB': 1}), 'neighbors': FreqDist({'NOUN': 2}), 'declared': FreqDist({'VERB': 5}), 'itself': FreqDist({'PRON': 1}), 'favor': FreqDist({'NOUN': 3, 'VERB': 1}), 'neutralized': FreqDist({'VERB': 1}), 'pro-Western': FreqDist({'ADJ': 3}), 'helped': FreqDist({'VERB': 1}), 'revolt': FreqDist({'NOUN': 1}), 'Souvanna': FreqDist({'NOUN': 5}), 'Phouma': FreqDist({'NOUN': 3}), 'neutralist': FreqDist({'NOUN': 1}), 'appear': FreqDist({'VERB': 1}), 'spark': FreqDist({'VERB': 1}), 'fighting': FreqDist({'VERB': 2}), 'spirit': FreqDist({'NOUN': 1}), 'Royal': FreqDist({'ADJ': 1}), 'Army': FreqDist({'NOUN': 2}), 'certainly': FreqDist({'ADV': 2}), 'energy': FreqDist({'NOUN': 1}), 'displayed': FreqDist({'VERB': 1}), 'hilt': FreqDist({'NOUN': 1}), 'If': FreqDist({'ADP': 5}), 'ever': FreqDist({'ADV': 2}), 'ideas': FreqDist({'NOUN': 1}), 'alternative': FreqDist({'NOUN': 1, 'ADJ': 1}), 'Prince': FreqDist({'NOUN': 6}), 'trusting': FreqDist({'ADJ': 1}), 'gradually': FreqDist({'ADV': 1}), 'relinquish': FreqDist({'VERB': 1}), 'factor': FreqDist({'NOUN': 3}), 'W.': FreqDist({'NOUN': 8}), 'Fulbright': FreqDist({'NOUN': 1}), 'D': FreqDist({'NOUN': 1}), 'Arkansas': FreqDist({'NOUN': 2}), 'Relations': FreqDist({'NOUN': 1}), 'March': FreqDist({'NOUN': 2}), '25': FreqDist({'NUM': 1}), 'erred': FreqDist({'VERB': 1}), 'half': FreqDist({'PRT': 7}), 'encouraging': FreqDist({'VERB': 1}), 'removal': FreqDist({'NOUN': 1}), 'taking': FreqDist({'VERB': 4}), 'extraordinary': FreqDist({'ADJ': 1}), 'steps': FreqDist({'NOUN': 5}), 'check': FreqDist({'VERB': 1}), 'rapid': FreqDist({'ADJ': 2}), 'growth': FreqDist({'NOUN': 4}), 'juvenile': FreqDist({'ADJ': 3}), 'delinquency': FreqDist({'NOUN': 1}), 'deeply': FreqDist({'ADV': 2}), 'problem': FreqDist({'NOUN': 10}), 'effect': FreqDist({'NOUN': 2, 'VERB': 2}), 'upon': FreqDist({'ADP': 3, 'ADV': 1}), 'vitality': FreqDist({'NOUN': 1}), 'nation': FreqDist({'NOUN': 1}), 'important': FreqDist({'ADJ': 3}), 'assertion': FreqDist({'NOUN': 1}), 'executive': FreqDist({'NOUN': 4}), 'establishing': FreqDist({'VERB': 1}), 'Juvenile': FreqDist({'ADJ': 2}), 'Delinquency': FreqDist({'NOUN': 2}), 'Crime': FreqDist({'NOUN': 2}), 'supported': FreqDist({'VERB': 4}), 'assisted': FreqDist({'VERB': 1}), 'Citizens': FreqDist({'NOUN': 5}), 'Advisory': FreqDist({'ADJ': 2}), 'recognized': FreqDist({'VERB': 2}), 'authorities': FreqDist({'NOUN': 1}), 'asks': FreqDist({'VERB': 1}), 'cooperation': FreqDist({'NOUN': 2}), 'enactment': FreqDist({'NOUN': 1}), 'legislation': FreqDist({'NOUN': 4}), 'specified': FreqDist({'VERB': 1}), 'combating': FreqDist({'VERB': 1}), 'disturbing': FreqDist({'ADJ': 1}), 'crime': FreqDist({'NOUN': 1}), 'trend': FreqDist({'NOUN': 1}), 'Offenses': FreqDist({'NOUN': 1}), 'multiply': FreqDist({'VERB': 1}), 'Attorney': FreqDist({'NOUN': 4}), 'Health': FreqDist({'NOUN': 2}), 'Education': FreqDist({'NOUN': 4}), 'Welfare': FreqDist({'NOUN': 1}), 'Labor': FreqDist({'NOUN': 4}), 'coordinate': FreqDist({'VERB': 1}), 'development': FreqDist({'NOUN': 7}), 'assist': FreqDist({'VERB': 1}), 'local': FreqDist({'ADJ': 10, 'NOUN': 3}), 'communities': FreqDist({'NOUN': 1}), 'cope': FreqDist({'VERB': 1}), 'Simultaneously': FreqDist({'ADV': 1}), 'Thursday': FreqDist({'NOUN': 2}), 'appointment': FreqDist({'NOUN': 3}), 'David': FreqDist({'NOUN': 2}), 'L.': FreqDist({'NOUN': 4}), 'Hackett': FreqDist({'NOUN': 1}), 'assistant': FreqDist({'NOUN': 5}), 'director': FreqDist({'NOUN': 12}), 'Youth': FreqDist({'NOUN': 1}), 'sense': FreqDist({'NOUN': 2}), 'urgency': FreqDist({'NOUN': 1}), 'stems': FreqDist({'VERB': 1}), 'arrests': FreqDist({'NOUN': 2}), 'doubled': FreqDist({'VERB': 2}), '1948': FreqDist({'NUM': 1}), 'offenders': FreqDist({'NOUN': 1}), 'Among': FreqDist({'ADP': 1}), 'Federal': FreqDist({'ADJ': 4}), 'Bureau': FreqDist({'NOUN': 1}), 'Investigation': FreqDist({'NOUN': 1}), '1959': FreqDist({'NUM': 4}), 'burglary': FreqDist({'NOUN': 1}), 'larceny': FreqDist({'NOUN': 1}), '18': FreqDist({'NUM': 8}), 'age': FreqDist({'NOUN': 1}), 'Providence': FreqDist({'NOUN': 6}), 'organize': FreqDist({'VERB': 2}), 'civil': FreqDist({'ADJ': 7}), 'defense': FreqDist({'NOUN': 9}), 'setup': FreqDist({'NOUN': 1}), 'begin': FreqDist({'VERB': 3}), 'appointing': FreqDist({'VERB': 1}), 'full-time': FreqDist({'ADJ': 6}), 'Raymond': FreqDist({'NOUN': 3}), 'H.': FreqDist({'NOUN': 5}), 'Hawksley': FreqDist({'NOUN': 10}), 'CD': FreqDist({'NOUN': 7}), 'head': FreqDist({'NOUN': 4, 'VERB': 1}), 'believes': FreqDist({'VERB': 4}), 'willing': FreqDist({'ADJ': 5}), 'anyone': FreqDist({'NOUN': 2}), 'else': FreqDist({'ADV': 1}), 'locally': FreqDist({'ADV': 2}), 'outline': FreqDist({'VERB': 1}), 'earliest': FreqDist({'ADJ': 1}), 'possible': FreqDist({'ADJ': 8}), \"state's\": FreqDist({'NOUN': 3}), 'treasurer': FreqDist({'NOUN': 1}), 'part-time': FreqDist({'ADJ': 1}), 'named': FreqDist({'VERB': 2}), 'Noting': FreqDist({'VERB': 2}), 'handed': FreqDist({'VERB': 1}), 'Defense': FreqDist({'NOUN': 2}), 'major': FreqDist({'ADJ': 7}), 'responsibility': FreqDist({'NOUN': 2}), 'salary': FreqDist({'NOUN': 2}), 'expressed': FreqDist({'VERB': 2}), 'opinion': FreqDist({'NOUN': 4}), 'hire': FreqDist({'VERB': 1}), '$3,500': FreqDist({'NOUN': 1}), 'put': FreqDist({'VERB': 2}), 'fund': FreqDist({'NOUN': 2}), 'basis': FreqDist({'NOUN': 3}), 'defray': FreqDist({'VERB': 1}), 'believed': FreqDist({'VERB': 2}), 'residents': FreqDist({'NOUN': 4}), 'job': FreqDist({'NOUN': 3}), 'men': FreqDist({'NOUN': 2}), 'former': FreqDist({'ADJ': 7}), 'Fire': FreqDist({'NOUN': 4}), 'A.': FreqDist({'NOUN': 11}), 'Laughlin': FreqDist({'NOUN': 1}), 'Along': FreqDist({'ADV': 1, 'ADP': 1}), 'headquarters': FreqDist({'NOUN': 1}), 'pertinent': FreqDist({'ADJ': 1}), 'centralized': FreqDist({'VERB': 1}), 'advantage': FreqDist({'NOUN': 3}), 'having': FreqDist({'VERB': 3}), 'eligible': FreqDist({'ADJ': 2}), 'apply': FreqDist({'VERB': 1}), 'financial': FreqDist({'ADJ': 1}), 'purchasing': FreqDist({'VERB': 1}), 'equipment': FreqDist({'NOUN': 1}), 'Matching': FreqDist({'VERB': 1}), 'procurement': FreqDist({'NOUN': 1}), 'items': FreqDist({'NOUN': 1}), 'radios': FreqDist({'NOUN': 1}), 'sirens': FreqDist({'NOUN': 1}), 'rescue': FreqDist({'NOUN': 3, 'VERB': 1}), 'trucks': FreqDist({'NOUN': 3}), 'vehicle': FreqDist({'NOUN': 1}), 'Central': FreqDist({'ADJ': 5}), 'Station': FreqDist({'NOUN': 1}), 'assign': FreqDist({'VERB': 1}), 'Riverside': FreqDist({'NOUN': 2}), 'section': FreqDist({'NOUN': 2}), 'Rumford': FreqDist({'NOUN': 1}), 'Speaking': FreqDist({'VERB': 1}), 'status': FreqDist({'NOUN': 2}), 'bet': FreqDist({'VERB': 1}), 'hundred': FreqDist({'NUM': 2}), 'know': FreqDist({'VERB': 6}), 'do': FreqDist({'VERB': 9}), 'event': FreqDist({'NOUN': 2}), 'enemy': FreqDist({'NOUN': 1}), 'Narragansett': FreqDist({'NOUN': 1}), 'Race': FreqDist({'NOUN': 1}), 'Track': FreqDist({'NOUN': 1}), 'grounds': FreqDist({'NOUN': 1}), 'assembly': FreqDist({'NOUN': 2}), 'point': FreqDist({'NOUN': 6}), 'drive-in': FreqDist({'NOUN': 1}), 'theater': FreqDist({'NOUN': 1}), 'Seekonk': FreqDist({'NOUN': 2}), 'knowing': FreqDist({'VERB': 1}), 'assemble': FreqDist({'VERB': 1}), 'air': FreqDist({'NOUN': 2}), 'Such': FreqDist({'ADJ': 1, 'PRT': 1}), 'vital': FreqDist({'ADJ': 5}), 'available': FreqDist({'ADJ': 2}), 'public': FreqDist({'ADJ': 8, 'NOUN': 6}), 'frequently': FreqDist({'ADV': 1}), 'regular': FreqDist({'ADJ': 3}), 'intervals': FreqDist({'NOUN': 2}), 'fails': FreqDist({'VERB': 2}), 'consider': FreqDist({'VERB': 2}), 'then': FreqDist({'ADV': 5}), 'call': FreqDist({'VERB': 5}), 'September': FreqDist({'NOUN': 2}), 'developed': FreqDist({'VERB': 4}), 'things': FreqDist({'NOUN': 1}), 'classes': FreqDist({'NOUN': 1}), 'drifts': FreqDist({'VERB': 1}), 'level': FreqDist({'NOUN': 5}), 'Rhode': FreqDist({'NOUN': 3}), 'Island': FreqDist({'NOUN': 4}), 'examine': FreqDist({'VERB': 1}), 'Sunday': FreqDist({'NOUN': 12}), 'sales': FreqDist({'NOUN': 13}), 'revisions': FreqDist({'NOUN': 1}), 'Governor': FreqDist({'NOUN': 1}), 'Notte': FreqDist({'NOUN': 4}), 'name': FreqDist({'VERB': 2, 'NOUN': 1}), 'study': FreqDist({'NOUN': 4, 'VERB': 1}), 'recommendations': FreqDist({'NOUN': 2}), \"governor's\": FreqDist({'NOUN': 3}), 'move': FreqDist({'NOUN': 3, 'VERB': 1}), 'so-called': FreqDist({'ADJ': 1}), 'blue': FreqDist({'ADJ': 2}), 'controversy': FreqDist({'NOUN': 2}), 'form': FreqDist({'VERB': 4, 'NOUN': 2}), 'letter': FreqDist({'NOUN': 1}), 'Miss': FreqDist({'NOUN': 3}), 'Mary': FreqDist({'NOUN': 1}), 'R.': FreqDist({'NOUN': 6}), 'Grant': FreqDist({'NOUN': 3}), 'deputy': FreqDist({'ADJ': 1}), 'clerk': FreqDist({'NOUN': 1}), 'Falls': FreqDist({'NOUN': 3}), 'copy': FreqDist({'NOUN': 1}), 'released': FreqDist({'VERB': 1}), 'responding': FreqDist({'VERB': 1}), 'resolution': FreqDist({'NOUN': 4}), 'adopted': FreqDist({'VERB': 3}), 'sent': FreqDist({'VERB': 2}), 'house': FreqDist({'NOUN': 6}), 'urges': FreqDist({'VERB': 1}), 'governor': FreqDist({'NOUN': 8}), 'complete': FreqDist({'ADJ': 3}), 'laws': FreqDist({'NOUN': 6}), 'eye': FreqDist({'NOUN': 1}), 'revision': FreqDist({'NOUN': 2}), 'legislature': FreqDist({'NOUN': 1}), 'While': FreqDist({'ADP': 2}), 'suggested': FreqDist({'VERB': 3}), 'Legislative': FreqDist({'ADJ': 1}), 'might': FreqDist({'VERB': 7, 'NOUN': 1}), 'perform': FreqDist({'VERB': 2}), 'review': FreqDist({'NOUN': 1}), 'Atty.': FreqDist({'NOUN': 1}), 'Gen.': FreqDist({'NOUN': 5, 'ADJ': 1}), 'Joseph': FreqDist({'NOUN': 2}), 'Nugent': FreqDist({'NOUN': 1}), 'benefit': FreqDist({'NOUN': 1}), 'views': FreqDist({'NOUN': 3, 'VERB': 2}), 'appoint': FreqDist({'VERB': 1}), \"Nugent's\": FreqDist({'NOUN': 1}), 'expect': FreqDist({'VERB': 1}), 'hold': FreqDist({'VERB': 4}), 'obtain': FreqDist({'VERB': 2}), 'religious': FreqDist({'ADJ': 7}), 'labor': FreqDist({'NOUN': 3}), 'special-interest': FreqDist({'NOUN': 1}), 'affected': FreqDist({'VERB': 1}), 'wrote': FreqDist({'VERB': 1}), 'continuous': FreqDist({'ADJ': 1}), 'confronts': FreqDist({'VERB': 1}), 'enforcement': FreqDist({'NOUN': 4}), 'officers': FreqDist({'NOUN': 2}), 'result': FreqDist({'NOUN': 1}), 'regulating': FreqDist({'VERB': 1}), 'advised': FreqDist({'VERB': 2}), 'police': FreqDist({'NOUN': 4}), 'duty': FreqDist({'NOUN': 1}), 'enforce': FreqDist({'VERB': 1}), 'Should': FreqDist({'VERB': 1}), 'shirking': FreqDist({'VERB': 1}), 'activity': FreqDist({'NOUN': 1}), 'across': FreqDist({'ADP': 1}), 'recent': FreqDist({'ADJ': 6}), 'statutes': FreqDist({'NOUN': 1}), 'Bay': FreqDist({'NOUN': 1}), 'dating': FreqDist({'VERB': 1}), 'instances': FreqDist({'NOUN': 1}), 'colonial': FreqDist({'ADJ': 1}), 'times': FreqDist({'NOUN': 1}), 'severely': FreqDist({'ADV': 1}), 'limit': FreqDist({'VERB': 1}), 'types': FreqDist({'NOUN': 1}), 'merchandise': FreqDist({'NOUN': 1}), 'sold': FreqDist({'VERB': 1}), 'Sabbath': FreqDist({'NOUN': 1}), 'concern': FreqDist({'NOUN': 6}), 'especially': FreqDist({'ADV': 1}), 'foods': FreqDist({'NOUN': 1}), 'placed': FreqDist({'VERB': 3}), 'list': FreqDist({'NOUN': 2}), 'neighborhood': FreqDist({'NOUN': 1}), 'grocery': FreqDist({'NOUN': 1}), 'variety': FreqDist({'NOUN': 2}), 'stores': FreqDist({'NOUN': 3}), 'allowed': FreqDist({'VERB': 2}), 'chance': FreqDist({'NOUN': 1}), 'compete': FreqDist({'VERB': 1}), 'supermarkets': FreqDist({'NOUN': 2}), \"council's\": FreqDist({'NOUN': 2}), 'small': FreqDist({'ADJ': 3}), 'shops': FreqDist({'NOUN': 1}), 'retained': FreqDist({'VERB': 1}), 'according': FreqDist({'ADP': 3}), 'added': FreqDist({'VERB': 10}), 'livelihood': FreqDist({'NOUN': 1}), 'thousands': FreqDist({'NOUN': 3}), 'declares': FreqDist({'VERB': 1}), 'licenses': FreqDist({'NOUN': 2}), 'revenue': FreqDist({'NOUN': 1}), 'factory': FreqDist({'NOUN': 1}), 'outlets': FreqDist({'NOUN': 1}), 'department': FreqDist({'NOUN': 7}), 'operate': FreqDist({'VERB': 2}), 'volume': FreqDist({'NOUN': 1}), 'contended': FreqDist({'VERB': 1}), 'shopping': FreqDist({'VERB': 2}), 'Liberals': FreqDist({'NOUN': 1}), 'conservatives': FreqDist({'NOUN': 1}), 'parties': FreqDist({'NOUN': 7}), 'Democratic': FreqDist({'ADJ': 29}), 'divorce': FreqDist({'VERB': 1}), 'independent': FreqDist({'ADJ': 1}), 'George': FreqDist({'NOUN': 1}), 'Reama': FreqDist({'NOUN': 5}), 'nationally': FreqDist({'ADV': 1}), 'known': FreqDist({'VERB': 3}), 'labor-management': FreqDist({'NOUN': 1}), 'expert': FreqDist({'NOUN': 1}), 'Rotary': FreqDist({'ADJ': 1}), 'Club': FreqDist({'NOUN': 5}), 'luncheon': FreqDist({'NOUN': 2}), 'Sheraton-Biltmore': FreqDist({'NOUN': 1}), 'Hotel': FreqDist({'NOUN': 6}), 'welfare': FreqDist({'NOUN': 1}), 'type': FreqDist({'NOUN': 1}), 'enterprise': FreqDist({'NOUN': 2}), 'regrouping': FreqDist({'NOUN': 1}), 'allow': FreqDist({'VERB': 1}), 'average': FreqDist({'ADJ': 1}), 'voter': FreqDist({'NOUN': 1}), 'pull': FreqDist({'NOUN': 1, 'VERB': 1}), 'right': FreqDist({'ADJ': 5, 'NOUN': 2}), 'lever': FreqDist({'NOUN': 1}), 'him': FreqDist({'PRON': 6}), 'confessing': FreqDist({'VERB': 1}), 'member': FreqDist({'NOUN': 7}), 'Socialist': FreqDist({'ADJ': 4, 'NOUN': 2}), 'Party': FreqDist({'NOUN': 8}), '1910': FreqDist({'NUM': 3}), 'That': FreqDist({'DET': 4}), 'man': FreqDist({'NOUN': 12}), 'machinist': FreqDist({'NOUN': 1}), 'toolmaker': FreqDist({'NOUN': 1}), 'studied': FreqDist({'VERB': 3}), 'fellow': FreqDist({'NOUN': 1}), 'grooming': FreqDist({'VERB': 1}), 'me': FreqDist({'PRON': 5}), 'office': FreqDist({'NOUN': 7}), 'lawyer': FreqDist({'NOUN': 3}), 'steered': FreqDist({'VERB': 2}), 'off': FreqDist({'PRT': 3, 'ADP': 2}), 'party': FreqDist({'NOUN': 18}), 'operation': FreqDist({'NOUN': 2}), 'utilities': FreqDist({'NOUN': 2}), 'pooling': FreqDist({'VERB': 1}), 'resources': FreqDist({'NOUN': 1}), 'gaining': FreqDist({'VERB': 1}), 'victory': FreqDist({'NOUN': 3}), 'original': FreqDist({'ADJ': 4}), 'pass': FreqDist({'VERB': 4}), 'retired': FreqDist({'VERB': 4}), 'vice': FreqDist({'NOUN': 1}), 'president': FreqDist({'NOUN': 12}), 'Screw': FreqDist({'NOUN': 1}), 'Co.': FreqDist({'NOUN': 7}), '1955': FreqDist({'NUM': 1}), 'us': FreqDist({'PRON': 3}), 'we': FreqDist({'PRON': 14}), 'gross': FreqDist({'ADJ': 1}), 'product': FreqDist({'NOUN': 1}), 'neither': FreqDist({'DET': 1}), 'favors': FreqDist({'VERB': 1}), 'wage': FreqDist({'NOUN': 1, 'VERB': 1}), 'increases': FreqDist({'NOUN': 1}), 'manufacturers': FreqDist({'NOUN': 1}), 'caught': FreqDist({'VERB': 2}), 'profit': FreqDist({'NOUN': 1, 'VERB': 1}), 'squeeze': FreqDist({'NOUN': 1}), 'raises': FreqDist({'NOUN': 1}), 'conditioned': FreqDist({'VERB': 1}), 'prices': FreqDist({'NOUN': 2}), 'Indicating': FreqDist({'VERB': 1}), 'turned': FreqDist({'VERB': 3}), 'philosophy': FreqDist({'NOUN': 2}), 'dividing': FreqDist({'VERB': 2}), 'everything': FreqDist({'NOUN': 2}), 'really': FreqDist({'ADV': 3}), 'engaged': FreqDist({'VERB': 1}), 'industrial': FreqDist({'ADJ': 1}), 'counseling': FreqDist({'NOUN': 1}), 'petition': FreqDist({'NOUN': 1}), 'bearing': FreqDist({'VERB': 1}), 'signatures': FreqDist({'NOUN': 4}), '1,700': FreqDist({'NUM': 1}), 'Johnston': FreqDist({'NOUN': 4}), 'taxpayers': FreqDist({'NOUN': 1}), 'presented': FreqDist({'VERB': 3}), 'town': FreqDist({'NOUN': 7}), 'obtaining': FreqDist({'VERB': 1}), 'charter': FreqDist({'NOUN': 11}), 'William': FreqDist({'NOUN': 6}), 'Martinelli': FreqDist({'NOUN': 7}), 'Group': FreqDist({'NOUN': 4}), 'transferred': FreqDist({'VERB': 1}), 'petitions': FreqDist({'NOUN': 3, 'VERB': 1}), 'hand': FreqDist({'NOUN': 4}), 'voted': FreqDist({'VERB': 1}), 'suggestion': FreqDist({'NOUN': 1}), 'Fortin': FreqDist({'NOUN': 1}), 'Sr.': FreqDist({'NOUN': 1}), 'governs': FreqDist({'VERB': 1}), 'referred': FreqDist({'VERB': 1}), 'board': FreqDist({'NOUN': 13}), 'canvassers': FreqDist({'NOUN': 2}), 'happens': FreqDist({'VERB': 1}), 'post': FreqDist({'NOUN': 3, 'VERB': 1}), 'explained': FreqDist({'VERB': 3}), 'assure': FreqDist({'VERB': 1}), 'scheduling': FreqDist({'NOUN': 1}), 'establish': FreqDist({'VERB': 2}), 'procedures': FreqDist({'NOUN': 2}), 'issue': FreqDist({'NOUN': 11}), '60': FreqDist({'NUM': 1}), 'completes': FreqDist({'VERB': 1}), 'difference': FreqDist({'NOUN': 2}), 'arose': FreqDist({'VERB': 1}), 'P.': FreqDist({'NOUN': 3}), 'Bourcier': FreqDist({'NOUN': 3}), 'solicitor': FreqDist({'NOUN': 1}), 'exact': FreqDist({'ADJ': 1}), 'manner': FreqDist({'NOUN': 1}), 'handled': FreqDist({'VERB': 1}), 'while': FreqDist({'ADP': 5}), 'consulted': FreqDist({'VERB': 1}), 'Superior': FreqDist({'ADJ': 2}), 'Court': FreqDist({'NOUN': 6}), 'justices': FreqDist({'NOUN': 1}), 'received': FreqDist({'VERB': 4}), 'favoring': FreqDist({'VERB': 1}), 'assured': FreqDist({'VERB': 1}), 'correct': FreqDist({'ADJ': 1}), 'report': FreqDist({'NOUN': 5, 'VERB': 1}), 'soon': FreqDist({'ADV': 2}), 'strategy': FreqDist({'NOUN': 2}), 'movement': FreqDist({'NOUN': 5}), 'candidates': FreqDist({'NOUN': 8}), 'undoubtedly': FreqDist({'ADV': 1}), 'endorse': FreqDist({'VERB': 1}), 'comes': FreqDist({'VERB': 2}), 'inspiring': FreqDist({'VERB': 1}), 'think': FreqDist({'VERB': 5}), 'follow': FreqDist({'VERB': 3}), 'hope': FreqDist({'VERB': 1}), 'spearhead': FreqDist({'VERB': 1}), 'surprised': FreqDist({'VERB': 1}), 'running': FreqDist({'VERB': 6}), 'required': FreqDist({'VERB': 2}), 'non-partisan': FreqDist({'ADJ': 1}), 'ballot': FreqDist({'NOUN': 2}), 'posts': FreqDist({'NOUN': 4}), 'Our': FreqDist({'DET': 1}), 'goal': FreqDist({'NOUN': 2}), 'awareness': FreqDist({'NOUN': 1}), 'tell': FreqDist({'VERB': 4}), 'expects': FreqDist({'VERB': 3}), 'timetable': FreqDist({'NOUN': 1}), 'followed': FreqDist({'VERB': 5}), 'started': FreqDist({'VERB': 2}), \"town's\": FreqDist({'NOUN': 1}), 'insurgent': FreqDist({'ADJ': 1}), 'speaking': FreqDist({'VERB': 1}), 'model': FreqDist({'ADJ': 1, 'NOUN': 1}), 'municipal': FreqDist({'ADJ': 1}), 'league': FreqDist({'NOUN': 1}), 'Increasing': FreqDist({'VERB': 1}), 'coming': FreqDist({'VERB': 3}), 'Misunderstanding': FreqDist({'VERB': 1}), 'real': FreqDist({'ADJ': 2}), 'meaning': FreqDist({'NOUN': 1}), 'cited': FreqDist({'VERB': 2}), 'termed': FreqDist({'VERB': 2}), 'false': FreqDist({'ADJ': 1}), 'pretenses': FreqDist({'NOUN': 1}), 'Several': FreqDist({'ADJ': 1}), 'signers': FreqDist({'NOUN': 1}), 'affixed': FreqDist({'VERB': 1}), 'names': FreqDist({'NOUN': 1}), 'learned': FreqDist({'VERB': 1}), 'consent': FreqDist({'NOUN': 1}), 'provision': FreqDist({'NOUN': 1}), 'included': FreqDist({'VERB': 2}), 'Sanitary': FreqDist({'ADJ': 1}), 'District': FreqDist({'NOUN': 7}), 'sewer': FreqDist({'NOUN': 1}), 'Action': FreqDist({'NOUN': 1}), 'ordinance': FreqDist({'NOUN': 5}), 'permitting': FreqDist({'VERB': 1}), 'motorists': FreqDist({'NOUN': 1}), 'plead': FreqDist({'VERB': 1}), 'guilty': FreqDist({'ADJ': 1}), 'minor': FreqDist({'ADJ': 2, 'NOUN': 1}), 'traffic': FreqDist({'NOUN': 4}), 'offenses': FreqDist({'NOUN': 3}), 'fines': FreqDist({'NOUN': 1}), 'station': FreqDist({'NOUN': 2}), \"Monday's\": FreqDist({'NOUN': 1}), 'Town': FreqDist({'NOUN': 2}), 'Frank': FreqDist({'NOUN': 3}), 'SanAntonio': FreqDist({'NOUN': 1}), 'formally': FreqDist({'ADV': 2}), 'request': FreqDist({'VERB': 1, 'NOUN': 1}), 'Solicitor': FreqDist({'NOUN': 2}), 'Michael': FreqDist({'NOUN': 1}), 'Abatuno': FreqDist({'NOUN': 1}), 'draft': FreqDist({'VERB': 1}), 'At': FreqDist({'ADP': 6}), 'authorized': FreqDist({'VERB': 1}), 'adopt': FreqDist({'VERB': 1}), 'making': FreqDist({'VERB': 3}), 'Nothing': FreqDist({'NOUN': 1}), 'done': FreqDist({'VERB': 7}), 'enabling': FreqDist({'VERB': 2}), 'Sixth': FreqDist({'ADJ': 1}), 'disposition': FreqDist({'NOUN': 1}), 'Local': FreqDist({'ADJ': 1}), 'hesitated': FreqDist({'VERB': 1}), 'prosecute': FreqDist({'VERB': 1}), 'heavy': FreqDist({'ADJ': 1}), 'simplest': FreqDist({'ADJ': 1}), 'offense': FreqDist({'NOUN': 1}), 'Plainfield': FreqDist({'NOUN': 2}), 'James': FreqDist({'NOUN': 9}), 'Mitchell': FreqDist({'NOUN': 13}), 'Walter': FreqDist({'NOUN': 1}), 'Jones': FreqDist({'NOUN': 11}), 'R-Bergen': FreqDist({'NOUN': 1}), 'value': FreqDist({'NOUN': 1}), 'using': FreqDist({'VERB': 3}), 'campaign': FreqDist({'NOUN': 8, 'VERB': 2}), 'remark': FreqDist({'NOUN': 3}), 'Hughes': FreqDist({'NOUN': 20}), 'gubernatorial': FreqDist({'ADJ': 5}), 'Campaigning': FreqDist({'VERB': 1}), 'carcass': FreqDist({'NOUN': 3}), 'Republicanism': FreqDist({'NOUN': 3}), 'Dumont': FreqDist({'NOUN': 2}), 'Jr.': FreqDist({'NOUN': 5}), 'R-Warren': FreqDist({'NOUN': 1}), 'mention': FreqDist({'VERB': 2}), 'spoke': FreqDist({'VERB': 4}), '100': FreqDist({'NUM': 3}), 'Park': FreqDist({'NOUN': 2}), 'controversial': FreqDist({'ADJ': 1}), 'Westfield': FreqDist({'NOUN': 4}), 'Young': FreqDist({'ADJ': 2}), 'cocktail': FreqDist({'NOUN': 1}), 'Scotch': FreqDist({'ADJ': 1}), 'Plains': FreqDist({'NOUN': 1}), 'Country': FreqDist({'NOUN': 1}), 'greeted': FreqDist({'VERB': 1}), 'chorus': FreqDist({'NOUN': 1}), 'boos': FreqDist({'NOUN': 2}), '500': FreqDist({'NUM': 1}), 'women': FreqDist({'NOUN': 2}), 'Trenton': FreqDist({'NOUN': 3}), 'Monday': FreqDist({'NOUN': 11}), 'forum': FreqDist({'NOUN': 1}), 'Federation': FreqDist({'NOUN': 1}), \"Women's\": FreqDist({'NOUN': 3}), 'Clubs': FreqDist({'NOUN': 1}), 'intention': FreqDist({'NOUN': 1}), 'stopped': FreqDist({'VERB': 1}), 'beating': FreqDist({'VERB': 1}), 'lifeblood': FreqDist({'NOUN': 1}), 'congealed': FreqDist({'VERB': 1}), 'Now': FreqDist({'ADV': 2}), \"he's\": FreqDist({'PRT': 1}), 'gone': FreqDist({'VERB': 2}), 'able': FreqDist({'ADJ': 5}), 'sell': FreqDist({'VERB': 2}), 'tattered': FreqDist({'VERB': 2}), 'remains': FreqDist({'NOUN': 2}), 'We': FreqDist({'PRON': 11}), 'love': FreqDist({'VERB': 1}), 'considered': FreqDist({'VERB': 2}), 'mediocre': FreqDist({'ADJ': 1}), 'nothing': FreqDist({'NOUN': 1}), 'primary': FreqDist({'NOUN': 9, 'ADJ': 1}), 'fall': FreqDist({'NOUN': 1}), 'degree': FreqDist({'NOUN': 2}), 'common': FreqDist({'ADJ': 1}), 'decency': FreqDist({'NOUN': 1}), 'charge': FreqDist({'NOUN': 3, 'VERB': 1}), 'proud': FreqDist({'ADJ': 2}), 'absorbed': FreqDist({'VERB': 1}), 'adminstration': FreqDist({'NOUN': 1}), 'closeness': FreqDist({'NOUN': 1}), \"fall's\": FreqDist({'NOUN': 1}), 'dead': FreqDist({'ADJ': 3}), 'Regrets': FreqDist({'VERB': 1}), 'regretted': FreqDist({'VERB': 1}), 'wrong': FreqDist({'ADJ': 1}), 'inject': FreqDist({'VERB': 1}), 'waged': FreqDist({'VERB': 1}), 'issues': FreqDist({'NOUN': 5}), 'forced': FreqDist({'VERB': 1}), 're-arguing': FreqDist({'VERB': 1}), 'old': FreqDist({'ADJ': 2}), 'audience': FreqDist({'NOUN': 2}), 'respond': FreqDist({'VERB': 1}), 'either': FreqDist({'CONJ': 4, 'DET': 1}), 'applause': FreqDist({'NOUN': 1}), \"Hughes'\": FreqDist({'NOUN': 2}), 'merit': FreqDist({'NOUN': 1}), 'open': FreqDist({'ADJ': 4, 'ADV': 1}), 'launched': FreqDist({'VERB': 1}), 'continuance': FreqDist({'NOUN': 1}), 'passenger': FreqDist({'NOUN': 1}), 'proper': FreqDist({'ADJ': 1}), 'uses': FreqDist({'NOUN': 1}), 'surplus': FreqDist({'NOUN': 1}), 'New': FreqDist({'ADJ': 16}), 'York': FreqDist({'NOUN': 2}), 'Authority': FreqDist({'NOUN': 2}), 'Jersey': FreqDist({'NOUN': 6}), 'attractive': FreqDist({'ADJ': 1}), 'industry': FreqDist({'NOUN': 5}), 'Decries': FreqDist({'VERB': 1}), 'joblessness': FreqDist({'NOUN': 1}), 'decried': FreqDist({'VERB': 1}), 'unemployment': FreqDist({'NOUN': 1}), 'Meyner': FreqDist({'NOUN': 3}), 'Republican-controlled': FreqDist({'ADJ': 1}), 'Must': FreqDist({'VERB': 1}), 'share': FreqDist({'VERB': 1}), 'blame': FreqDist({'NOUN': 1}), 'lost': FreqDist({'VERB': 1}), 'Mack': FreqDist({'NOUN': 1}), 'Truck': FreqDist({'NOUN': 1}), 'plant': FreqDist({'NOUN': 1}), 'until': FreqDist({'ADP': 4}), 'am': FreqDist({'VERB': 2}), 'income': FreqDist({'NOUN': 2}), 'unhappy': FreqDist({'ADJ': 1}), 'minutes': FreqDist({'NOUN': 2}), 'questions': FreqDist({'NOUN': 2}), 'saved': FreqDist({'VERB': 1}), 'barbs': FreqDist({'NOUN': 1}), 'centralization': FreqDist({'NOUN': 2}), 'looks': FreqDist({'VERB': 1}), 'Administration': FreqDist({'NOUN': 2}), 'transportation': FreqDist({'NOUN': 1}), 'crises': FreqDist({'NOUN': 1}), 'calls': FreqDist({'VERB': 4, 'NOUN': 1}), 'saying': FreqDist({'VERB': 2}), 'you': FreqDist({'PRON': 4}), 'ways': FreqDist({'NOUN': 3}), 'faced': FreqDist({'VERB': 2}), 'estate': FreqDist({'NOUN': 1}), 'motor': FreqDist({'NOUN': 1}), 'vehicles': FreqDist({'NOUN': 2}), 'challenge': FreqDist({'NOUN': 2, 'VERB': 1}), 'stands': FreqDist({'VERB': 2}), 'Defends': FreqDist({'VERB': 1}), 'Ike': FreqDist({'NOUN': 1}), 'Earlier': FreqDist({'ADV': 1}), 'resent': FreqDist({'VERB': 1}), 'reference': FreqDist({'NOUN': 1}), 'discredited': FreqDist({'VERB': 1}), \"president's\": FreqDist({'NOUN': 1}), 'insult': FreqDist({'NOUN': 1}), 'led': FreqDist({'VERB': 3}), 'history': FreqDist({'NOUN': 2}), 'twice': FreqDist({'ADV': 1}), 'elected': FreqDist({'VERB': 4}), 'overwhelmingly': FreqDist({'ADV': 1}), 'symbol': FreqDist({'NOUN': 1}), 'peace-loving': FreqDist({'ADJ': 1}), 'intentions': FreqDist({'NOUN': 2}), 'hard': FreqDist({'ADJ': 1}), 'understand': FreqDist({'VERB': 1}), 'seeking': FreqDist({'VERB': 1}), 'position': FreqDist({'NOUN': 3}), 'life': FreqDist({'NOUN': 5}), 'demonstrate': FreqDist({'VERB': 1}), 'poor': FreqDist({'ADJ': 1}), 'judgment': FreqDist({'NOUN': 1}), 'bad': FreqDist({'ADJ': 1}), 'taste': FreqDist({'NOUN': 1}), 'vicious': FreqDist({'ADJ': 1}), 'origin': FreqDist({'NOUN': 1}), 'desire': FreqDist({'NOUN': 1}), 'try': FreqDist({'VERB': 2}), 'condemning': FreqDist({'VERB': 1}), 'stature': FreqDist({'NOUN': 1}), 'rebound': FreqDist({'VERB': 1}), 'discredit': FreqDist({'NOUN': 1}), 'Sees': FreqDist({'VERB': 1}), 'ahead': FreqDist({'ADV': 3}), 'Sandman': FreqDist({'NOUN': 5}), 'R-Cape': FreqDist({'NOUN': 1}), 'May': FreqDist({'NOUN': 1}), 'opponents': FreqDist({'NOUN': 1}), 'nomination': FreqDist({'NOUN': 5}), 'addressing': FreqDist({'VERB': 1}), 'Military': FreqDist({'ADJ': 1}), 'Newark': FreqDist({'NOUN': 1}), 'Essex': FreqDist({'NOUN': 2}), 'leaders': FreqDist({'NOUN': 14}), 'managers': FreqDist({'NOUN': 1}), 'gathering': FreqDist({'NOUN': 1}), 'reports': FreqDist({'NOUN': 3}), 'indicate': FreqDist({'VERB': 1}), 'chosen': FreqDist({'VERB': 1}), \"Party's\": FreqDist({'NOUN': 1}), 'nominee': FreqDist({'NOUN': 2}), 'largest': FreqDist({'ADJ': 1}), 'majority': FreqDist({'NOUN': 1}), 'announcement': FreqDist({'NOUN': 2}), 'Clifford': FreqDist({'NOUN': 1}), 'Case': FreqDist({'NOUN': 1}), 'Aj': FreqDist({'NOUN': 2}), 'decided': FreqDist({'VERB': 5}), 'spend': FreqDist({'VERB': 1}), 'campaigning': FreqDist({'VERB': 1}), 'giveaway': FreqDist({'NOUN': 1}), 'desperate': FreqDist({'ADJ': 1}), 'effort': FreqDist({'NOUN': 6}), 'prop': FreqDist({'VERB': 1}), 'sagging': FreqDist({'VERB': 1}), 'proven': FreqDist({'VERB': 1}), 'answer': FreqDist({'VERB': 1}), \"Jersey's\": FreqDist({'NOUN': 1}), 'witnessed': FreqDist({'VERB': 1}), 'project': FreqDist({'NOUN': 13, 'VERB': 1}), 'image': FreqDist({'NOUN': 1}), 'failed': FreqDist({'VERB': 2}), 'witnessing': FreqDist({'VERB': 1}), 'transfer': FreqDist({'VERB': 1}), 'glow': FreqDist({'NOUN': 1}), \"Case's\": FreqDist({'NOUN': 1}), 'candidacy': FreqDist({'NOUN': 3}), 'fail': FreqDist({'VERB': 1}), 'Mrs.': FreqDist({'NOUN': 7}), 'Harriet': FreqDist({'NOUN': 1}), 'Copeland': FreqDist({'NOUN': 1}), 'Greenfield': FreqDist({'NOUN': 2}), '330': FreqDist({'NUM': 1}), 'Woodland': FreqDist({'NOUN': 1}), 'Ave.': FreqDist({'NOUN': 5}), 'Women': FreqDist({'NOUN': 1}), 'committeewoman': FreqDist({'NOUN': 2}), 'Supervisor': FreqDist({'NOUN': 1}), 'Weldon': FreqDist({'NOUN': 1}), 'Sheets': FreqDist({'NOUN': 4}), 'end': FreqDist({'NOUN': 1, 'VERB': 1}), 'paper': FreqDist({'NOUN': 1}), 'ballots': FreqDist({'NOUN': 1}), 'counties': FreqDist({'NOUN': 2}), 'represents': FreqDist({'VERB': 1}), 'necessary': FreqDist({'ADJ': 4}), 'democracy': FreqDist({'NOUN': 1}), 'lip': FreqDist({'NOUN': 1}), 'word': FreqDist({'NOUN': 1}), 'offer': FreqDist({'VERB': 2}), 'financing': FreqDist({'VERB': 1}), 'purchase': FreqDist({'NOUN': 3, 'VERB': 1}), 'voting': FreqDist({'VERB': 3}), 'machines': FreqDist({'NOUN': 2}), 'repay': FreqDist({'VERB': 1}), 'loan': FreqDist({'NOUN': 1}), '10-year': FreqDist({'ADJ': 2}), 'interest': FreqDist({'NOUN': 2}), 'exclusive': FreqDist({'ADJ': 1}), 'January': FreqDist({'NOUN': 3}), '1964': FreqDist({'NUM': 1}), 'Although': FreqDist({'ADP': 1}), 'pointed': FreqDist({'VERB': 3}), 'mandatory': FreqDist({'ADJ': 1}), 'impinging': FreqDist({'VERB': 1}), 'basically': FreqDist({'ADV': 1}), 'distasteful': FreqDist({'ADJ': 1}), 'results': FreqDist({'NOUN': 1}), 'transcended': FreqDist({'VERB': 1}), 'Mayor': FreqDist({'NOUN': 11}), 'Sheeran': FreqDist({'NOUN': 3}), 'Orange': FreqDist({'NOUN': 2}), 'sheriff': FreqDist({'NOUN': 2}), 'Edward': FreqDist({'NOUN': 1}), 'Roos': FreqDist({'NOUN': 2}), 'safety': FreqDist({'NOUN': 2}), 'commissioner': FreqDist({'NOUN': 2}), 'FBI': FreqDist({'NOUN': 1}), \"organization's\": FreqDist({'NOUN': 3}), 'Freeholder': FreqDist({'NOUN': 1}), 'MacDonald': FreqDist({'NOUN': 2}), 'vacancy': FreqDist({'NOUN': 1}), 'resignation': FreqDist({'NOUN': 1}), 'Neil': FreqDist({'NOUN': 1}), 'Duffy': FreqDist({'NOUN': 1}), 'Board': FreqDist({'NOUN': 2}), 'Tax': FreqDist({'NOUN': 1}), 'Appeals': FreqDist({'NOUN': 1}), 'My': FreqDist({'DET': 1}), 'experience': FreqDist({'NOUN': 3}), 'shown': FreqDist({'VERB': 1}), 'best': FreqDist({'ADV': 1, 'ADJ': 1, 'VERB': 1}), 'filled': FreqDist({'VERB': 1}), 'preferably': FreqDist({'ADV': 1}), 'Jim': FreqDist({'NOUN': 3}), 'fits': FreqDist({'VERB': 1}), 'description': FreqDist({'NOUN': 1}), 'Seidel': FreqDist({'NOUN': 2}), 'fire': FreqDist({'NOUN': 10}), 'warden': FreqDist({'NOUN': 3}), 'Conservation': FreqDist({'NOUN': 3}), '36': FreqDist({'NUM': 1}), 'citation': FreqDist({'NOUN': 1}), 'Commissioner': FreqDist({'NOUN': 6}), 'Salvatore': FreqDist({'NOUN': 1}), 'Bontempo': FreqDist({'NOUN': 1}), 'credits': FreqDist({'VERB': 1}), 'supervision': FreqDist({'NOUN': 2}), 'reduction': FreqDist({'NOUN': 1}), 'forest': FreqDist({'NOUN': 1}), 'fires': FreqDist({'NOUN': 1}), 'joined': FreqDist({'VERB': 1}), '1925': FreqDist({'NUM': 1}), 'division': FreqDist({'NOUN': 3}), 'graduation': FreqDist({'NOUN': 1}), '1921': FreqDist({'NUM': 1}), 'Michigan': FreqDist({'NOUN': 1}), 'forestry': FreqDist({'NOUN': 1}), 'employment': FreqDist({'NOUN': 1}), 'private': FreqDist({'ADJ': 5}), 'lumber': FreqDist({'NOUN': 1}), 'companies': FreqDist({'NOUN': 2}), 'October': FreqDist({'NOUN': 1}), '1944': FreqDist({'NUM': 1}), 'appointed': FreqDist({'VERB': 2}), 'Forest': FreqDist({'NOUN': 1}), 'Section': FreqDist({'NOUN': 1}), 'Under': FreqDist({'ADP': 1}), 'fire-fighting': FreqDist({'ADJ': 1}), 'techniques': FreqDist({'NOUN': 1}), 'plowing': FreqDist({'VERB': 1}), 'established': FreqDist({'VERB': 1}), 'tractor': FreqDist({'NOUN': 2}), 'plows': FreqDist({'NOUN': 1}), 'units': FreqDist({'NOUN': 2}), 'expanded': FreqDist({'VERB': 1}), 'modernized': FreqDist({'VERB': 1}), 'central': FreqDist({'ADJ': 3}), 'introduced': FreqDist({'VERB': 2}), 'briefing': FreqDist({'VERB': 1}), 'sessions': FreqDist({'NOUN': 3}), 'district': FreqDist({'NOUN': 9}), 'wardens': FreqDist({'NOUN': 2}), 'training': FreqDist({'NOUN': 1}), 'credited': FreqDist({'VERB': 1}), 'co-operative': FreqDist({'ADJ': 1}), 'prevention': FreqDist({'NOUN': 1}), 'co-operation': FreqDist({'NOUN': 1}), 'Red': FreqDist({'ADJ': 2}), 'Cross': FreqDist({'NOUN': 1}), 'Boonton': FreqDist({'NOUN': 1}), 'debut': FreqDist({'NOUN': 1}), 'bid': FreqDist({'NOUN': 4}), 'pledge': FreqDist({'NOUN': 1}), 'every': FreqDist({'DET': 3}), 'corner': FreqDist({'NOUN': 1}), 'promised': FreqDist({'VERB': 2}), 'nearly': FreqDist({'ADV': 3}), 'Puddingstone': FreqDist({'NOUN': 1}), 'Inn': FreqDist({'NOUN': 1}), 'When': FreqDist({'ADV': 2}), 'November': FreqDist({'NOUN': 5}), \"you'll\": FreqDist({'PRT': 1}), \"You're\": FreqDist({'PRT': 1}), \"you're\": FreqDist({'PRT': 1}), \"we're\": FreqDist({'PRT': 1}), 'glad': FreqDist({'ADJ': 1}), 'Democrats': FreqDist({'NOUN': 5}), 'resolve': FreqDist({'VERB': 1}), 'expedient': FreqDist({'ADJ': 1}), 'Attacks': FreqDist({'VERB': 1}), 'tripping': FreqDist({'VERB': 1}), 'feet': FreqDist({'NOUN': 2}), 'popular': FreqDist({'ADJ': 2}), 'slogans': FreqDist({'NOUN': 1}), 'win': FreqDist({'VERB': 1}), \"we'll\": FreqDist({'PRT': 1}), 'liberal': FreqDist({'ADJ': 1}), 'planned': FreqDist({'VERB': 2}), 'forward': FreqDist({'ADV': 1}), 'looking': FreqDist({'VERB': 1}), 'honest': FreqDist({'ADJ': 1}), 'platform': FreqDist({'NOUN': 1}), \"We'll\": FreqDist({'PRT': 2}), 'talk': FreqDist({'VERB': 1}), 'mouth': FreqDist({'NOUN': 1}), 'Hudson': FreqDist({'NOUN': 1}), 'truth': FreqDist({'NOUN': 2}), 'like': FreqDist({'VERB': 2}), 'elect': FreqDist({'VERB': 1}), 'signs': FreqDist({'NOUN': 1}), \"Republicans'\": FreqDist({'NOUN': 1}), 'feeble': FreqDist({'ADJ': 1}), 'shall': FreqDist({'VERB': 1}), 'full': FreqDist({'ADJ': 5, 'ADV': 1}), 'partner': FreqDist({'NOUN': 1}), 'courageous': FreqDist({'ADJ': 1}), 'attraction': FreqDist({'NOUN': 1}), 'stop': FreqDist({'NOUN': 1}), 'piracy': FreqDist({'NOUN': 1}), 'Southern': FreqDist({'ADJ': 2}), 'strong': FreqDist({'ADJ': 3}), 'discrimination': FreqDist({'NOUN': 1}), 'keep': FreqDist({'VERB': 2}), 'bloodstream': FreqDist({'NOUN': 1}), 'clean': FreqDist({'ADJ': 1}), 'To': FreqDist({'PRT': 2}), 'hoodlums': FreqDist({'NOUN': 1}), 'infiltrating': FreqDist({'VERB': 1}), '1940s': FreqDist({'NOUN': 1}), 'Calling': FreqDist({'VERB': 1}), 'lives': FreqDist({'VERB': 4, 'NOUN': 1}), 'breathes': FreqDist({'VERB': 1}), 'thinks': FreqDist({'VERB': 1}), 'good': FreqDist({'NOUN': 2}), 'representative': FreqDist({'ADJ': 1}), 'springboard': FreqDist({'NOUN': 1}), 'Gov.': FreqDist({'NOUN': 4}), \"Meyner's\": FreqDist({'NOUN': 1}), 'Green': FreqDist({'NOUN': 2, 'ADJ': 1}), 'Acres': FreqDist({'NOUN': 1}), 'saving': FreqDist({'VERB': 1}), 'tracts': FreqDist({'NOUN': 1}), 'land': FreqDist({'NOUN': 4}), 'onrush': FreqDist({'NOUN': 1}), 'urban': FreqDist({'ADJ': 1}), '$60': FreqDist({'NOUN': 1}), 'bond': FreqDist({'NOUN': 7}), 'underwrite': FreqDist({'VERB': 1}), '$45': FreqDist({'NOUN': 1}), '$15': FreqDist({'NOUN': 1}), 'alloted': FreqDist({'VERB': 1}), 'municipalities': FreqDist({'NOUN': 1}), 'conquer': FreqDist({'VERB': 1}), 'space': FreqDist({'NOUN': 1}), 'conserve': FreqDist({'VERB': 1}), 'pointing': FreqDist({'VERB': 1}), 'population': FreqDist({'NOUN': 6}), 'increased': FreqDist({'VERB': 2}), '125,000': FreqDist({'NUM': 1}), '1950': FreqDist({'NUM': 1}), 'rapidly': FreqDist({'ADV': 2}), 'changing': FreqDist({'VERB': 1}), 'unless': FreqDist({'ADP': 2}), 'preserve': FreqDist({'VERB': 3}), 'green': FreqDist({'ADJ': 1}), 'comment': FreqDist({'VERB': 1}), 'takes': FreqDist({'VERB': 1}), 'misconstrued': FreqDist({'VERB': 1}), 'sympathetic': FreqDist({'ADJ': 1}), \"I'll\": FreqDist({'PRT': 1}), 'explicit': FreqDist({'ADJ': 1}), 'bring': FreqDist({'VERB': 3}), 'dynamic': FreqDist({'ADJ': 1}), \"I'm\": FreqDist({'PRT': 2}), 'afraid': FreqDist({'ADJ': 1}), 'tangle': FreqDist({'VERB': 1}), 'Fifteen': FreqDist({'NUM': 1}), 'retiring': FreqDist({'VERB': 2}), 'voluntarily': FreqDist({'ADV': 1}), 'honored': FreqDist({'VERB': 1}), 'colleagues': FreqDist({'NOUN': 1}), 'outgoing': FreqDist({'ADJ': 1}), 'whose': FreqDist({'DET': 2}), 'four-year': FreqDist({'ADJ': 2}), 'terms': FreqDist({'NOUN': 1}), 'expire': FreqDist({'VERB': 1}), 'April': FreqDist({'NOUN': 2}), 'carved': FreqDist({'VERB': 1}), 'wooden': FreqDist({'ADJ': 1}), 'elephants': FreqDist({'NOUN': 1}), 'ivory': FreqDist({'NOUN': 1}), 'tusks': FreqDist({'NOUN': 1}), 'remember': FreqDist({'VERB': 1}), 'retirements': FreqDist({'NOUN': 1}), 'leaving': FreqDist({'VERB': 2}), 'voters': FreqDist({'NOUN': 5}), 'presentation': FreqDist({'NOUN': 1}), 'Geraldine': FreqDist({'NOUN': 1}), 'Thompson': FreqDist({'NOUN': 1}), 'Bank': FreqDist({'NOUN': 1}), 'stepping': FreqDist({'VERB': 1}), 'She': FreqDist({'PRON': 2}), '1920s': FreqDist({'NOUN': 1}), 'adoption': FreqDist({'NOUN': 2}), \"women's\": FreqDist({'NOUN': 1}), 'suffrage': FreqDist({'NOUN': 1}), 'amendment': FreqDist({'NOUN': 1}), 'term': FreqDist({'NOUN': 6}), 'Resentment': FreqDist({'NOUN': 1}), 'welled': FreqDist({'VERB': 1}), 'Wagner': FreqDist({'NOUN': 12}), 'third': FreqDist({'ADJ': 4}), 'Paul': FreqDist({'NOUN': 1}), 'Screvane': FreqDist({'NOUN': 3}), 'Abraham': FreqDist({'NOUN': 1}), 'Beame': FreqDist({'NOUN': 3}), 'mates': FreqDist({'NOUN': 4}), 'same': FreqDist({'ADJ': 5}), 'anti-organization': FreqDist({'ADJ': 2}), 'Liberal': FreqDist({'ADJ': 1}), \"Mayor's\": FreqDist({'NOUN': 2}), 'favorable': FreqDist({'ADJ': 1}), 'saw': FreqDist({'VERB': 2}), 'opportunity': FreqDist({'NOUN': 3}), 'internal': FreqDist({'ADJ': 1}), 'resentment': FreqDist({'NOUN': 2}), 'directed': FreqDist({'VERB': 2}), 'consulting': FreqDist({'VERB': 2}), 'viewed': FreqDist({'VERB': 1}), 'regarded': FreqDist({'VERB': 1}), 'bigger': FreqDist({'ADJ': 1}), 'Opposition': FreqDist({'NOUN': 1}), 'trying': FreqDist({'VERB': 2}), 'induce': FreqDist({'VERB': 1}), 'Controller': FreqDist({'NOUN': 4}), 'Arthur': FreqDist({'NOUN': 2}), 'Levitt': FreqDist({'NOUN': 1}), 'Brooklyn': FreqDist({'NOUN': 3}), 'Mayoral': FreqDist({'ADJ': 1}), 'Sept.': FreqDist({'NOUN': 1}), '7': FreqDist({'NUM': 3}), 'contend': FreqDist({'VERB': 1}), 'confidence': FreqDist({'NOUN': 2}), 'file': FreqDist({'NOUN': 1}), 'Their': FreqDist({'DET': 2}), 'view': FreqDist({'NOUN': 2, 'VERB': 1}), 'last-minute': FreqDist({'NOUN': 1}), 'proposing': FreqDist({'VERB': 1}), 'ticket': FreqDist({'NOUN': 4}), 'emphasize': FreqDist({'VERB': 1}), 'weakness': FreqDist({'NOUN': 1}), 'performance': FreqDist({'NOUN': 4}), 'rival': FreqDist({'ADJ': 1}), 'slate': FreqDist({'NOUN': 1}), 'Representative': FreqDist({'NOUN': 2}), 'Buckley': FreqDist({'NOUN': 6}), 'Bronx': FreqDist({'NOUN': 5}), 'T.': FreqDist({'NOUN': 3}), 'Sharkey': FreqDist({'NOUN': 1}), 'visits': FreqDist({'VERB': 1}), 'As': FreqDist({'ADP': 1}), 'usual': FreqDist({'ADJ': 3}), 'touch': FreqDist({'NOUN': 2}), 'Carmine': FreqDist({'NOUN': 1}), 'G.': FreqDist({'NOUN': 3}), 'De': FreqDist({'NOUN': 3}), 'Sapio': FreqDist({'NOUN': 2}), 'Manhattan': FreqDist({'NOUN': 1}), 'publicly': FreqDist({'ADV': 2}), 'believing': FreqDist({'VERB': 1}), 'replaced': FreqDist({'VERB': 1}), 'Last': FreqDist({'ADJ': 4}), 'visited': FreqDist({'VERB': 1}), \"leader's\": FreqDist({'NOUN': 2}), 'discussion': FreqDist({'NOUN': 1}), 'Apparently': FreqDist({'ADV': 1}), 'holds': FreqDist({'VERB': 1}), 'key': FreqDist({'NOUN': 1}), 'acceptance': FreqDist({'NOUN': 1}), 'choices': FreqDist({'NOUN': 1}), 'struggle': FreqDist({'NOUN': 1}), 'talks': FreqDist({'NOUN': 3}), 'apparently': FreqDist({'ADV': 4}), 'assent': FreqDist({'NOUN': 1}), 'dropping': FreqDist({'VERB': 1}), 'Lawrence': FreqDist({'NOUN': 1}), 'E.': FreqDist({'NOUN': 4}), 'Gerosa': FreqDist({'NOUN': 2}), \"year's\": FreqDist({'NOUN': 1}), 'seems': FreqDist({'VERB': 1}), 'assumed': FreqDist({'VERB': 1}), 'pick': FreqDist({'VERB': 1}), \"Gerosa's\": FreqDist({'NOUN': 1}), 'successor': FreqDist({'NOUN': 1}), 'declined': FreqDist({'VERB': 1}), 'interviews': FreqDist({'NOUN': 1}), 'reporters': FreqDist({'NOUN': 2}), 'confirm': FreqDist({'VERB': 1}), 'deny': FreqDist({'VERB': 1}), 'wanted': FreqDist({'VERB': 3}), 'Queens': FreqDist({'NOUN': 2}), 'replace': FreqDist({'VERB': 3}), 'Abe': FreqDist({'NOUN': 1}), 'Stark': FreqDist({'NOUN': 1}), 'incumbent': FreqDist({'ADJ': 1}), 'Irish': FreqDist({'ADJ': 1}), 'Counties': FreqDist({'NOUN': 1}), 'Feis': FreqDist({'NOUN': 1}), 'Hunter': FreqDist({'NOUN': 1}), 'College': FreqDist({'NOUN': 2}), 'Campus': FreqDist({'NOUN': 1}), 'published': FreqDist({'VERB': 1}), \"yesterday's\": FreqDist({'NOUN': 1}), 'Times': FreqDist({'NOUN': 1}), 'announce': FreqDist({'VERB': 1}), 'something': FreqDist({'NOUN': 3}), 'definite': FreqDist({'ADJ': 1}), 'June': FreqDist({'NOUN': 6}), '16': FreqDist({'NUM': 4}), 'wave': FreqDist({'NOUN': 1}), 'corruption': FreqDist({'NOUN': 1}), 'tangible': FreqDist({'ADJ': 1}), 'feeling': FreqDist({'NOUN': 2}), 'revulsion': FreqDist({'NOUN': 1}), 'taxi': FreqDist({'NOUN': 1}), 'driver': FreqDist({'NOUN': 1}), 'visitor': FreqDist({'NOUN': 1}), 'airport': FreqDist({'NOUN': 1}), 'remarks': FreqDist({'VERB': 1}), 'politicians': FreqDist({'NOUN': 3}), \"It's\": FreqDist({'PRT': 1}), 'See': FreqDist({'VERB': 1}), 'Joe': FreqDist({'NOUN': 1}), 'says': FreqDist({'VERB': 1}), 'scientist': FreqDist({'NOUN': 1}), 'writes': FreqDist({'VERB': 1}), 'alienated': FreqDist({'VERB': 1}), 'believe': FreqDist({'VERB': 1}), 'influence': FreqDist({'VERB': 1}), 'corrupt': FreqDist({'ADJ': 1}), 'selfish': FreqDist({'ADJ': 1}), 'beyond': FreqDist({'ADP': 1}), 'secret': FreqDist({'ADJ': 1}), 'conspiracy': FreqDist({'NOUN': 1}), 'object': FreqDist({'NOUN': 1}), 'plunder': FreqDist({'VERB': 1}), 'Corruption': FreqDist({'NOUN': 1}), 'widely': FreqDist({'ADV': 1}), 'identified': FreqDist({'VERB': 1}), 'locale': FreqDist({'NOUN': 1}), 'Edwin': FreqDist({'NOUN': 1}), \"O'Connor's\": FreqDist({'NOUN': 1}), 'novel': FreqDist({'NOUN': 1, 'ADJ': 1}), 'Hurrah': FreqDist({'PRT': 1}), 'reasons': FreqDist({'NOUN': 1}), 'current': FreqDist({'ADJ': 1}), 'spotlight': FreqDist({'NOUN': 1}), 'subject': FreqDist({'NOUN': 2}), 'succession': FreqDist({'NOUN': 1}), 'publicized': FreqDist({'VERB': 1}), 'scandals': FreqDist({'NOUN': 1}), 'aroused': FreqDist({'VERB': 1}), 'Graft': FreqDist({'NOUN': 1}), 'highways': FreqDist({'NOUN': 1}), 'works': FreqDist({'NOUN': 1}), 'investigations': FreqDist({'NOUN': 1}), 'attracted': FreqDist({'VERB': 2}), 'ethical': FreqDist({'ADJ': 1}), 'reader': FreqDist({'NOUN': 1}), 'newspapers': FreqDist({'NOUN': 1}), 'escape': FreqDist({'VERB': 1}), 'petty': FreqDist({'ADJ': 1}), 'chicanery': FreqDist({'NOUN': 1}), 'worse': FreqDist({'ADJ': 1}), 'norm': FreqDist({'NOUN': 1}), 'Day': FreqDist({'NOUN': 2}), 'episode': FreqDist({'NOUN': 1}), 'Public': FreqDist({'ADJ': 2}), 'Works': FreqDist({'NOUN': 1}), 'accused': FreqDist({'VERB': 1}), '$8,555': FreqDist({'NOUN': 1}), 'beach': FreqDist({'NOUN': 1}), 'waterfront': FreqDist({'NOUN': 1}), 'An': FreqDist({'DET': 3}), 'investigate': FreqDist({'VERB': 2}), 'starts': FreqDist({'VERB': 1}), 'sharply': FreqDist({'ADV': 1}), 'contrasting': FreqDist({'VERB': 1}), 'forecasts': FreqDist({'NOUN': 1}), 'chambers': FreqDist({'NOUN': 1}), 'Southern-Republican': FreqDist({'NOUN': 1}), \"Administration's\": FreqDist({'NOUN': 1}), 'bill': FreqDist({'NOUN': 18}), 'jockeying': FreqDist({'VERB': 1}), 'aid-to-education': FreqDist({'NOUN': 1}), 'Rules': FreqDist({'NOUN': 3}), 'Tuesday': FreqDist({'NOUN': 10}), 'uncertain': FreqDist({'ADJ': 3}), \"panel's\": FreqDist({'NOUN': 1}), 'depends': FreqDist({'VERB': 1}), 'return': FreqDist({'NOUN': 1}), 'Trimble': FreqDist({'NOUN': 2}), 'Democrat': FreqDist({'NOUN': 1}), 'siding': FreqDist({'VERB': 1}), \"Rayburn's\": FreqDist({'NOUN': 1}), 'Leadership': FreqDist({'NOUN': 1}), 'hopeful': FreqDist({'ADJ': 1}), 'encounter': FreqDist({'VERB': 1}), 'conservative': FreqDist({'ADJ': 1}), 'sometime': FreqDist({'ADV': 1}), '$6,100,000,000': FreqDist({'NOUN': 1}), 'measure': FreqDist({'NOUN': 4}), 'provides': FreqDist({'VERB': 3}), 'forty-year': FreqDist({'ADJ': 1}), 'mortgages': FreqDist({'NOUN': 1}), 'low': FreqDist({'ADJ': 2}), 'down-payments': FreqDist({'NOUN': 1}), 'moderate-income': FreqDist({'NOUN': 1}), 'families': FreqDist({'NOUN': 1}), 'slums': FreqDist({'NOUN': 1}), 'colleges': FreqDist({'NOUN': 1}), 'dormitories': FreqDist({'NOUN': 1}), 'appears': FreqDist({'VERB': 2}), 'temporarily': FreqDist({'ADV': 1}), 'stalled': FreqDist({'VERB': 1}), 'Northern': FreqDist({'ADJ': 1}), 'usually': FreqDist({'ADV': 1}), 'balking': FreqDist({'VERB': 1}), 'Delaney': FreqDist({'NOUN': 2}), 'Thomas': FreqDist({'NOUN': 1}), \"O'Neill\": FreqDist({'NOUN': 2}), 'Three': FreqDist({'NUM': 2}), 'quick': FreqDist({'ADJ': 1}), 'progress': FreqDist({'NOUN': 2}), 'amending': FreqDist({'VERB': 1}), 'Act': FreqDist({'NOUN': 1}), '1958': FreqDist({'NUM': 2}), 'long-term': FreqDist({'NOUN': 1}), 'loans': FreqDist({'NOUN': 1}), 'parochial': FreqDist({'ADJ': 1}), 'private-school': FreqDist({'NOUN': 1}), 'teaching': FreqDist({'VERB': 2}), 'science': FreqDist({'NOUN': 1}), 'languages': FreqDist({'NOUN': 1}), 'mathematics': FreqDist({'NOUN': 1}), 'public-school': FreqDist({'NOUN': 1}), 'clears': FreqDist({'VERB': 1}), 'About': FreqDist({'ADV': 2}), 'Peace': FreqDist({'NOUN': 4}), 'Corps': FreqDist({'NOUN': 5}), 'projects': FreqDist({'NOUN': 3}), 'assigned': FreqDist({'VERB': 2}), 'agencies': FreqDist({'NOUN': 4}), 'carried': FreqDist({'VERB': 1}), 'corps': FreqDist({'NOUN': 2}), '$40,000,000': FreqDist({'NOUN': 1}), 'submitted': FreqDist({'VERB': 1}), '$26,000,000': FreqDist({'NOUN': 1}), 'universities': FreqDist({'NOUN': 1}), 'Twelve': FreqDist({'NUM': 1}), 'contract-negotiation': FreqDist({'NOUN': 1}), 'stage': FreqDist({'NOUN': 2}), 'Gordon': FreqDist({'NOUN': 1}), 'Boyce': FreqDist({'NOUN': 1}), 'interview': FreqDist({'NOUN': 2}), 'Six': FreqDist({'NUM': 1}), 'agriculture': FreqDist({'NOUN': 1}), 'Middle': FreqDist({'ADJ': 1}), 'Question': FreqDist({'NOUN': 1}), 'Interviews': FreqDist({'NOUN': 1}), 'church': FreqDist({'NOUN': 6}), 'confusion': FreqDist({'NOUN': 2}), 'methods': FreqDist({'NOUN': 1}), 'goals': FreqDist({'NOUN': 1}), 'happen': FreqDist({'VERB': 1}), 'churchmen': FreqDist({'NOUN': 2}), 'example': FreqDist({'NOUN': 1}), 'month': FreqDist({'NOUN': 1}), 'Ghana': FreqDist({'NOUN': 1}), 'missionary': FreqDist({'NOUN': 2}), 'discovered': FreqDist({'VERB': 1}), 'hotel': FreqDist({'NOUN': 4}), 'protested': FreqDist({'VERB': 1}), 'owner': FreqDist({'NOUN': 2}), 'Why': FreqDist({'ADV': 1}), 'worry': FreqDist({'VERB': 1}), 'U.': FreqDist({'NOUN': 3}), 'S.': FreqDist({'NOUN': 4}), 'Government': FreqDist({'NOUN': 6}), 'pays': FreqDist({'VERB': 1}), 'overseas': FreqDist({'NOUN': 1}), 'Missionary': FreqDist({'NOUN': 1}), 'explains': FreqDist({'VERB': 1}), \"don't\": FreqDist({'VERB': 1}), 'shrugged': FreqDist({'VERB': 1}), 'Same': FreqDist({'ADJ': 1}), 'remarked': FreqDist({'VERB': 1}), 'classical': FreqDist({'ADJ': 1}), 'church-state': FreqDist({'NOUN': 1}), 'Can': FreqDist({'VERB': 1}), 'personnel': FreqDist({'NOUN': 2}), 'constitutional': FreqDist({'ADJ': 1}), 'requirement': FreqDist({'NOUN': 1}), 'separation': FreqDist({'NOUN': 1}), 'Sargent': FreqDist({'NOUN': 1}), 'Shriver': FreqDist({'NOUN': 1}), 'No': FreqDist({'DET': 1}), 'forswears': FreqDist({'VERB': 1}), 'proselytizing': FreqDist({'VERB': 1}), 'proposes': FreqDist({'VERB': 1}), 'Moscow': FreqDist({'NOUN': 1}), 'gay': FreqDist({'ADJ': 1}), 'Sukarno': FreqDist({'NOUN': 1}), 'Indonesia': FreqDist({'NOUN': 2}), 'Premier': FreqDist({'NOUN': 4}), 'Khrushchev': FreqDist({'NOUN': 2}), 'pulled': FreqDist({'VERB': 2}), 'pockets': FreqDist({'NOUN': 1}), 'beaming': FreqDist({'VERB': 1}), 'Look': FreqDist({'VERB': 1}), 'took': FreqDist({'VERB': 4}), '!': FreqDist({'.': 2}), 'jesting': FreqDist({'VERB': 1}), 'expansive': FreqDist({'ADJ': 1}), 'successful': FreqDist({'ADJ': 2}), 'banker': FreqDist({'NOUN': 1}), 'twenty': FreqDist({'NUM': 1}), 'under-developed': FreqDist({'ADJ': 2}), 'expanding': FreqDist({'VERB': 1}), 'technical': FreqDist({'ADJ': 1}), 'assistance': FreqDist({'NOUN': 1}), 'uncommitted': FreqDist({'ADJ': 1}), 'allocated': FreqDist({'VERB': 1}), '$1,000,000,000': FreqDist({'NOUN': 1}), 'Western': FreqDist({'ADJ': 2}), 'estimates': FreqDist({'NOUN': 2}), 'biggest': FreqDist({'ADJ': 2}), 'outlay': FreqDist({'NOUN': 1}), 'beginning': FreqDist({'NOUN': 1}), '1954': FreqDist({'NUM': 1}), '1960': FreqDist({'NUM': 2}), '6,000': FreqDist({'NUM': 1}), 'technicians': FreqDist({'NOUN': 2}), 'Nations': FreqDist({'NOUN': 6}), 'N.': FreqDist({'NOUN': 1, 'ADJ': 1}), 'Y.': FreqDist({'NOUN': 1}), 'experts': FreqDist({'NOUN': 1}), \"country's\": FreqDist({'NOUN': 2}), 'distribution': FreqDist({'NOUN': 1}), 'professional': FreqDist({'ADJ': 2}), 'amid': FreqDist({'ADP': 1}), 'intensified': FreqDist({'VERB': 1}), 'role': FreqDist({'NOUN': 1}), 'puts': FreqDist({'VERB': 1}), 'premium': FreqDist({'NOUN': 1}), 'strength': FreqDist({'NOUN': 2}), 'jobs': FreqDist({'NOUN': 2}), 'India': FreqDist({'NOUN': 2}), 'populous': FreqDist({'ADJ': 1}), '400,000,000': FreqDist({'NUM': 1}), 'inhabitants': FreqDist({'NOUN': 2}), 'filling': FreqDist({'VERB': 1}), 'Secretariat': FreqDist({'NOUN': 1}), 'panel': FreqDist({'NOUN': 1}), 'completed': FreqDist({'VERB': 1}), 'eighteen': FreqDist({'NUM': 1}), 'Formula': FreqDist({'NOUN': 1}), 'due': FreqDist({'ADJ': 1}), 'Administrative': FreqDist({'ADJ': 1}), 'Budgetary': FreqDist({'ADJ': 1}), 'Questions': FreqDist({'NOUN': 1}), 'understood': FreqDist({'VERB': 1}), 'ninety-nine': FreqDist({'NUM': 1}), 'affairs': FreqDist({'NOUN': 2}), 'officer': FreqDist({'NOUN': 1}), 'economist': FreqDist({'NOUN': 1}), 'start': FreqDist({'VERB': 3}), '10,000,000': FreqDist({'NUM': 1}), '150,000,000': FreqDist({'NUM': 2}), 'maximum': FreqDist({'ADJ': 2}), 'fifteen': FreqDist({'NUM': 1}), 'above': FreqDist({'ADP': 1}), 'additional': FreqDist({'ADJ': 5}), '30,000,000': FreqDist({'NUM': 1}), 'cut-off': FreqDist({'NOUN': 1}), 'forming': FreqDist({'VERB': 1}), 'unite': FreqDist({'VERB': 1}), 'war-ridden': FreqDist({'ADJ': 1}), 'kingdom': FreqDist({'NOUN': 1}), 'decision': FreqDist({'NOUN': 2}), 'Zurich': FreqDist({'NOUN': 2}), 'Boun': FreqDist({'NOUN': 1}), 'Oum': FreqDist({'NOUN': 1}), 'royal': FreqDist({'ADJ': 1}), 'neutralists': FreqDist({'NOUN': 1}), 'Souphanouvong': FreqDist({'NOUN': 1}), 'pro-Communist': FreqDist({'ADJ': 1}), 'latter': FreqDist({'ADJ': 1}), 'half-brothers': FreqDist({'NOUN': 1}), 'joint': FreqDist({'NOUN': 5}), 'welcomed': FreqDist({'VERB': 1}), 'delegations': FreqDist({'NOUN': 1}), 'attend': FreqDist({'VERB': 2}), 'nineteenth': FreqDist({'ADJ': 1}), 'plenary': FreqDist({'ADJ': 1}), 'fourteen-nation': FreqDist({'ADJ': 1}), 'agreement': FreqDist({'NOUN': 5}), 'Princes': FreqDist({'NOUN': 1}), 'ease': FreqDist({'VERB': 1}), 'task': FreqDist({'NOUN': 1}), 'diplomats': FreqDist({'NOUN': 1}), 'conceded': FreqDist({'VERB': 1}), 'overly': FreqDist({'ADV': 1}), 'optimistic': FreqDist({'ADJ': 1}), 'Tactics': FreqDist({'NOUN': 1}), 'Averell': FreqDist({'NOUN': 1}), 'Harriman': FreqDist({'NOUN': 1}), 'Malcolm': FreqDist({'NOUN': 1}), 'Britain': FreqDist({'NOUN': 1}), 'Maurice': FreqDist({'NOUN': 1}), 'Couve': FreqDist({'NOUN': 1}), 'Murville': FreqDist({'NOUN': 1}), \"France's\": FreqDist({'NOUN': 1}), 'Minister': FreqDist({'NOUN': 3}), 'Howard': FreqDist({'NOUN': 2}), \"Canada's\": FreqDist({'NOUN': 1}), 'External': FreqDist({'ADJ': 1}), 'Affairs': FreqDist({'NOUN': 2}), 'meanwhile': FreqDist({'ADV': 1}), 'round': FreqDist({'NOUN': 1}), 'consultations': FreqDist({'NOUN': 1}), 'tactics': FreqDist({'NOUN': 1}), 'pace': FreqDist({'NOUN': 3}), 'slowed': FreqDist({'VERB': 1}), 'passing': FreqDist({'VERB': 2}), 'Princess': FreqDist({'NOUN': 2}), 'Moune': FreqDist({'NOUN': 1}), \"Phouma's\": FreqDist({'NOUN': 1}), 'daughter': FreqDist({'NOUN': 2}), 'read': FreqDist({'VERB': 1}), \"Princes'\": FreqDist({'NOUN': 1}), 'two-hour': FreqDist({'ADJ': 1}), 'together': FreqDist({'ADV': 4}), 'cordial': FreqDist({'ADJ': 1}), 'she': FreqDist({'PRON': 2}), 'Laotians': FreqDist({'NOUN': 1}), 'six-point': FreqDist({'ADJ': 1}), 'agenda': FreqDist({'NOUN': 1}), 'reached': FreqDist({'VERB': 3}), 'deal': FreqDist({'VERB': 2}), 'principles': FreqDist({'NOUN': 2}), 'guide': FreqDist({'VERB': 1}), 'factors': FreqDist({'NOUN': 1}), 'search': FreqDist({'NOUN': 1}), 'Appointment': FreqDist({'NOUN': 1}), 'Pfaff': FreqDist({'NOUN': 4}), '41': FreqDist({'NUM': 1}), 'promotion': FreqDist({'NOUN': 2}), 'manager': FreqDist({'NOUN': 2}), 'Times-Picayune': FreqDist({'NOUN': 1}), 'Publishing': FreqDist({'VERB': 1}), 'Company': FreqDist({'NOUN': 1}), 'Saturday': FreqDist({'NOUN': 2}), 'F.': FreqDist({'NOUN': 5}), 'Tims': FreqDist({'NOUN': 1}), 'company': FreqDist({'NOUN': 7}), 'succeeds': FreqDist({'VERB': 1}), 'Martin': FreqDist({'NOUN': 6}), 'Burke': FreqDist({'NOUN': 1}), 'resigned': FreqDist({'VERB': 1}), 'employed': FreqDist({'VERB': 1}), '1946': FreqDist({'NUM': 1}), 'commercial': FreqDist({'NOUN': 1, 'ADJ': 1}), 'artist': FreqDist({'NOUN': 1}), 'advertising': FreqDist({'VERB': 1}), 'native': FreqDist({'NOUN': 1}), 'Orleans': FreqDist({'NOUN': 3}), 'attended': FreqDist({'VERB': 3}), 'Allen': FreqDist({'NOUN': 1}), 'Elementary': FreqDist({'ADJ': 1}), 'Fortier': FreqDist({'NOUN': 1}), 'High': FreqDist({'ADJ': 1}), 'Soule': FreqDist({'NOUN': 1}), 'college': FreqDist({'NOUN': 1}), 'From': FreqDist({'ADP': 1}), '1942': FreqDist({'NUM': 1}), 'December': FreqDist({'NOUN': 1}), '1945': FreqDist({'NUM': 1}), 'Air': FreqDist({'NOUN': 2}), 'Scott': FreqDist({'NOUN': 1}), 'Field': FreqDist({'NOUN': 1}), 'Belleville': FreqDist({'NOUN': 1}), 'Before': FreqDist({'ADP': 1}), 'entering': FreqDist({'VERB': 2}), 'clerical': FreqDist({'ADJ': 1}), 'merchandising': FreqDist({'VERB': 1}), 'wholesale': FreqDist({'ADJ': 1}), 'married': FreqDist({'VERB': 2}), 'Audrey': FreqDist({'NOUN': 1}), 'Knecht': FreqDist({'NOUN': 1}), 'Karol': FreqDist({'NOUN': 1}), '13': FreqDist({'NUM': 4}), 'reside': FreqDist({'VERB': 1}), '4911': FreqDist({'NUM': 1}), 'Miles': FreqDist({'NOUN': 2}), 'Dr.': FreqDist({'NOUN': 5}), 'Thousands': FreqDist({'NOUN': 1}), 'bleacher-type': FreqDist({'ADJ': 1}), 'seats': FreqDist({'NOUN': 2}), 'erected': FreqDist({'VERB': 1}), 'Pennsylvania': FreqDist({'NOUN': 5}), 'Avenue': FreqDist({'NOUN': 4}), 'big': FreqDist({'ADJ': 2}), 'inaugural': FreqDist({'NOUN': 1}), 'parade': FreqDist({'NOUN': 3, 'VERB': 1}), 'Assuming': FreqDist({'VERB': 1}), 'weather': FreqDist({'NOUN': 1}), 'halfway': FreqDist({'ADV': 1}), 'decent': FreqDist({'ADJ': 1}), 'hundreds': FreqDist({'NOUN': 2}), 'mass': FreqDist({'VERB': 1}), 'thoroughfare': FreqDist({'NOUN': 1}), 'Dwight': FreqDist({'NOUN': 2}), 'leave': FreqDist({'VERB': 1}), 'Hill': FreqDist({'NOUN': 2}), 'oath-taking': FreqDist({'ADJ': 1}), 'ceremonies': FreqDist({'NOUN': 1}), 'ride': FreqDist({'VERB': 1}), 'historic': FreqDist({'ADJ': 4}), 'ceremonial': FreqDist({'ADJ': 1}), 'impressive': FreqDist({'ADJ': 1}), 'street': FreqDist({'NOUN': 1}), 'Columbia': FreqDist({'NOUN': 1}), 'standpoint': FreqDist({'NOUN': 1}), 'viewpoint': FreqDist({'NOUN': 1}), 'approach': FreqDist({'VERB': 1, 'NOUN': 1}), 'Many': FreqDist({'ADJ': 4}), 'buildings': FreqDist({'NOUN': 3}), 'Within': FreqDist({'ADP': 2}), 'avenue': FreqDist({'NOUN': 3}), \"government's\": FreqDist({'NOUN': 1}), 'plus': FreqDist({'CONJ': 1}), 'shrines': FreqDist({'NOUN': 1}), 'monuments': FreqDist({'NOUN': 1}), 'Of': FreqDist({'ADP': 1}), 'course': FreqDist({'NOUN': 1}), '1600': FreqDist({'NUM': 1}), 'famous': FreqDist({'ADJ': 1}), 'easy': FreqDist({'ADJ': 1}), 'Constitution': FreqDist({'NOUN': 1}), 'begins': FreqDist({'VERB': 1}), 'series': FreqDist({'NOUN': 2}), 'block': FreqDist({'NOUN': 1, 'VERB': 1}), 'seven-stories': FreqDist({'ADJ': 1}), 'Great': FreqDist({'ADJ': 1}), 'chapters': FreqDist({'NOUN': 1}), 'recorded': FreqDist({'VERB': 1}), '169': FreqDist({'NUM': 1}), '1913': FreqDist({'NUM': 1}), 'thousand': FreqDist({'NUM': 1}), 'watch': FreqDist({'VERB': 1}), '5000': FreqDist({'NUM': 1}), 'suffragettes': FreqDist({'NOUN': 1}), '1920': FreqDist({'NUM': 1}), 'presidential': FreqDist({'ADJ': 3}), 'Seats': FreqDist({'NOUN': 1}), 'square': FreqDist({'NOUN': 2}), 'marching': FreqDist({'VERB': 2}), 'soldiers': FreqDist({'NOUN': 1}), 'War': FreqDist({'NOUN': 1}), 'Between': FreqDist({'ADP': 1}), 'returning': FreqDist({'VERB': 1}), '1865': FreqDist({'NUM': 1}), 'Archives': FreqDist({'NOUN': 1}), 'valuable': FreqDist({'ADJ': 1}), 'records': FreqDist({'NOUN': 1}), 'kept': FreqDist({'VERB': 2}), 'Also': FreqDist({'ADV': 1}), 'justice': FreqDist({'NOUN': 1}), 'located': FreqDist({'VERB': 1}), 'Edgar': FreqDist({'NOUN': 1}), 'Hoover': FreqDist({'NOUN': 1}), 'presides': FreqDist({'VERB': 1}), 'Street': FreqDist({'NOUN': 1}), 'car': FreqDist({'NOUN': 5}), 'tracks': FreqDist({'NOUN': 1}), 'center': FreqDist({'NOUN': 4}), 'powered': FreqDist({'VERB': 1}), 'underground': FreqDist({'ADV': 1}), 'spectators': FreqDist({'NOUN': 1}), 'occupying': FreqDist({'VERB': 1}), 'vantage': FreqDist({'NOUN': 1}), 'bordering': FreqDist({'VERB': 1}), 'Lafayette': FreqDist({'NOUN': 2}), 'Square': FreqDist({'NOUN': 2}), 'opposite': FreqDist({'ADP': 1}), 'statues': FreqDist({'NOUN': 1}), 'Andrew': FreqDist({'NOUN': 1}), 'Jackson': FreqDist({'NOUN': 2}), 'hero': FreqDist({'NOUN': 1}), 'Battle': FreqDist({'NOUN': 1}), 'Moving': FreqDist({'VERB': 1}), 'viewing': FreqDist({'VERB': 1}), '40': FreqDist({'NUM': 1}), '16,000': FreqDist({'NUM': 1}), 'branches': FreqDist({'NOUN': 1}), 'armed': FreqDist({'VERB': 1}), 'Division': FreqDist({'NOUN': 4}), 'academies': FreqDist({'NOUN': 1}), 'include': FreqDist({'VERB': 2}), 'representations': FreqDist({'NOUN': 1}), 'Texas': FreqDist({'NOUN': 1}), 'respective': FreqDist({'ADJ': 1}), 'Johnson': FreqDist({'NOUN': 1}), 'Then': FreqDist({'ADV': 2}), 'admission': FreqDist({'NOUN': 1}), 'union': FreqDist({'NOUN': 3}), 'headed': FreqDist({'VERB': 4}), 'Marines': FreqDist({'NOUN': 1}), '12': FreqDist({'NUM': 2}), 'Navy': FreqDist({'NOUN': 1}), 'Force': FreqDist({'NOUN': 1}), 'Coast': FreqDist({'NOUN': 1}), 'Guard': FreqDist({'NOUN': 1}), 'reserve': FreqDist({'NOUN': 1}), 'Puerto': FreqDist({'NOUN': 1}), 'Rico': FreqDist({'NOUN': 1}), 'Virgin': FreqDist({'NOUN': 2}), 'Islands': FreqDist({'NOUN': 1}), 'Guam': FreqDist({'NOUN': 1}), 'Samoa': FreqDist({'NOUN': 1}), 'trust': FreqDist({'NOUN': 1}), 'territories': FreqDist({'NOUN': 1}), 'Canal': FreqDist({'NOUN': 1}), 'Zone': FreqDist({'NOUN': 1}), 'Miss.': FreqDist({'NOUN': 1}), 'governmental': FreqDist({'ADJ': 1}), 'developments': FreqDist({'NOUN': 2}), 'Mississippi': FreqDist({'NOUN': 4}), 'observing': FreqDist({'VERB': 1}), 'scene': FreqDist({'NOUN': 1}), 'script': FreqDist({'NOUN': 1}), 'worth': FreqDist({'ADJ': 1}), 'gazing': FreqDist({'VERB': 1}), 'largely': FreqDist({'ADV': 1}), 'unpredictability': FreqDist({'NOUN': 1}), 'operates': FreqDist({'VERB': 1}), 'helm': FreqDist({'NOUN': 1}), 'Ross': FreqDist({'NOUN': 1}), 'Barnett': FreqDist({'NOUN': 10}), 'surrounded': FreqDist({'VERB': 1}), 'keeps': FreqDist({'VERB': 1}), 'foes': FreqDist({'NOUN': 2}), 'guessing': FreqDist({'VERB': 1}), 'friends': FreqDist({'NOUN': 1}), 'Consequently': FreqDist({'ADV': 1}), 'Could': FreqDist({'VERB': 1}), 'scramble': FreqDist({'NOUN': 2}), 'predict': FreqDist({'VERB': 3}), 'settle': FreqDist({'VERB': 1}), 'iron': FreqDist({'VERB': 1}), 'rough': FreqDist({'ADJ': 1}), 'edges': FreqDist({'NOUN': 1}), 'builtin': FreqDist({'ADJ': 1}), 'headache': FreqDist({'NOUN': 1}), 'steady': FreqDist({'ADJ': 1}), 'stream': FreqDist({'NOUN': 1}), 'job-seekers': FreqDist({'NOUN': 1}), 'commitments': FreqDist({'NOUN': 1}), 'eight-year': FreqDist({'ADJ': 1}), 'quest': FreqDist({'NOUN': 1}), 'decide': FreqDist({'VERB': 1}), 'Legislature': FreqDist({'NOUN': 12}), 'throw': FreqDist({'VERB': 2}), 'Certainly': FreqDist({'ADV': 1}), 'nobody': FreqDist({'NOUN': 1}), 'lawmakers': FreqDist({'NOUN': 2}), 'enjoy': FreqDist({'VERB': 2}), 're-enactment': FreqDist({'NOUN': 1}), 'strange': FreqDist({'ADJ': 1}), 'honeymoon': FreqDist({'NOUN': 1}), 'legislative': FreqDist({'ADJ': 1}), \"doesn't\": FreqDist({'VERB': 1}), 'decade': FreqDist({'NOUN': 2}), 'odds': FreqDist({'NOUN': 1}), 'likely': FreqDist({'ADJ': 2}), 'Districts': FreqDist({'NOUN': 1}), 'restless': FreqDist({'ADJ': 1}), 'companionship': FreqDist({'NOUN': 1}), '$22.50': FreqDist({'NOUN': 1}), 'diem': FreqDist({'NOUN': 1}), 'agitating': FreqDist({'VERB': 1}), 'withstand': FreqDist({'VERB': 1}), 'sensitive': FreqDist({'ADJ': 1}), 'cutting': FreqDist({'VERB': 2}), 'congressional': FreqDist({'ADJ': 3}), 'districts': FreqDist({'NOUN': 2}), 'eliminate': FreqDist({'VERB': 2}), 'seat': FreqDist({'NOUN': 1}), 'With': FreqDist({'ADP': 2}), 'eyes': FreqDist({'NOUN': 1}), 'focused': FreqDist({'VERB': 1}), 'Delta': FreqDist({'NOUN': 2}), 'Congressman': FreqDist({'NOUN': 1}), 'Smith': FreqDist({'NOUN': 1}), 'redistricting': FreqDist({'VERB': 1}), 'battle': FreqDist({'NOUN': 5}), 'longstanding': FreqDist({'ADJ': 1}), \"Mississippi's\": FreqDist({'NOUN': 1}), 'crossroads': FreqDist({'NOUN': 1}), 'Split': FreqDist({'VERB': 1}), 'badly': FreqDist({'ADV': 1}), 'equally': FreqDist({'ADV': 1}), 'divided': FreqDist({'VERB': 1}), 'camps': FreqDist({'NOUN': 1}), 'loyalists': FreqDist({'NOUN': 1}), 'independents': FreqDist({'NOUN': 1}), 'currently': FreqDist({'ADV': 1}), 'wreck': FreqDist({'NOUN': 1}), 'Future': FreqDist({'NOUN': 1}), 'clouded': FreqDist({'VERB': 2}), 'titular': FreqDist({'ADJ': 1}), 'reestablish': FreqDist({'VERB': 1}), 'loyalist': FreqDist({'NOUN': 1}), 'ranks': FreqDist({'NOUN': 1}), 'bypass': FreqDist({'VERB': 1}), 'functionary': FreqDist({'NOUN': 1}), 'patronage': FreqDist({'NOUN': 2}), 'normally': FreqDist({'ADV': 1}), 'flow': FreqDist({'VERB': 1}), 'solidarity': FreqDist({'NOUN': 1}), 'picture': FreqDist({'NOUN': 1}), 'US': FreqDist({'NOUN': 1}), 'Sens.': FreqDist({'NOUN': 1}), 'O.': FreqDist({'NOUN': 1}), 'Eastland': FreqDist({'NOUN': 1}), 'Stennis': FreqDist({'NOUN': 1}), 'remained': FreqDist({'VERB': 1}), 'loyal': FreqDist({'ADJ': 1}), 'Reports': FreqDist({'NOUN': 1}), 'probable': FreqDist({'ADJ': 1}), 'congressmen': FreqDist({'NOUN': 2}), 'stripped': FreqDist({'VERB': 1}), 'flows': FreqDist({'VERB': 1}), 'Baton': FreqDist({'NOUN': 1}), 'Rouge': FreqDist({'NOUN': 1}), 'La.': FreqDist({'NOUN': 1}), 'Jimmie': FreqDist({'NOUN': 1}), 'Davis': FreqDist({'NOUN': 7}), 'face': FreqDist({'VERB': 1, 'NOUN': 1}), 'theme': FreqDist({'NOUN': 2}), 'peace': FreqDist({'NOUN': 1}), 'harmony': FreqDist({'NOUN': 1}), 'subjected': FreqDist({'VERB': 1}), 'severe': FreqDist({'ADJ': 1}), 'stresses': FreqDist({'NOUN': 1}), 'probably': FreqDist({'ADV': 1}), 'segregation': FreqDist({'NOUN': 4}), 'troublesome': FreqDist({'ADJ': 1}), 'shortly': FreqDist({'ADV': 1}), 'vexing': FreqDist({'VERB': 1}), 'finances': FreqDist({'NOUN': 2}), 'transition': FreqDist({'NOUN': 3}), 'hike': FreqDist({'VERB': 1}), 'revenues': FreqDist({'NOUN': 4}), 'dedicated': FreqDist({'VERB': 1}), 'tardiness': FreqDist({'NOUN': 1}), 'dedication': FreqDist({'NOUN': 1}), 'legislators': FreqDist({'NOUN': 2}), 'suspect': FreqDist({'VERB': 1}), 'related': FreqDist({'VERB': 1}), 'directly': FreqDist({'ADV': 1}), 'over-all': FreqDist({'ADJ': 1}), 'shortage': FreqDist({'NOUN': 2}), 'cash': FreqDist({'NOUN': 2}), 'weary': FreqDist({'ADJ': 2}), 'Indeed': FreqDist({'ADV': 1}), \"administration's\": FreqDist({'NOUN': 1}), 'curious': FreqDist({'ADJ': 1}), 'contributing': FreqDist({'VERB': 1}), 'defeat': FreqDist({'NOUN': 1}), '$28': FreqDist({'NOUN': 4}), 'grant-in-aid': FreqDist({'NOUN': 2}), 'effectiveness': FreqDist({'NOUN': 1}), 'clearing': FreqDist({'VERB': 1}), 'inconsistencies': FreqDist({'NOUN': 1}), 'revolving': FreqDist({'VERB': 1}), 'play': FreqDist({'VERB': 1}), 'determining': FreqDist({'VERB': 1}), 'muster': FreqDist({'VERB': 1}), 'two-thirds': FreqDist({'NOUN': 1}), 'reconsideration': FreqDist({'NOUN': 1}), 'Wednesday': FreqDist({'NOUN': 2}), 'reconvenes': FreqDist({'VERB': 1}), 'normalcy': FreqDist({'NOUN': 1}), 'hands': FreqDist({'NOUN': 1}), 'integration': FreqDist({'NOUN': 2}), 'terminate': FreqDist({'VERB': 1}), 'toss': FreqDist({'VERB': 1}), 'towel': FreqDist({'NOUN': 1}), 'anyway': FreqDist({'ADV': 2}), 'frustrated': FreqDist({'VERB': 1}), 'so-far': FreqDist({'ADV': 1}), 'losing': FreqDist({'VERB': 1}), 'token': FreqDist({'ADJ': 2}), 'sort': FreqDist({'NOUN': 1}), 'politicos': FreqDist({'NOUN': 1}), 'acknowledge': FreqDist({'VERB': 1}), 'convey': FreqDist({'VERB': 1}), 'notion': FreqDist({'NOUN': 1}), 'though': FreqDist({'ADP': 1}), 'ineffectual': FreqDist({'ADJ': 1}), 'Underlying': FreqDist({'VERB': 1}), 'Passage': FreqDist({'NOUN': 1}), 'provided': FreqDist({'VERB': 2}), 'continued': FreqDist({'VERB': 1}), 'extra': FreqDist({'ADJ': 1}), 'unlikely': FreqDist({'ADJ': 1}), 'conclusion': FreqDist({'NOUN': 1}), 'purposes': FreqDist({'NOUN': 1}), 'perfect': FreqDist({'ADJ': 1}), 'consonance': FreqDist({'NOUN': 1}), 'underlying': FreqDist({'VERB': 1}), 'acute': FreqDist({'ADJ': 1}), 'fiscal': FreqDist({'ADJ': 3}), 'succeed': FreqDist({'VERB': 1}), 'interesting': FreqDist({'ADJ': 1}), 'dilemma': FreqDist({'NOUN': 1}), 'Since': FreqDist({'ADP': 1}), 'constitution': FreqDist({'NOUN': 1}), 'forbids': FreqDist({'VERB': 1}), 'introduction': FreqDist({'NOUN': 1}), 'expenses': FreqDist({'NOUN': 1}), 'inflate': FreqDist({'VERB': 1}), 'anticipated': FreqDist({'VERB': 1}), 'Constant': FreqDist({'ADJ': 1}), 'stab': FreqDist({'NOUN': 1}), 'raiser': FreqDist({'NOUN': 1}), 'prospect': FreqDist({'NOUN': 1}), 'spending': FreqDist({'VERB': 2}), 'unpleasant': FreqDist({'ADJ': 1}), 'avoid': FreqDist({'VERB': 1}), 'alternatives': FreqDist({'NOUN': 1}), 'blocked': FreqDist({'VERB': 1}), 'trim': FreqDist({'VERB': 1}), 'arouse': FreqDist({'VERB': 1}), 'squeezed': FreqDist({'VERB': 1}), 'trims': FreqDist({'NOUN': 1}), 'exert': FreqDist({'VERB': 1}), 'receptive': FreqDist({'ADJ': 1}), 'constant': FreqDist({'ADJ': 1}), 'confronting': FreqDist({'VERB': 1}), 'tried': FreqDist({'VERB': 1}), 'economize': FreqDist({'VERB': 1}), 'Any': FreqDist({'DET': 1}), 'revive': FreqDist({'VERB': 1}), 'allegations': FreqDist({'NOUN': 1}), 'followers': FreqDist({'NOUN': 1}), 'affiliations': FreqDist({'NOUN': 1}), 'imprudently': FreqDist({'ADV': 1}), 'house-cleaning': FreqDist({'NOUN': 1}), 'depending': FreqDist({'ADP': 1}), 'combat': FreqDist({'VERB': 1}), 'criticisms': FreqDist({'NOUN': 1}), 'Alexander': FreqDist({'NOUN': 1}), 'Hemphill': FreqDist({'NOUN': 8}), 'bids': FreqDist({'NOUN': 4}), 'Frankford': FreqDist({'NOUN': 1}), 'Elevated': FreqDist({'VERB': 1}), 'repair': FreqDist({'NOUN': 1}), 'rigged': FreqDist({'VERB': 2}), 'contracting': FreqDist({'VERB': 1}), 'Estimates': FreqDist({'NOUN': 1}), \"city's\": FreqDist({'NOUN': 4}), 'loss': FreqDist({'NOUN': 1}), '$344,000': FreqDist({'NOUN': 1}), 'ranged': FreqDist({'VERB': 3}), '$200,000': FreqDist({'NOUN': 1}), 'Shortcuts': FreqDist({'NOUN': 1}), 'unnoticed': FreqDist({'ADJ': 1}), 'Steel': FreqDist({'NOUN': 1}), 'Erection': FreqDist({'NOUN': 1}), 'contracted': FreqDist({'VERB': 2}), 'impossibly': FreqDist({'ADV': 1}), 'less': FreqDist({'ADJ': 1}), 'legitimate': FreqDist({'ADJ': 1}), 'competing': FreqDist({'VERB': 1}), 'contractors': FreqDist({'NOUN': 2}), 'shortcuts': FreqDist({'NOUN': 1}), \"Controller's\": FreqDist({'NOUN': 1}), 'rigging': FreqDist({'VERB': 1}), 'disclosures': FreqDist({'NOUN': 1}), 'sued': FreqDist({'VERB': 1}), '$172,400': FreqDist({'NOUN': 1}), 'covering': FreqDist({'VERB': 1}), 'contract': FreqDist({'NOUN': 4}), 'Philadelphia': FreqDist({'NOUN': 6}), 'Transportation': FreqDist({'NOUN': 1}), 'investigating': FreqDist({'VERB': 2}), 'played': FreqDist({'VERB': 1}), 'reviewing': FreqDist({'VERB': 2}), 'signature': FreqDist({'NOUN': 1}), 'Harold': FreqDist({'NOUN': 1}), 'V.': FreqDist({'NOUN': 1}), 'Varani': FreqDist({'NOUN': 2}), 'architecture': FreqDist({'NOUN': 1}), 'engineering': FreqDist({'NOUN': 2}), 'Property': FreqDist({'NOUN': 1}), 'appeared': FreqDist({'VERB': 1}), 'vouchers': FreqDist({'NOUN': 1}), 'certifying': FreqDist({'VERB': 1}), 'fired': FreqDist({'VERB': 1}), 'charges': FreqDist({'NOUN': 2}), 'accepting': FreqDist({'VERB': 1}), 'gifts': FreqDist({'NOUN': 1}), 'contractor': FreqDist({'NOUN': 1}), 'Managing': FreqDist({'VERB': 1}), 'Director': FreqDist({'NOUN': 2}), 'Donald': FreqDist({'NOUN': 2}), 'cooperate': FreqDist({'VERB': 2}), 'fully': FreqDist({'ADV': 1}), 'sharp': FreqDist({'ADJ': 1}), 'disagreement': FreqDist({'NOUN': 1}), 'sue': FreqDist({'VERB': 4}), 'recovery': FreqDist({'NOUN': 1}), 'Berger': FreqDist({'NOUN': 5}), 'morning': FreqDist({'NOUN': 2}), 'PTC': FreqDist({'NOUN': 3}), 'representatives': FreqDist({'NOUN': 1}), 'El': FreqDist({'NOUN': 3}), 'Concern': FreqDist({'NOUN': 1}), 'bankrupt': FreqDist({'ADJ': 2}), 'Consolidated': FreqDist({'VERB': 1}), 'Industries': FreqDist({'NOUN': 1}), 'Inc.': FreqDist({'VERB': 1}), '3646': FreqDist({'NUM': 1}), '2d': FreqDist({'ADJ': 1}), 'filed': FreqDist({'VERB': 2}), 'reorganization': FreqDist({'NOUN': 2}), 'bankruptcy': FreqDist({'NOUN': 2}), 'directors': FreqDist({'NOUN': 2}), 'draw': FreqDist({'VERB': 1}), 'Business': FreqDist({'NOUN': 1}), 'Crumlish': FreqDist({'NOUN': 1}), 'Intervenes': FreqDist({'VERB': 1}), 'suit': FreqDist({'NOUN': 1}), 'Common': FreqDist({'ADJ': 1}), 'Pleas': FreqDist({'NOUN': 1}), 'bonding': FreqDist({'VERB': 1}), 'firms': FreqDist({'NOUN': 1}), 'Travelers': FreqDist({'NOUN': 1}), 'Indemnity': FreqDist({'NOUN': 1}), 'Continental': FreqDist({'ADJ': 1}), 'Casualty': FreqDist({'NOUN': 1}), \"Berger's\": FreqDist({'NOUN': 2}), 'intervened': FreqDist({'VERB': 1}), 'preliminary': FreqDist({'ADJ': 1}), 'filing': FreqDist({'VERB': 1}), 'claim': FreqDist({'NOUN': 1, 'VERB': 1}), 'violated': FreqDist({'VERB': 1}), 'violations': FreqDist({'NOUN': 1}), 'mostly': FreqDist({'ADV': 1}), 'involve': FreqDist({'VERB': 2}), 'failure': FreqDist({'NOUN': 2}), 'expansion': FreqDist({'NOUN': 2}), 'joints': FreqDist({'NOUN': 2}), 'overhauling': FreqDist({'NOUN': 1}), '102': FreqDist({'NUM': 1}), '75': FreqDist({'NUM': 1}), 'repaired': FreqDist({'VERB': 1}), 'Wide': FreqDist({'ADJ': 1}), 'range': FreqDist({'NOUN': 1}), 'repairs': FreqDist({'NOUN': 1}), '$500': FreqDist({'NOUN': 3}), 'Belanger': FreqDist({'NOUN': 1}), 'Sons': FreqDist({'NOUN': 1}), 'Cambridge': FreqDist({'NOUN': 1}), 'listed': FreqDist({'VERB': 1}), '$600': FreqDist({'NOUN': 1}), '$2400': FreqDist({'NOUN': 1}), '$3100': FreqDist({'NOUN': 1}), '$37,500': FreqDist({'NOUN': 1}), \"won't\": FreqDist({'VERB': 1}), \"Can't\": FreqDist({'VERB': 1}), 'headline': FreqDist({'NOUN': 1}), 'Hooked': FreqDist({'VERB': 1}), '$172,000': FreqDist({'NOUN': 1}), 'insisted': FreqDist({'VERB': 1}), 'Douglas': FreqDist({'NOUN': 1}), 'Pratt': FreqDist({'NOUN': 3}), 'transit': FreqDist({'NOUN': 1}), 'Certain': FreqDist({'ADJ': 1}), 'Samuel': FreqDist({'NOUN': 2}), 'Goodis': FreqDist({'NOUN': 4}), 'representing': FreqDist({'VERB': 1}), 'Association': FreqDist({'NOUN': 3}), 'objected': FreqDist({'VERB': 1}), 'licensing': FreqDist({'VERB': 1}), 'fees': FreqDist({'NOUN': 10}), 'occupancy': FreqDist({'NOUN': 1}), 'rates': FreqDist({'NOUN': 1}), 'hotels': FreqDist({'NOUN': 4}), '48': FreqDist({'NUM': 2}), '74': FreqDist({'NUM': 1}), 'percent': FreqDist({'NOUN': 2}), 'objection': FreqDist({'NOUN': 2}), \"Council's\": FreqDist({'NOUN': 1}), 'Finance': FreqDist({'NOUN': 2}), '1000': FreqDist({'NUM': 1}), 'rooms': FreqDist({'NOUN': 2}), 'license': FreqDist({'NOUN': 3, 'VERB': 1}), 'fee': FreqDist({'NOUN': 4}), '$5000': FreqDist({'NOUN': 1}), 'Testifies': FreqDist({'VERB': 1}), 'hearing': FreqDist({'NOUN': 2, 'VERB': 1}), 'testimony': FreqDist({'NOUN': 1}), 'wide': FreqDist({'ADJ': 1}), 'permits': FreqDist({'NOUN': 1, 'VERB': 1}), 'raise': FreqDist({'VERB': 2}), '$740,000': FreqDist({'NOUN': 1}), 'remainder': FreqDist({'NOUN': 1}), '$2,330,000': FreqDist({'NOUN': 1}), 'rooming': FreqDist({'VERB': 2}), 'houses': FreqDist({'NOUN': 3}), 'multi-family': FreqDist({'ADJ': 1}), 'dwellings': FreqDist({'NOUN': 1}), '$5': FreqDist({'NOUN': 2}), '$2': FreqDist({'NOUN': 2}), 'renewal': FreqDist({'NOUN': 1}), '$1': FreqDist({'NOUN': 2}), 'single': FreqDist({'ADJ': 1}), 'account': FreqDist({'VERB': 1}), '95': FreqDist({'NUM': 1}), 'accomodations': FreqDist({'NOUN': 1}), 'Revenue': FreqDist({'NOUN': 1}), 'apartment': FreqDist({'NOUN': 2}), '$457,000': FreqDist({'NOUN': 1}), 'Leonard': FreqDist({'NOUN': 1}), 'Kaplan': FreqDist({'NOUN': 1}), 'Home': FreqDist({'NOUN': 1}), 'Builders': FreqDist({'NOUN': 2}), 'behalf': FreqDist({'NOUN': 1}), 'association': FreqDist({'NOUN': 6}), 'dog': FreqDist({'NOUN': 5}), 'drew': FreqDist({'VERB': 1}), 'Councilwoman': FreqDist({'NOUN': 1}), 'Virginia': FreqDist({'NOUN': 1}), 'Knauer': FreqDist({'NOUN': 2}), 'formerly': FreqDist({'ADV': 1}), 'pedigreed': FreqDist({'ADJ': 1}), 'dogs': FreqDist({'NOUN': 2}), 'males': FreqDist({'NOUN': 1}), 'females': FreqDist({'NOUN': 1}), 'flat': FreqDist({'ADJ': 1}), 'replies': FreqDist({'VERB': 1}), 'owners': FreqDist({'NOUN': 1}), 'penalized': FreqDist({'VERB': 1}), 'animal': FreqDist({'NOUN': 2}), 'Deputy': FreqDist({'ADJ': 1}), 'Police': FreqDist({'NOUN': 2}), 'Leary': FreqDist({'NOUN': 1}), 'spends': FreqDist({'VERB': 1}), '$115,000': FreqDist({'NOUN': 1}), 'annually': FreqDist({'ADV': 1}), 'regulate': FreqDist({'VERB': 1}), 'collects': FreqDist({'VERB': 1}), '$43,000': FreqDist({'NOUN': 1}), '$67,000': FreqDist({'NOUN': 1}), 'S.P.C.A.': FreqDist({'NOUN': 1}), '$15,000': FreqDist({'NOUN': 2}), 'policemen': FreqDist({'NOUN': 1}), 'catchers': FreqDist({'NOUN': 1}), 'bites': FreqDist({'NOUN': 1}), 'Backs': FreqDist({'VERB': 1}), 'McConnell': FreqDist({'NOUN': 1}), 'indorsed': FreqDist({'VERB': 1}), 'adequately': FreqDist({'ADV': 1}), 'compensated': FreqDist({'VERB': 1}), 'schedule': FreqDist({'NOUN': 2}), 'Licenses': FreqDist({'NOUN': 1}), 'Inspections': FreqDist({'NOUN': 1}), 'Barnet': FreqDist({'NOUN': 1}), 'Lieberman': FreqDist({'NOUN': 1}), 'Eugene': FreqDist({'NOUN': 3}), 'Gillis': FreqDist({'NOUN': 1}), 'Petitions': FreqDist({'NOUN': 1}), 'asking': FreqDist({'VERB': 1}), 'jail': FreqDist({'NOUN': 1}), 'Norristown': FreqDist({'NOUN': 1}), 'Julian': FreqDist({'NOUN': 1}), 'Barnard': FreqDist({'NOUN': 3}), 'Montgomery': FreqDist({'NOUN': 1}), 'Friday': FreqDist({'NOUN': 6}), 'Horace': FreqDist({'NOUN': 1}), 'Davenport': FreqDist({'NOUN': 2}), 'counsel': FreqDist({'NOUN': 1}), 'widow': FreqDist({'NOUN': 2}), 'killed': FreqDist({'VERB': 1}), \"Barnard's\": FreqDist({'NOUN': 1}), 'hit-run': FreqDist({'ADJ': 2}), 'Dannehower': FreqDist({'NOUN': 1}), 'pleaded': FreqDist({'VERB': 1}), 'manslaughter': FreqDist({'NOUN': 1}), 'fined': FreqDist({'VERB': 1}), 'Warren': FreqDist({'NOUN': 1}), 'K.': FreqDist({'NOUN': 1}), 'Hess': FreqDist({'NOUN': 1}), \"years'\": FreqDist({'NOUN': 2}), 'probation': FreqDist({'NOUN': 2}), 'drive': FreqDist({'VERB': 1}), 'driving': FreqDist({'VERB': 1}), 'sentence': FreqDist({'NOUN': 1}), 'pronounced': FreqDist({'VERB': 1}), 'Victim': FreqDist({'NOUN': 1}), 'accident': FreqDist({'NOUN': 1}), 'Lee': FreqDist({'NOUN': 2}), 'Stansbery': FreqDist({'NOUN': 1}), '39': FreqDist({'NUM': 1}), 'circulation': FreqDist({'NOUN': 1}), 'reprimanded': FreqDist({'VERB': 1}), 'violating': FreqDist({'VERB': 1}), 'Planning': FreqDist({'VERB': 1}), 'Commission': FreqDist({'NOUN': 1}), 'agreements': FreqDist({'NOUN': 2}), 'redevelopers': FreqDist({'NOUN': 1}), 'Redevelopment': FreqDist({'NOUN': 3}), '$300,000,000': FreqDist({'NOUN': 1}), 'Eastwick': FreqDist({'NOUN': 5}), 'Area': FreqDist({'NOUN': 1}), 'hazards': FreqDist({'NOUN': 2}), 'pedestrians': FreqDist({'NOUN': 2}), 'Corp.': FreqDist({'NOUN': 3}), '1311': FreqDist({'NUM': 1}), 'acre': FreqDist({'NOUN': 1}), 'tract': FreqDist({'NOUN': 3}), '$12,192,865': FreqDist({'NOUN': 1}), 'bounded': FreqDist({'VERB': 1}), 'Dicks': FreqDist({'NOUN': 1}), '61st': FreqDist({'ADJ': 1}), 'Four': FreqDist({'NUM': 1}), 'parks': FreqDist({'NOUN': 2}), 'designated': FreqDist({'VERB': 1}), 'Stage': FreqDist({'NOUN': 2}), 'Residential': FreqDist({'ADJ': 2}), \"Authority's\": FreqDist({'NOUN': 1}), 'master': FreqDist({'ADJ': 1}), 'feature': FreqDist({'VERB': 2}), 'row': FreqDist({'NOUN': 1}), 'garden': FreqDist({'NOUN': 1}), 'apartments': FreqDist({'NOUN': 1}), 'churches': FreqDist({'NOUN': 4}), 'clusters': FreqDist({'NOUN': 1}), 'corporation': FreqDist({'NOUN': 1}), 'formed': FreqDist({'VERB': 1}), 'Reynolds': FreqDist({'NOUN': 1}), 'Metal': FreqDist({'NOUN': 1}), 'Henry': FreqDist({'NOUN': 1}), 'builder': FreqDist({'NOUN': 1}), 'second': FreqDist({'ADJ': 2}), '520-acre': FreqDist({'ADJ': 1}), 'west': FreqDist({'NOUN': 1}), 'composed': FreqDist({'VERB': 1}), 'builders': FreqDist({'NOUN': 1}), 'developing': FreqDist({'VERB': 2}), 'Would': FreqDist({'VERB': 1}), 'bar': FreqDist({'VERB': 1}), 'Constantinos': FreqDist({'NOUN': 1}), 'Doxiadis': FreqDist({'NOUN': 1}), 'Reconstruction': FreqDist({'NOUN': 1}), 'Greece': FreqDist({'NOUN': 1}), 'planner': FreqDist({'NOUN': 1}), 'sectors': FreqDist({'NOUN': 1}), 'barred': FreqDist({'VERB': 1}), 'vehicular': FreqDist({'ADJ': 1}), 'landscaped': FreqDist({'VERB': 1}), 'walkways': FreqDist({'NOUN': 1}), 'esplanade': FreqDist({'NOUN': 3}), 'entire': FreqDist({'ADJ': 2}), 'two-and-a-half-mile': FreqDist({'ADJ': 1}), 'length': FreqDist({'NOUN': 1}), 'eliminates': FreqDist({'VERB': 1}), 'Grovers': FreqDist({'NOUN': 1}), 'ran': FreqDist({'VERB': 1}), 'pedestrian': FreqDist({'NOUN': 1}), 'bridges': FreqDist({'NOUN': 1}), 'roads': FreqDist({'NOUN': 1}), 'Kansas': FreqDist({'NOUN': 3}), 'Mo.': FreqDist({'NOUN': 2}), 'UPI': FreqDist({'NOUN': 1}), 'International': FreqDist({'ADJ': 1}), 'Fighters': FreqDist({'NOUN': 1}), 'severly': FreqDist({'ADV': 1}), 'injured': FreqDist({'VERB': 1}), 'bomb': FreqDist({'NOUN': 2}), 'tore': FreqDist({'VERB': 1}), 'apart': FreqDist({'ADV': 1}), 'Battalion': FreqDist({'NOUN': 1}), 'Stanton': FreqDist({'NOUN': 1}), 'Gladden': FreqDist({'NOUN': 3}), '42': FreqDist({'NUM': 1}), 'figure': FreqDist({'NOUN': 1}), 'representation': FreqDist({'NOUN': 1}), 'dispute': FreqDist({'NOUN': 1}), 'fighters': FreqDist({'NOUN': 3}), 'teamsters': FreqDist({'NOUN': 4}), 'suffered': FreqDist({'VERB': 1}), 'multiple': FreqDist({'ADJ': 1}), 'fractures': FreqDist({'NOUN': 1}), 'ankles': FreqDist({'NOUN': 1}), 'Baptist': FreqDist({'NOUN': 1}), 'Memorial': FreqDist({'ADJ': 2}), 'Ignition': FreqDist({'NOUN': 1}), 'sets': FreqDist({'VERB': 1}), 'blast': FreqDist({'NOUN': 2}), 'battalion': FreqDist({'NOUN': 1}), 'gotten': FreqDist({'VERB': 1}), 'automobile': FreqDist({'NOUN': 1}), 'driveway': FreqDist({'NOUN': 2}), \"I'd\": FreqDist({'PRT': 1}), 'ignition': FreqDist({'NOUN': 1}), 'flash': FreqDist({'NOUN': 1}), 'lying': FreqDist({'VERB': 1}), \"Gladden's\": FreqDist({'NOUN': 2}), 'wife': FreqDist({'NOUN': 1}), 'sons': FreqDist({'NOUN': 1}), '17': FreqDist({'NUM': 3}), 'younger': FreqDist({'ADJ': 1}), 'boy': FreqDist({'NOUN': 1}), 'knocked': FreqDist({'VERB': 1}), 'bed': FreqDist({'NOUN': 1}), 'wall': FreqDist({'NOUN': 2}), 'Hood': FreqDist({'NOUN': 1}), 'flies': FreqDist({'VERB': 1}), 'hood': FreqDist({'NOUN': 1}), 'flying': FreqDist({'VERB': 1}), 'roof': FreqDist({'NOUN': 1}), 'front': FreqDist({'NOUN': 3}), 'wheel': FreqDist({'NOUN': 2}), 'landed': FreqDist({'VERB': 1}), 'away': FreqDist({'ADV': 2}), 'laboratory': FreqDist({'NOUN': 1}), 'explosive': FreqDist({'ADJ': 1}), 'device': FreqDist({'NOUN': 1}), 'containing': FreqDist({'VERB': 1}), 'TNT': FreqDist({'NOUN': 1}), 'nitroglycerine': FreqDist({'NOUN': 1}), \"car's\": FreqDist({'NOUN': 1}), 'starter': FreqDist({'NOUN': 1}), 'target': FreqDist({'NOUN': 1}), 'threatening': FreqDist({'VERB': 1}), 'reportedly': FreqDist({'ADV': 1}), 'torn': FreqDist({'VERB': 1}), 'dissension': FreqDist({'NOUN': 1}), 'top': FreqDist({'ADJ': 1}), 'Led': FreqDist({'VERB': 1}), 'outspoken': FreqDist({'ADJ': 1}), 'critic': FreqDist({'NOUN': 1}), \"union's\": FreqDist({'NOUN': 1}), 'began': FreqDist({'VERB': 1}), 'organizing': FreqDist({'VERB': 1}), 'firemen': FreqDist({'NOUN': 1}), 'offered': FreqDist({'VERB': 2}), 'reward': FreqDist({'NOUN': 1, 'VERB': 1}), 'leading': FreqDist({'VERB': 1}), 'arrest': FreqDist({'NOUN': 1}), 'bombing': FreqDist({'NOUN': 1}), \"association's\": FreqDist({'NOUN': 1}), 'Kas.': FreqDist({'NOUN': 1}), 'guards': FreqDist({'NOUN': 1}), 'Mining': FreqDist({'NOUN': 2}), 'Shiflett': FreqDist({'NOUN': 2}), 'secretary-treasurer': FreqDist({'NOUN': 1}), 'active': FreqDist({'ADJ': 2}), 'Ankara': FreqDist({'NOUN': 1}), 'Turkey': FreqDist({'NOUN': 2}), 'Oct.': FreqDist({'NOUN': 2}), 'AP': FreqDist({'NOUN': 2}), 'Turkish': FreqDist({'ADJ': 1}), 'bowed': FreqDist({'VERB': 1}), 'emergency': FreqDist({'NOUN': 1}), 'Cemal': FreqDist({'NOUN': 1}), 'Gursel': FreqDist({'NOUN': 3}), 'contested': FreqDist({'VERB': 1}), 'indecisive': FreqDist({'ADJ': 1}), 'elections': FreqDist({'NOUN': 2}), '15': FreqDist({'NUM': 3}), 'hours': FreqDist({'NOUN': 1}), 'bargaining': FreqDist({'NOUN': 1}), 'threat': FreqDist({'NOUN': 1}), 'army': FreqDist({'NOUN': 3}), 'coup': FreqDist({'X': 1}), \"d'etat\": FreqDist({'X': 1}), 'By-passing': FreqDist({'VERB': 1}), 'junta': FreqDist({'NOUN': 3}), 'overthrow': FreqDist({'NOUN': 1}), 'Adnan': FreqDist({'NOUN': 1}), 'Menderes': FreqDist({'NOUN': 2}), 'Cedvet': FreqDist({'NOUN': 1}), 'Sunay': FreqDist({'NOUN': 1}), 'deadline': FreqDist({'NOUN': 1}), 'join': FreqDist({'VERB': 2}), 'threatened': FreqDist({'VERB': 1}), 'sign': FreqDist({'VERB': 1}), 'protocol': FreqDist({'NOUN': 1}), 'agreeing': FreqDist({'VERB': 1}), 'demanded': FreqDist({'VERB': 1}), 'pledges': FreqDist({'NOUN': 1}), 'prison': FreqDist({'NOUN': 1}), 'pardoned': FreqDist({'VERB': 1}), 'final': FreqDist({'ADJ': 1}), 'satisfied': FreqDist({'VERB': 1}), 'stated': FreqDist({'VERB': 1}), 'solution': FreqDist({'NOUN': 1}), 'created': FreqDist({'VERB': 1}), 'Vincent': FreqDist({'NOUN': 1}), 'Ierulli': FreqDist({'NOUN': 3}), 'temporary': FreqDist({'ADJ': 1}), 'Desmond': FreqDist({'NOUN': 1}), 'Connall': FreqDist({'NOUN': 1}), '31': FreqDist({'NUM': 1}), '29': FreqDist({'NUM': 1}), 'practicing': FreqDist({'VERB': 1}), 'Portland': FreqDist({'NOUN': 5}), 'graduate': FreqDist({'NOUN': 1}), 'Northwestern': FreqDist({'ADJ': 1}), 'Law': FreqDist({'NOUN': 1}), 'father': FreqDist({'NOUN': 1}), 'Helping': FreqDist({'VERB': 1}), 'structure': FreqDist({'NOUN': 1}), 'aiding': FreqDist({'VERB': 1}), 'economically': FreqDist({'ADV': 1}), 'World': FreqDist({'NOUN': 1}), 'Multnomah': FreqDist({'NOUN': 2}), '350': FreqDist({'NUM': 1}), 'paths': FreqDist({'NOUN': 1}), 'identical': FreqDist({'ADJ': 1}), 'congenial': FreqDist({'ADJ': 1}), 'ours': FreqDist({'PRON': 1}), 'adding': FreqDist({'VERB': 2}), 'develop': FreqDist({'VERB': 1}), 'society': FreqDist({'NOUN': 2}), 'ritiuality': FreqDist({'NOUN': 1}), 'loyalty': FreqDist({'NOUN': 1}), 'Patience': FreqDist({'NOUN': 1}), 'Insuring': FreqDist({'VERB': 1}), 'detriment': FreqDist({'NOUN': 1}), 'Germany': FreqDist({'NOUN': 1}), 'rebel': FreqDist({'VERB': 1}), 'patience': FreqDist({'NOUN': 1}), 'century': FreqDist({'NOUN': 1}), 'By': FreqDist({'ADP': 1}), 'doors': FreqDist({'NOUN': 1}), 'gives': FreqDist({'VERB': 1}), 'peoples': FreqDist({'NOUN': 1}), 'compare': FreqDist({'VERB': 1}), 'Individual': FreqDist({'ADJ': 1}), 'reason': FreqDist({'NOUN': 1}), 'fear': FreqDist({'VERB': 1}), 'extraordinarily': FreqDist({'ADV': 1}), 'Economically': FreqDist({'ADV': 1}), 'helping': FreqDist({'VERB': 1}), 'Private': FreqDist({'ADJ': 1}), 'absorb': FreqDist({'VERB': 1}), 'exported': FreqDist({'VERB': 1}), 'goods': FreqDist({'NOUN': 1}), 'products': FreqDist({'NOUN': 1}), 'total': FreqDist({'NOUN': 1}), 'towards': FreqDist({'ADP': 1}), \"Portland's\": FreqDist({'NOUN': 1}), 'seemed': FreqDist({'VERB': 2}), 'advice': FreqDist({'NOUN': 1}), 'coordination': FreqDist({'NOUN': 1}), 'plea': FreqDist({'NOUN': 1}), 'Ralph': FreqDist({'NOUN': 1}), 'Molvar': FreqDist({'NOUN': 3}), '1409': FreqDist({'NUM': 1}), 'SW': FreqDist({'NOUN': 1}), 'Maplecrest': FreqDist({'NOUN': 1}), 'thought': FreqDist({'VERB': 4}), 'cooperating': FreqDist({'VERB': 1}), 'Chairman': FreqDist({'NOUN': 1}), 'Mears': FreqDist({'NOUN': 1}), 'strictly': FreqDist({'ADV': 1}), 'parents': FreqDist({'NOUN': 1}), 'Melvin': FreqDist({'NOUN': 1}), 'Barnes': FreqDist({'NOUN': 2}), 'superintendent': FreqDist({'NOUN': 3}), 'waiting': FreqDist({'VERB': 1}), 'sure': FreqDist({'ADJ': 1}), 'whatever': FreqDist({'DET': 1}), 'planning': FreqDist({'VERB': 1, 'NOUN': 1}), 'fruitful': FreqDist({'ADJ': 1}), 'Los': FreqDist({'NOUN': 1}), 'Angeles': FreqDist({'NOUN': 1}), 'send': FreqDist({'VERB': 1}), 'disaster': FreqDist({'NOUN': 1}), 'Nobody': FreqDist({'NOUN': 1}), 'evacuate': FreqDist({'VERB': 1}), 'everybody': FreqDist({'NOUN': 1}), 'voice': FreqDist({'NOUN': 1}), 'reiterating': FreqDist({'VERB': 1}), 'her': FreqDist({'DET': 1}), 'please': FreqDist({'VERB': 1}), 'faith': FreqDist({'NOUN': 2}), 'somebody': FreqDist({'NOUN': 1}), \"wouldn't\": FreqDist({'VERB': 1}), 'everyone': FreqDist({'NOUN': 1}), 'rush': FreqDist({'VERB': 1}), 'evacuation': FreqDist({'NOUN': 1}), 'lots': FreqDist({'NOUN': 1}), 'realistic': FreqDist({'ADJ': 1}), 'keeping': FreqDist({'VERB': 2}), 'Jack': FreqDist({'NOUN': 1}), \"Lowe's\": FreqDist({'NOUN': 1}), 'instructed': FreqDist({'VERB': 1}), 'Salem': FreqDist({'NOUN': 3}), 'statewide': FreqDist({'ADJ': 1}), 'mothers': FreqDist({'NOUN': 1}), 'greeting': FreqDist({'NOUN': 1}), 'Mark': FreqDist({'NOUN': 1}), 'Hatfield': FreqDist({'NOUN': 2}), 'reception': FreqDist({'NOUN': 1}), 'capitol': FreqDist({'NOUN': 1}), 'noon': FreqDist({'NOUN': 1}), 'Emerald': FreqDist({'NOUN': 1}), 'Empire': FreqDist({'NOUN': 1}), 'Kiwanis': FreqDist({'NOUN': 1}), 'speak': FreqDist({'VERB': 2}), 'Willamette': FreqDist({'NOUN': 1}), 'swearing': FreqDist({'NOUN': 1}), 'Bryson': FreqDist({'NOUN': 1}), 'Circuit': FreqDist({'NOUN': 1}), 'Washington-Oregon': FreqDist({'NOUN': 1}), 'football': FreqDist({'NOUN': 1}), 'game': FreqDist({'NOUN': 1}), 'Beaverton': FreqDist({'NOUN': 1}), 'School': FreqDist({'NOUN': 1}), 'No.': FreqDist({'NOUN': 1}), 'examined': FreqDist({'VERB': 1}), 'blueprints': FreqDist({'NOUN': 1}), 'specifications': FreqDist({'NOUN': 1}), 'junior': FreqDist({'ADJ': 2}), 'workshop': FreqDist({'NOUN': 1}), '$3.5': FreqDist({'NOUN': 1}), '900-student': FreqDist({'ADJ': 1}), 'prefer': FreqDist({'VERB': 1}), '6-3-3': FreqDist({'NUM': 1}), '8-4': FreqDist({'NUM': 1}), 'advisory': FreqDist({'NOUN': 1}), '$581,000': FreqDist({'NOUN': 1}), 'elementary': FreqDist({'ADJ': 1}), 'Masonic': FreqDist({'ADJ': 1}), 'Temple': FreqDist({'NOUN': 1}), '$25-a-plate': FreqDist({'NOUN': 1}), 'dinner': FreqDist({'NOUN': 3}), 'honoring': FreqDist({'VERB': 1}), 'organized': FreqDist({'VERB': 1}), 'p.m.': FreqDist({'ADV': 3}), 'Roosevelt': FreqDist({'NOUN': 1}), '4:30': FreqDist({'NUM': 1}), 'Blaine': FreqDist({'NOUN': 1}), 'Whipple': FreqDist({'NOUN': 1}), 'Oregon': FreqDist({'NOUN': 1}), 'speakers': FreqDist({'NOUN': 1}), 'fund-raising': FreqDist({'NOUN': 1}), 'Reps.': FreqDist({'NOUN': 1}), 'Edith': FreqDist({'NOUN': 1}), 'Al': FreqDist({'NOUN': 1}), 'Ullman': FreqDist({'NOUN': 1}), 'Norman': FreqDist({'NOUN': 1}), 'Nilsen': FreqDist({'NOUN': 1}), 'Terry': FreqDist({'NOUN': 1}), 'Schrunk': FreqDist({'NOUN': 1}), 'Oak': FreqDist({'NOUN': 2}), 'Grove': FreqDist({'NOUN': 1}), 'Lodge': FreqDist({'NOUN': 1}), 'Water': FreqDist({'NOUN': 1}), 'Dec.': FreqDist({'NOUN': 1}), 'a.m.': FreqDist({'ADV': 1}), 'Polls': FreqDist({'NOUN': 1}), 'water': FreqDist({'NOUN': 1}), 'Incumbent': FreqDist({'ADJ': 2}), 'Salter': FreqDist({'NOUN': 1}), 'seeks': FreqDist({'VERB': 1}), 're-election': FreqDist({'NOUN': 2}), 'Huffman': FreqDist({'NOUN': 1}), 'five-year': FreqDist({'ADJ': 1}), 'Brod': FreqDist({'NOUN': 1}), 'Barbara': FreqDist({'NOUN': 1}), 'Njust': FreqDist({'NOUN': 1}), 'Bubenik': FreqDist({'NOUN': 1}), 'Five': FreqDist({'NUM': 1}), 'vacated': FreqDist({'VERB': 1}), 'Hugh': FreqDist({'NOUN': 1}), 'Stout': FreqDist({'NOUN': 1}), 'Seeking': FreqDist({'VERB': 1}), 'two-year': FreqDist({'ADJ': 2}), 'Culbertson': FreqDist({'NOUN': 1}), 'Steeves': FreqDist({'NOUN': 1}), 'Piersee': FreqDist({'NOUN': 1}), 'W.M.': FreqDist({'NOUN': 1}), 'Sexton': FreqDist({'NOUN': 1}), 'Theodore': FreqDist({'NOUN': 1}), 'Heitschmidt': FreqDist({'NOUN': 1}), 'stronger': FreqDist({'ADJ': 1}), 'beliefs': FreqDist({'NOUN': 3}), 'grasp': FreqDist({'NOUN': 1}), 'delegates': FreqDist({'NOUN': 4}), 'Assemblies': FreqDist({'NOUN': 3}), 'God': FreqDist({'NOUN': 6}), 'Coliseum': FreqDist({'NOUN': 1}), 'revised': FreqDist({'VERB': 1}), 'strengthen': FreqDist({'VERB': 1}), \"denomination's\": FreqDist({'NOUN': 1}), 'unanimously': FreqDist({'ADV': 1}), 'modern': FreqDist({'ADJ': 2}), 'trends': FreqDist({'NOUN': 1}), 'Bible': FreqDist({'NOUN': 3}), 'belief': FreqDist({'NOUN': 3}), 'dependence': FreqDist({'NOUN': 1}), 'Rev.': FreqDist({'NOUN': 5}), 'Zimmerman': FreqDist({'NOUN': 3}), 'commented': FreqDist({'VERB': 1}), 'bulwark': FreqDist({'NOUN': 1}), 'fundamentalism': FreqDist({'NOUN': 1}), 'compromise': FreqDist({'NOUN': 1}), 'stood': FreqDist({'VERB': 2}), 'truths': FreqDist({'NOUN': 1}), 'editing': FreqDist({'NOUN': 1}), 'clarification': FreqDist({'NOUN': 1}), 'denomination': FreqDist({'NOUN': 2}), 'reads': FreqDist({'VERB': 1}), 'scriptures': FreqDist({'NOUN': 1}), 'Old': FreqDist({'ADJ': 1}), 'Testament': FreqDist({'NOUN': 1}), 'verbally': FreqDist({'ADV': 1}), 'inspired': FreqDist({'VERB': 1}), 'revelation': FreqDist({'NOUN': 1}), 'infallible': FreqDist({'ADJ': 1}), 'authoritative': FreqDist({'ADJ': 1}), 'conduct': FreqDist({'NOUN': 1}), 'emphasizes': FreqDist({'VERB': 2}), 'Diety': FreqDist({'NOUN': 1}), 'Lord': FreqDist({'NOUN': 1}), 'Jesus': FreqDist({'NOUN': 1}), 'Christ': FreqDist({'NOUN': 2}), 'birth': FreqDist({'NOUN': 1}), 'sinless': FreqDist({'ADJ': 1}), 'miracles': FreqDist({'NOUN': 1}), 'substitutionary': FreqDist({'ADJ': 1}), 'cross': FreqDist({'NOUN': 1}), 'bodily': FreqDist({'ADJ': 1}), 'resurrection': FreqDist({'NOUN': 1}), 'exaltation': FreqDist({'NOUN': 1}), 'Super': FreqDist({'NOUN': 1}), 'afternoon': FreqDist({'NOUN': 1}), 'reelected': FreqDist({'VERB': 1}), 'consecutive': FreqDist({'ADJ': 1}), 'offices': FreqDist({'NOUN': 1}), 'Springfield': FreqDist({'NOUN': 1}), 'Election': FreqDist({'NOUN': 1}), 'nominating': FreqDist({'VERB': 1}), 'forthcoming': FreqDist({'ADJ': 1}), 'Breakthrough': FreqDist({'NOUN': 2}), 'fill': FreqDist({'VERB': 1}), 'opening': FreqDist({'VERB': 1}), 'Brandt': FreqDist({'NOUN': 2}), 'missions': FreqDist({'NOUN': 1}), 'stressed': FreqDist({'VERB': 1}), 'Surveys': FreqDist({'NOUN': 1}), 'contact': FreqDist({'NOUN': 1}), 'Church': FreqDist({'NOUN': 1}), 'loses': FreqDist({'VERB': 1}), 'Talking': FreqDist({'VERB': 1}), 'upwards': FreqDist({'ADV': 1}), '12,000': FreqDist({'NUM': 1}), 'babies': FreqDist({'NOUN': 1}), 'born': FreqDist({'VERB': 1}), 'immigrant': FreqDist({'NOUN': 1}), '1-1/2': FreqDist({'NUM': 1}), 'opened': FreqDist({'VERB': 1}), '7,000': FreqDist({'NUM': 1}), '10,000': FreqDist({'NUM': 1}), 'light': FreqDist({'NOUN': 1}), '1,000': FreqDist({'NUM': 1}), 'Illinois': FreqDist({'NOUN': 1})}\n",
      "i am in tag(data)\n",
      "current word is It\n",
      "current state is [(['BOS', 'BOS'], 0.0)]\n",
      "Tag: PRON, p_wd: 0.05066079295154185, p: 0.0064454578063272835\n",
      "current word is urged\n",
      "current state is [(['BOS', 'BOS', ('PRON', False)], -11.580487982295644)]\n",
      "Tag: VERB, p_wd: 0.0010645848119233499, p: 0.22642162374278563\n",
      "current word is that\n",
      "current state is [(['BOS', 'BOS', ('PRON', False), ('VERB', False)], -23.598897727601823)]\n",
      "Tag: ADP, p_wd: 0.058823529411764705, p: 0.1254679052125056\n",
      "Tag: DET, p_wd: 0.0075507314771118455, p: 0.12616677031790816\n",
      "Tag: PRON, p_wd: 0.04185022026431718, p: 0.03323918427171857\n",
      "Tag: ADV, p_wd: 0.001953125, p: 0.0871537242677039\n",
      "current word is the\n",
      "current state is [(['BOS', 'BOS', ('PRON', False), ('VERB', False), ('ADP', False)], -30.680970294881583), (['BOS', 'BOS', ('PRON', False), ('VERB', False), ('PRON', False)], -33.088489914097174), (['BOS', 'BOS', ('PRON', False), ('VERB', False), ('DET', False)], -33.634661710137124), (['BOS', 'BOS', ('PRON', False), ('VERB', False), ('ADV', False)], -36.11919160221955)]\n",
      "Tag: DET, p_wd: 0.5219443133553563, p: 0.38521047268917696\n",
      "Tag: DET, p_wd: 0.5219443133553563, p: 0.056466840154451414\n",
      "Tag: DET, p_wd: 0.5219443133553563, p: 0.03116007585919421\n",
      "Tag: DET, p_wd: 0.5219443133553563, p: 0.07887717666608865\n",
      "current word is city\n",
      "current state is [(['BOS', 'BOS', ('PRON', False), ('VERB', False), ('ADP', False), ('DET', False)], -32.995283665746435), (['BOS', 'BOS', ('PRON', False), ('VERB', False), ('PRON', False), ('DET', False)], -38.17297440465388), (['BOS', 'BOS', ('PRON', False), ('VERB', False), ('DET', False), ('DET', False)], -39.57685135640486), (['BOS', 'BOS', ('PRON', False), ('VERB', False), ('ADV', False), ('DET', False)], -40.72147208139576)]\n",
      "Tag: NOUN, p_wd: 0.005943251533742332, p: 0.5689961813516032\n",
      "Tag: NOUN, p_wd: 0.005943251533742332, p: 0.35265274507014377\n",
      "Tag: NOUN, p_wd: 0.005943251533742332, p: 0.4836600196720454\n",
      "Tag: NOUN, p_wd: 0.005943251533742332, p: 0.6027575420374106\n",
      "current word is ``\n",
      "current state is [(['BOS', 'BOS', ('PRON', False), ('VERB', False), ('ADP', False), ('DET', False), ('NOUN', False)], -41.20332463413172), (['BOS', 'BOS', ('PRON', False), ('VERB', False), ('PRON', False), ('DET', False), ('NOUN', False)], -47.071186073604814), (['BOS', 'BOS', ('PRON', False), ('VERB', False), ('DET', False), ('DET', False), ('NOUN', False)], -48.01931800855124), (['BOS', 'BOS', ('PRON', False), ('VERB', False), ('ADV', False), ('DET', False), ('NOUN', False)], -48.846354222384306)]\n",
      "Tag: ., p_wd: 0.08432371250707414, p: 0.15540453139638294\n",
      "Tag: ., p_wd: 0.08432371250707414, p: 0.15540453139638294\n",
      "Tag: ., p_wd: 0.08432371250707414, p: 0.15540453139638294\n",
      "Tag: ., p_wd: 0.08432371250707414, p: 0.15540453139638294\n",
      "current word is take\n",
      "current state is [(['BOS', 'BOS', ('PRON', False), ('VERB', False), ('ADP', False), ('DET', False), ('NOUN', False), ('.', False)], -47.4571419616166), (['BOS', 'BOS', ('PRON', False), ('VERB', False), ('PRON', False), ('DET', False), ('NOUN', False), ('.', False)], -53.32500340108969), (['BOS', 'BOS', ('PRON', False), ('VERB', False), ('DET', False), ('DET', False), ('NOUN', False), ('.', False)], -54.27313533603612), (['BOS', 'BOS', ('PRON', False), ('VERB', False), ('ADV', False), ('DET', False), ('NOUN', False), ('.', False)], -55.10017154986919)]\n",
      "Tag: VERB, p_wd: 0.0056777856635912, p: 0.13879888649935962\n",
      "Tag: VERB, p_wd: 0.0056777856635912, p: 0.13879888649935962\n",
      "Tag: VERB, p_wd: 0.0056777856635912, p: 0.13879888649935962\n",
      "Tag: VERB, p_wd: 0.0056777856635912, p: 0.13879888649935962\n",
      "current word is steps\n",
      "current state is [(['BOS', 'BOS', ('PRON', False), ('VERB', False), ('ADP', False), ('DET', False), ('NOUN', False), ('.', False), ('VERB', False)], -57.766529958732406), (['BOS', 'BOS', ('PRON', False), ('VERB', False), ('PRON', False), ('DET', False), ('NOUN', False), ('.', False), ('VERB', False)], -63.634391398205494), (['BOS', 'BOS', ('PRON', False), ('VERB', False), ('DET', False), ('DET', False), ('NOUN', False), ('.', False), ('VERB', False)], -64.58252333315193), (['BOS', 'BOS', ('PRON', False), ('VERB', False), ('ADV', False), ('DET', False), ('NOUN', False), ('.', False), ('VERB', False)], -65.409559546985)]\n",
      "Tag: NOUN, p_wd: 0.0009585889570552147, p: 0.15948899948868153\n",
      "Tag: NOUN, p_wd: 0.0009585889570552147, p: 0.15948899948868153\n",
      "Tag: NOUN, p_wd: 0.0009585889570552147, p: 0.15948899948868153\n",
      "Tag: NOUN, p_wd: 0.0009585889570552147, p: 0.15948899948868153\n",
      "current word is to\n",
      "current state is [(['BOS', 'BOS', ('PRON', False), ('VERB', False), ('ADP', False), ('DET', False), ('NOUN', False), ('.', False), ('VERB', False), ('NOUN', False)], -70.44180119323937), (['BOS', 'BOS', ('PRON', False), ('VERB', False), ('PRON', False), ('DET', False), ('NOUN', False), ('.', False), ('VERB', False), ('NOUN', False)], -76.30966263271246), (['BOS', 'BOS', ('PRON', False), ('VERB', False), ('DET', False), ('DET', False), ('NOUN', False), ('.', False), ('VERB', False), ('NOUN', False)], -77.25779456765889), (['BOS', 'BOS', ('PRON', False), ('VERB', False), ('ADV', False), ('DET', False), ('NOUN', False), ('.', False), ('VERB', False), ('NOUN', False)], -78.08483078149196)]\n",
      "Tag: ADP, p_wd: 0.07085561497326204, p: 0.2385874477019704\n",
      "Tag: PRT, p_wd: 0.6674757281553398, p: 0.03272667751731273\n",
      "Tag: ADP, p_wd: 0.07085561497326204, p: 0.2385874477019704\n",
      "Tag: PRT, p_wd: 0.6674757281553398, p: 0.03272667751731273\n",
      "Tag: ADP, p_wd: 0.07085561497326204, p: 0.2385874477019704\n",
      "Tag: PRT, p_wd: 0.6674757281553398, p: 0.03272667751731273\n",
      "Tag: ADP, p_wd: 0.07085561497326204, p: 0.2385874477019704\n",
      "Tag: PRT, p_wd: 0.6674757281553398, p: 0.03272667751731273\n",
      "current word is remedy\n",
      "current state is [(['BOS', 'BOS', ('PRON', False), ('VERB', False), ('ADP', False), ('DET', False), ('NOUN', False), ('.', False), ('VERB', False), ('NOUN', False), ('PRT', False)], -75.95840295747175), (['BOS', 'BOS', ('PRON', False), ('VERB', False), ('ADP', False), ('DET', False), ('NOUN', False), ('.', False), ('VERB', False), ('NOUN', False), ('ADP', False)], -76.32818514989197), (['BOS', 'BOS', ('PRON', False), ('VERB', False), ('PRON', False), ('DET', False), ('NOUN', False), ('.', False), ('VERB', False), ('NOUN', False), ('PRT', False)], -81.82626439694484), (['BOS', 'BOS', ('PRON', False), ('VERB', False), ('PRON', False), ('DET', False), ('NOUN', False), ('.', False), ('VERB', False), ('NOUN', False), ('ADP', False)], -82.19604658936505), (['BOS', 'BOS', ('PRON', False), ('VERB', False), ('DET', False), ('DET', False), ('NOUN', False), ('.', False), ('VERB', False), ('NOUN', False), ('PRT', False)], -82.77439633189127), (['BOS', 'BOS', ('PRON', False), ('VERB', False), ('DET', False), ('DET', False), ('NOUN', False), ('.', False), ('VERB', False), ('NOUN', False), ('ADP', False)], -83.14417852431149), (['BOS', 'BOS', ('PRON', False), ('VERB', False), ('ADV', False), ('DET', False), ('NOUN', False), ('.', False), ('VERB', False), ('NOUN', False), ('PRT', False)], -83.60143254572434), (['BOS', 'BOS', ('PRON', False), ('VERB', False), ('ADV', False), ('DET', False), ('NOUN', False), ('.', False), ('VERB', False), ('NOUN', False), ('ADP', False)], -83.97121473814455)]\n",
      "current word is ''\n",
      "current state is [(['BOS', 'BOS', ('PRON', False), ('VERB', False), ('ADP', False), ('DET', False), ('NOUN', False), ('.', False), ('VERB', False), ('NOUN', False), ('PRT', False), ('Unk', False)], -75.95840295747175), (['BOS', 'BOS', ('PRON', False), ('VERB', False), ('ADP', False), ('DET', False), ('NOUN', False), ('.', False), ('VERB', False), ('NOUN', False), ('ADP', False), ('Unk', False)], -76.32818514989197), (['BOS', 'BOS', ('PRON', False), ('VERB', False), ('PRON', False), ('DET', False), ('NOUN', False), ('.', False), ('VERB', False), ('NOUN', False), ('PRT', False), ('Unk', False)], -81.82626439694484), (['BOS', 'BOS', ('PRON', False), ('VERB', False), ('PRON', False), ('DET', False), ('NOUN', False), ('.', False), ('VERB', False), ('NOUN', False), ('ADP', False), ('Unk', False)], -82.19604658936505), (['BOS', 'BOS', ('PRON', False), ('VERB', False), ('DET', False), ('DET', False), ('NOUN', False), ('.', False), ('VERB', False), ('NOUN', False), ('PRT', False), ('Unk', False)], -82.77439633189127), (['BOS', 'BOS', ('PRON', False), ('VERB', False), ('DET', False), ('DET', False), ('NOUN', False), ('.', False), ('VERB', False), ('NOUN', False), ('ADP', False), ('Unk', False)], -83.14417852431149), (['BOS', 'BOS', ('PRON', False), ('VERB', False), ('ADV', False), ('DET', False), ('NOUN', False), ('.', False), ('VERB', False), ('NOUN', False), ('PRT', False), ('Unk', False)], -83.60143254572434), (['BOS', 'BOS', ('PRON', False), ('VERB', False), ('ADV', False), ('DET', False), ('NOUN', False), ('.', False), ('VERB', False), ('NOUN', False), ('ADP', False), ('Unk', False)], -83.97121473814455)]\n",
      "Tag: ., p_wd: 0.07866440294284098, p: 0.02508617608762183\n",
      "Tag: ., p_wd: 0.07866440294284098, p: 0.02508617608762183\n",
      "Tag: ., p_wd: 0.07866440294284098, p: 0.02508617608762183\n",
      "Tag: ., p_wd: 0.07866440294284098, p: 0.02508617608762183\n",
      "Tag: ., p_wd: 0.07866440294284098, p: 0.02508617608762183\n",
      "Tag: ., p_wd: 0.07866440294284098, p: 0.02508617608762183\n",
      "Tag: ., p_wd: 0.07866440294284098, p: 0.02508617608762183\n",
      "Tag: ., p_wd: 0.07866440294284098, p: 0.02508617608762183\n",
      "current word is this\n",
      "current state is [(['BOS', 'BOS', ('PRON', False), ('VERB', False), ('ADP', False), ('DET', False), ('NOUN', False), ('.', False), ('VERB', False), ('NOUN', False), ('PRT', False), ('Unk', False), ('.', False)], -84.94351182310089), (['BOS', 'BOS', ('PRON', False), ('VERB', False), ('ADP', False), ('DET', False), ('NOUN', False), ('.', False), ('VERB', False), ('NOUN', False), ('ADP', False), ('Unk', False), ('.', False)], -85.31329401552111), (['BOS', 'BOS', ('PRON', False), ('VERB', False), ('PRON', False), ('DET', False), ('NOUN', False), ('.', False), ('VERB', False), ('NOUN', False), ('PRT', False), ('Unk', False), ('.', False)], -90.811373262574), (['BOS', 'BOS', ('PRON', False), ('VERB', False), ('PRON', False), ('DET', False), ('NOUN', False), ('.', False), ('VERB', False), ('NOUN', False), ('ADP', False), ('Unk', False), ('.', False)], -91.18115545499421), (['BOS', 'BOS', ('PRON', False), ('VERB', False), ('DET', False), ('DET', False), ('NOUN', False), ('.', False), ('VERB', False), ('NOUN', False), ('PRT', False), ('Unk', False), ('.', False)], -91.75950519752041), (['BOS', 'BOS', ('PRON', False), ('VERB', False), ('DET', False), ('DET', False), ('NOUN', False), ('.', False), ('VERB', False), ('NOUN', False), ('ADP', False), ('Unk', False), ('.', False)], -92.12928738994063), (['BOS', 'BOS', ('PRON', False), ('VERB', False), ('ADV', False), ('DET', False), ('NOUN', False), ('.', False), ('VERB', False), ('NOUN', False), ('PRT', False), ('Unk', False), ('.', False)], -92.5865414113535), (['BOS', 'BOS', ('PRON', False), ('VERB', False), ('ADV', False), ('DET', False), ('NOUN', False), ('.', False), ('VERB', False), ('NOUN', False), ('ADP', False), ('Unk', False), ('.', False)], -92.95632360377371)]\n",
      "Tag: DET, p_wd: 0.021708352996696555, p: 0.060240898952182945\n",
      "Tag: DET, p_wd: 0.021708352996696555, p: 0.060240898952182945\n",
      "Tag: DET, p_wd: 0.021708352996696555, p: 0.060240898952182945\n",
      "Tag: DET, p_wd: 0.021708352996696555, p: 0.060240898952182945\n",
      "Tag: DET, p_wd: 0.021708352996696555, p: 0.060240898952182945\n",
      "Tag: DET, p_wd: 0.021708352996696555, p: 0.060240898952182945\n",
      "Tag: DET, p_wd: 0.021708352996696555, p: 0.060240898952182945\n",
      "Tag: DET, p_wd: 0.021708352996696555, p: 0.060240898952182945\n",
      "current word is problem\n",
      "current state is [(['BOS', 'BOS', ('PRON', False), ('VERB', False), ('ADP', False), ('DET', False), ('NOUN', False), ('.', False), ('VERB', False), ('NOUN', False), ('PRT', False), ('Unk', False), ('.', False), ('DET', False)], -94.52223063022709), (['BOS', 'BOS', ('PRON', False), ('VERB', False), ('ADP', False), ('DET', False), ('NOUN', False), ('.', False), ('VERB', False), ('NOUN', False), ('ADP', False), ('Unk', False), ('.', False), ('DET', False)], -94.8920128226473), (['BOS', 'BOS', ('PRON', False), ('VERB', False), ('PRON', False), ('DET', False), ('NOUN', False), ('.', False), ('VERB', False), ('NOUN', False), ('PRT', False), ('Unk', False), ('.', False), ('DET', False)], -100.39009206970019), (['BOS', 'BOS', ('PRON', False), ('VERB', False), ('PRON', False), ('DET', False), ('NOUN', False), ('.', False), ('VERB', False), ('NOUN', False), ('ADP', False), ('Unk', False), ('.', False), ('DET', False)], -100.7598742621204), (['BOS', 'BOS', ('PRON', False), ('VERB', False), ('DET', False), ('DET', False), ('NOUN', False), ('.', False), ('VERB', False), ('NOUN', False), ('PRT', False), ('Unk', False), ('.', False), ('DET', False)], -101.3382240046466), (['BOS', 'BOS', ('PRON', False), ('VERB', False), ('DET', False), ('DET', False), ('NOUN', False), ('.', False), ('VERB', False), ('NOUN', False), ('ADP', False), ('Unk', False), ('.', False), ('DET', False)], -101.70800619706682), (['BOS', 'BOS', ('PRON', False), ('VERB', False), ('ADV', False), ('DET', False), ('NOUN', False), ('.', False), ('VERB', False), ('NOUN', False), ('PRT', False), ('Unk', False), ('.', False), ('DET', False)], -102.16526021847969), (['BOS', 'BOS', ('PRON', False), ('VERB', False), ('ADV', False), ('DET', False), ('NOUN', False), ('.', False), ('VERB', False), ('NOUN', False), ('ADP', False), ('Unk', False), ('.', False), ('DET', False)], -102.5350424108999)]\n",
      "Tag: NOUN, p_wd: 0.0019171779141104294, p: 0.5173476045696773\n",
      "Tag: NOUN, p_wd: 0.0019171779141104294, p: 0.5173476045696773\n",
      "Tag: NOUN, p_wd: 0.0019171779141104294, p: 0.5173476045696773\n",
      "Tag: NOUN, p_wd: 0.0019171779141104294, p: 0.5173476045696773\n",
      "Tag: NOUN, p_wd: 0.0019171779141104294, p: 0.5173476045696773\n",
      "Tag: NOUN, p_wd: 0.0019171779141104294, p: 0.5173476045696773\n",
      "Tag: NOUN, p_wd: 0.0019171779141104294, p: 0.5173476045696773\n",
      "Tag: NOUN, p_wd: 0.0019171779141104294, p: 0.5173476045696773\n",
      "current word is .\n",
      "current state is [(['BOS', 'BOS', ('PRON', False), ('VERB', False), ('ADP', False), ('DET', False), ('NOUN', False), ('.', False), ('VERB', False), ('NOUN', False), ('PRT', False), ('Unk', False), ('.', False), ('DET', False), ('NOUN', False)], -104.49982483491011), (['BOS', 'BOS', ('PRON', False), ('VERB', False), ('ADP', False), ('DET', False), ('NOUN', False), ('.', False), ('VERB', False), ('NOUN', False), ('ADP', False), ('Unk', False), ('.', False), ('DET', False), ('NOUN', False)], -104.86960702733033), (['BOS', 'BOS', ('PRON', False), ('VERB', False), ('PRON', False), ('DET', False), ('NOUN', False), ('.', False), ('VERB', False), ('NOUN', False), ('PRT', False), ('Unk', False), ('.', False), ('DET', False), ('NOUN', False)], -110.36768627438322), (['BOS', 'BOS', ('PRON', False), ('VERB', False), ('PRON', False), ('DET', False), ('NOUN', False), ('.', False), ('VERB', False), ('NOUN', False), ('ADP', False), ('Unk', False), ('.', False), ('DET', False), ('NOUN', False)], -110.73746846680343), (['BOS', 'BOS', ('PRON', False), ('VERB', False), ('DET', False), ('DET', False), ('NOUN', False), ('.', False), ('VERB', False), ('NOUN', False), ('PRT', False), ('Unk', False), ('.', False), ('DET', False), ('NOUN', False)], -111.31581820932963), (['BOS', 'BOS', ('PRON', False), ('VERB', False), ('DET', False), ('DET', False), ('NOUN', False), ('.', False), ('VERB', False), ('NOUN', False), ('ADP', False), ('Unk', False), ('.', False), ('DET', False), ('NOUN', False)], -111.68560040174985), (['BOS', 'BOS', ('PRON', False), ('VERB', False), ('ADV', False), ('DET', False), ('NOUN', False), ('.', False), ('VERB', False), ('NOUN', False), ('PRT', False), ('Unk', False), ('.', False), ('DET', False), ('NOUN', False)], -112.14285442316272), (['BOS', 'BOS', ('PRON', False), ('VERB', False), ('ADV', False), ('DET', False), ('NOUN', False), ('.', False), ('VERB', False), ('NOUN', False), ('ADP', False), ('Unk', False), ('.', False), ('DET', False), ('NOUN', False)], -112.51263661558293)]\n",
      "Tag: ., p_wd: 0.3831352574985852, p: 0.15540453139638294\n",
      "Tag: ., p_wd: 0.3831352574985852, p: 0.15540453139638294\n",
      "Tag: ., p_wd: 0.3831352574985852, p: 0.15540453139638294\n",
      "Tag: ., p_wd: 0.3831352574985852, p: 0.15540453139638294\n",
      "Tag: ., p_wd: 0.3831352574985852, p: 0.15540453139638294\n",
      "Tag: ., p_wd: 0.3831352574985852, p: 0.15540453139638294\n",
      "Tag: ., p_wd: 0.3831352574985852, p: 0.15540453139638294\n",
      "Tag: ., p_wd: 0.3831352574985852, p: 0.15540453139638294\n"
     ]
    },
    {
     "data": {
      "text/plain": [
       "0.9285714285714286"
      ]
     },
     "execution_count": 13,
     "metadata": {},
     "output_type": "execute_result"
    }
   ],
   "source": [
    "from nltk.tag import tnt \n",
    "from nltk.corpus import brown\n",
    "# res = tnt.basic_sent_chop(word_tag_tupl, raw=False)\n",
    "tagger = tnt.TnT()\n",
    "sents = list(brown.tagged_sents(tagset=\"universal\"))\n",
    "tagger.train(sents[200:1000])\n",
    "print(dict(tagger._uni))\n",
    "print(dict(tagger._bi))\n",
    "print(dict(tagger._tri))\n",
    "print(dict(tagger._wd))\n",
    "list_of_words = \"the city was urged to remedy this problem\".split(\" \")\n",
    "tagger.accuracy(sents[10:11])"
   ]
  },
  {
   "cell_type": "code",
   "execution_count": 12,
   "metadata": {},
   "outputs": [
    {
     "data": {
      "text/plain": [
       "[('Rudolph', 'NNP'),\n",
       " ('Agnew', 'NNP'),\n",
       " (',', ','),\n",
       " ('55', 'CD'),\n",
       " ('years', 'NNS'),\n",
       " ('old', 'JJ'),\n",
       " ('and', 'CC'),\n",
       " ('former', 'JJ'),\n",
       " ('chairman', 'NN'),\n",
       " ('of', 'IN'),\n",
       " ('Consolidated', 'NNP'),\n",
       " ('Gold', 'NNP'),\n",
       " ('Fields', 'NNP'),\n",
       " ('PLC', 'NNP'),\n",
       " (',', ','),\n",
       " ('was', 'VBD'),\n",
       " ('named', 'VBN'),\n",
       " ('*-1', '-NONE-'),\n",
       " ('a', 'DT'),\n",
       " ('nonexecutive', 'JJ'),\n",
       " ('director', 'NN'),\n",
       " ('of', 'IN'),\n",
       " ('this', 'DT'),\n",
       " ('British', 'JJ'),\n",
       " ('industrial', 'JJ'),\n",
       " ('conglomerate', 'NN'),\n",
       " ('.', '.')]"
      ]
     },
     "execution_count": 12,
     "metadata": {},
     "output_type": "execute_result"
    }
   ],
   "source": [
    "from nltk.corpus import treebank\n",
    "d = list(treebank.tagged_sents())\n",
    "d[2]"
   ]
  }
 ],
 "metadata": {
  "kernelspec": {
   "display_name": ".venv",
   "language": "python",
   "name": "python3"
  },
  "language_info": {
   "codemirror_mode": {
    "name": "ipython",
    "version": 3
   },
   "file_extension": ".py",
   "mimetype": "text/x-python",
   "name": "python",
   "nbconvert_exporter": "python",
   "pygments_lexer": "ipython3",
   "version": "3.8.19"
  }
 },
 "nbformat": 4,
 "nbformat_minor": 2
}
