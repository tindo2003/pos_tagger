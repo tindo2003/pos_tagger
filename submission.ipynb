{
 "cells": [
  {
   "cell_type": "code",
   "execution_count": 1,
   "metadata": {
    "tags": []
   },
   "outputs": [
    {
     "name": "stdout",
     "output_type": "stream",
     "text": [
      "Collecting pandas\n",
      "  Downloading pandas-2.2.2-cp39-cp39-manylinux_2_17_x86_64.manylinux2014_x86_64.whl (13.1 MB)\n",
      "\u001b[K     |████████████████████████████████| 13.1 MB 5.9 MB/s eta 0:00:01    |████████▎                       | 3.4 MB 5.9 MB/s eta 0:00:02| 6.1 MB 5.9 MB/s eta 0:00:02\n",
      "\u001b[?25hCollecting tzdata>=2022.7\n",
      "  Downloading tzdata-2024.1-py2.py3-none-any.whl (345 kB)\n",
      "\u001b[K     |████████████████████████████████| 345 kB 56.4 MB/s eta 0:00:01\n",
      "\u001b[?25hRequirement already satisfied: pytz>=2020.1 in /home/studio-lab-user/.conda/envs/default/lib/python3.9/site-packages (from pandas) (2024.1)\n",
      "Requirement already satisfied: python-dateutil>=2.8.2 in /home/studio-lab-user/.conda/envs/default/lib/python3.9/site-packages (from pandas) (2.9.0)\n",
      "Requirement already satisfied: numpy>=1.22.4 in /home/studio-lab-user/.conda/envs/default/lib/python3.9/site-packages (from pandas) (2.0.0)\n",
      "Requirement already satisfied: six>=1.5 in /home/studio-lab-user/.conda/envs/default/lib/python3.9/site-packages (from python-dateutil>=2.8.2->pandas) (1.16.0)\n",
      "Installing collected packages: tzdata, pandas\n",
      "Successfully installed pandas-2.2.2 tzdata-2024.1\n",
      "Requirement already satisfied: numpy in /home/studio-lab-user/.conda/envs/default/lib/python3.9/site-packages (2.0.0)\n",
      "Requirement already satisfied: matplotlib in /home/studio-lab-user/.conda/envs/default/lib/python3.9/site-packages (3.9.0)\n",
      "Requirement already satisfied: cycler>=0.10 in /home/studio-lab-user/.conda/envs/default/lib/python3.9/site-packages (from matplotlib) (0.12.1)\n",
      "Requirement already satisfied: fonttools>=4.22.0 in /home/studio-lab-user/.conda/envs/default/lib/python3.9/site-packages (from matplotlib) (4.53.0)\n",
      "Requirement already satisfied: packaging>=20.0 in /home/studio-lab-user/.conda/envs/default/lib/python3.9/site-packages (from matplotlib) (24.0)\n",
      "Requirement already satisfied: contourpy>=1.0.1 in /home/studio-lab-user/.conda/envs/default/lib/python3.9/site-packages (from matplotlib) (1.2.1)\n",
      "Requirement already satisfied: pyparsing>=2.3.1 in /home/studio-lab-user/.conda/envs/default/lib/python3.9/site-packages (from matplotlib) (3.1.2)\n",
      "Requirement already satisfied: importlib-resources>=3.2.0 in /home/studio-lab-user/.conda/envs/default/lib/python3.9/site-packages (from matplotlib) (6.4.0)\n",
      "Requirement already satisfied: pillow>=8 in /home/studio-lab-user/.conda/envs/default/lib/python3.9/site-packages (from matplotlib) (10.3.0)\n",
      "Requirement already satisfied: python-dateutil>=2.7 in /home/studio-lab-user/.conda/envs/default/lib/python3.9/site-packages (from matplotlib) (2.9.0)\n",
      "Requirement already satisfied: kiwisolver>=1.3.1 in /home/studio-lab-user/.conda/envs/default/lib/python3.9/site-packages (from matplotlib) (1.4.5)\n",
      "Requirement already satisfied: numpy>=1.23 in /home/studio-lab-user/.conda/envs/default/lib/python3.9/site-packages (from matplotlib) (2.0.0)\n",
      "Requirement already satisfied: zipp>=3.1.0 in /home/studio-lab-user/.conda/envs/default/lib/python3.9/site-packages (from importlib-resources>=3.2.0->matplotlib) (3.17.0)\n",
      "Requirement already satisfied: six>=1.5 in /home/studio-lab-user/.conda/envs/default/lib/python3.9/site-packages (from python-dateutil>=2.7->matplotlib) (1.16.0)\n",
      "Collecting nltk\n",
      "  Downloading nltk-3.8.1-py3-none-any.whl (1.5 MB)\n",
      "\u001b[K     |████████████████████████████████| 1.5 MB 5.7 MB/s eta 0:00:01\n",
      "\u001b[?25hRequirement already satisfied: tqdm in /home/studio-lab-user/.conda/envs/default/lib/python3.9/site-packages (from nltk) (4.66.4)\n",
      "Collecting click\n",
      "  Downloading click-8.1.7-py3-none-any.whl (97 kB)\n",
      "\u001b[K     |████████████████████████████████| 97 kB 13.1 MB/s eta 0:00:01\n",
      "\u001b[?25hCollecting regex>=2021.8.3\n",
      "  Downloading regex-2024.5.15-cp39-cp39-manylinux_2_17_x86_64.manylinux2014_x86_64.whl (774 kB)\n",
      "\u001b[K     |████████████████████████████████| 774 kB 72.2 MB/s eta 0:00:01\n",
      "\u001b[?25hCollecting joblib\n",
      "  Downloading joblib-1.4.2-py3-none-any.whl (301 kB)\n",
      "\u001b[K     |████████████████████████████████| 301 kB 89.5 MB/s eta 0:00:01\n",
      "\u001b[?25hInstalling collected packages: regex, joblib, click, nltk\n",
      "Successfully installed click-8.1.7 joblib-1.4.2 nltk-3.8.1 regex-2024.5.15\n"
     ]
    }
   ],
   "source": [
    "!pip install pandas\n",
    "!pip install numpy\n",
    "!pip install matplotlib\n",
    "!pip install nltk"
   ]
  },
  {
   "cell_type": "code",
   "execution_count": 2,
   "metadata": {},
   "outputs": [],
   "source": [
    "import numpy as np\n",
    "import pandas as pd\n",
    "import matplotlib.pyplot as plt\n",
    "from collections import defaultdict\n",
    "from nltk.tag import tnt\n",
    "from tqdm import tqdm"
   ]
  },
  {
   "cell_type": "markdown",
   "metadata": {},
   "source": [
    "Dummy example"
   ]
  },
  {
   "cell_type": "code",
   "execution_count": 3,
   "metadata": {},
   "outputs": [],
   "source": [
    "index_dict = {\"happy\": 0, \"sad\": 1}\n",
    "NUM_TAGS = len(index_dict)\n",
    "TIME_STEPS = 3\n",
    "\n",
    "# Initialize π and back pointer matrices\n",
    "transition = np.array([[0.7, 0.3], [0.5, 0.5]])"
   ]
  },
  {
   "cell_type": "code",
   "execution_count": 4,
   "metadata": {},
   "outputs": [
    {
     "data": {
      "text/plain": [
       "array([[0.7, 0.3],\n",
       "       [0.5, 0.5]])"
      ]
     },
     "execution_count": 4,
     "metadata": {},
     "output_type": "execute_result"
    }
   ],
   "source": [
    "transition"
   ]
  },
  {
   "cell_type": "code",
   "execution_count": 5,
   "metadata": {},
   "outputs": [],
   "source": [
    "emission = {\n",
    "    \"happy\": {\"red\": 0.8, \"green\": 0.1, \"blue\": 0.1},\n",
    "    \"sad\": {\"red\": 0.2, \"green\": 0.3, \"blue\": 0.5},\n",
    "}"
   ]
  },
  {
   "cell_type": "markdown",
   "metadata": {},
   "source": [
    "the above shows that happy sad sad is the most optimal tag sequence"
   ]
  },
  {
   "cell_type": "code",
   "execution_count": 6,
   "metadata": {},
   "outputs": [
    {
     "data": {
      "text/plain": [
       "{'happyhappyhappy': np.float64(2.4),\n",
       " 'happyhappysad': np.float64(3.1),\n",
       " 'happysadhappy': np.float64(3.0),\n",
       " 'happysadsad': np.float64(3.7),\n",
       " 'sadhappyhappy': np.float64(2.3),\n",
       " 'sadhappysad': np.float64(3.0),\n",
       " 'sadsadhappy': np.float64(2.9),\n",
       " 'sadsadsad': np.float64(3.6)}"
      ]
     },
     "execution_count": 6,
     "metadata": {},
     "output_type": "execute_result"
    }
   ],
   "source": [
    "# NOTE: observed is G, B, R\n",
    "observed = [\"green\", \"blue\", \"red\"]\n",
    "\n",
    "cur_sequece = []\n",
    "res = {}\n",
    "def dfs(cur_day, cur_score):\n",
    "    if cur_day >= len(observed):\n",
    "        res[\"\".join(cur_sequece)] = cur_score\n",
    "        return\n",
    "    cur_observation = observed[cur_day]\n",
    "    for mood in [\"happy\", \"sad\"]:\n",
    "        cur_score += emission[mood][cur_observation]\n",
    "        # at the start, there is no previous mood\n",
    "        if cur_sequece:\n",
    "            cur_score += transition[index_dict[mood]][index_dict[cur_sequece[-1]]]\n",
    "        cur_sequece.append(mood)\n",
    "        dfs(cur_day + 1, cur_score)\n",
    "        cur_sequece.pop()\n",
    "dfs(0, 0)\n",
    "res"
   ]
  },
  {
   "cell_type": "markdown",
   "metadata": {},
   "source": [
    "- implementing https://www.cs.columbia.edu/~mcollins/courses/nlp2011/notes/hmms.pdf and https://aclanthology.org/A00-1031.pdf\n",
    "- heavily relied on nltk/tag/tnt.py\n",
    "- inspired by https://github.com/stathwang/POS-Taggers "
   ]
  },
  {
   "cell_type": "code",
   "execution_count": 7,
   "metadata": {},
   "outputs": [
    {
     "name": "stdout",
     "output_type": "stream",
     "text": [
      "the shape is (696475, 3)\n"
     ]
    },
    {
     "data": {
      "text/html": [
       "<div>\n",
       "<style scoped>\n",
       "    .dataframe tbody tr th:only-of-type {\n",
       "        vertical-align: middle;\n",
       "    }\n",
       "\n",
       "    .dataframe tbody tr th {\n",
       "        vertical-align: top;\n",
       "    }\n",
       "\n",
       "    .dataframe thead th {\n",
       "        text-align: right;\n",
       "    }\n",
       "</style>\n",
       "<table border=\"1\" class=\"dataframe\">\n",
       "  <thead>\n",
       "    <tr style=\"text-align: right;\">\n",
       "      <th></th>\n",
       "      <th>id</th>\n",
       "      <th>word</th>\n",
       "      <th>tag</th>\n",
       "    </tr>\n",
       "  </thead>\n",
       "  <tbody>\n",
       "    <tr>\n",
       "      <th>0</th>\n",
       "      <td>0</td>\n",
       "      <td>-DOCSTART-</td>\n",
       "      <td>O</td>\n",
       "    </tr>\n",
       "    <tr>\n",
       "      <th>1</th>\n",
       "      <td>1</td>\n",
       "      <td>Pierre</td>\n",
       "      <td>NNP</td>\n",
       "    </tr>\n",
       "    <tr>\n",
       "      <th>2</th>\n",
       "      <td>2</td>\n",
       "      <td>Vinken</td>\n",
       "      <td>NNP</td>\n",
       "    </tr>\n",
       "    <tr>\n",
       "      <th>3</th>\n",
       "      <td>3</td>\n",
       "      <td>,</td>\n",
       "      <td>,</td>\n",
       "    </tr>\n",
       "    <tr>\n",
       "      <th>4</th>\n",
       "      <td>4</td>\n",
       "      <td>61</td>\n",
       "      <td>CD</td>\n",
       "    </tr>\n",
       "  </tbody>\n",
       "</table>\n",
       "</div>"
      ],
      "text/plain": [
       "   id        word  tag\n",
       "0   0  -DOCSTART-    O\n",
       "1   1      Pierre  NNP\n",
       "2   2      Vinken  NNP\n",
       "3   3           ,    ,\n",
       "4   4          61   CD"
      ]
     },
     "execution_count": 7,
     "metadata": {},
     "output_type": "execute_result"
    }
   ],
   "source": [
    "X = pd.read_csv(\"data/train_x.csv\", na_filter=False)\n",
    "Y = pd.read_csv(\"data/train_y.csv\")\n",
    "word_with_tag = X.merge(Y, on=\"id\")\n",
    "print(f\"the shape is {word_with_tag.shape}\")\n",
    "word_with_tag.head()"
   ]
  },
  {
   "cell_type": "code",
   "execution_count": 8,
   "metadata": {},
   "outputs": [
    {
     "data": {
      "text/plain": [
       "[('-DOCSTART-', 'O'),\n",
       " ('Pierre', 'NNP'),\n",
       " ('Vinken', 'NNP'),\n",
       " (',', ','),\n",
       " ('61', 'CD')]"
      ]
     },
     "execution_count": 8,
     "metadata": {},
     "output_type": "execute_result"
    }
   ],
   "source": [
    "tag_word_tupl = list(word_with_tag[[\"tag\", \"word\"]].itertuples(index=False, name=None))\n",
    "word_tag_tupl = list(word_with_tag[[\"word\", \"tag\"]].itertuples(index=False, name=None))\n",
    "word_tag_tupl[:5]"
   ]
  },
  {
   "cell_type": "markdown",
   "metadata": {},
   "source": [
    "A bit of data visualization"
   ]
  },
  {
   "cell_type": "code",
   "execution_count": 9,
   "metadata": {},
   "outputs": [
    {
     "name": "stdout",
     "output_type": "stream",
     "text": [
      "<class 'pandas.core.frame.DataFrame'>\n",
      "RangeIndex: 696475 entries, 0 to 696474\n",
      "Data columns (total 2 columns):\n",
      " #   Column  Non-Null Count   Dtype \n",
      "---  ------  --------------   ----- \n",
      " 0   id      696475 non-null  int64 \n",
      " 1   word    696475 non-null  object\n",
      "dtypes: int64(1), object(1)\n",
      "memory usage: 10.6+ MB\n"
     ]
    }
   ],
   "source": [
    "X.info()"
   ]
  },
  {
   "cell_type": "code",
   "execution_count": 10,
   "metadata": {},
   "outputs": [
    {
     "name": "stdout",
     "output_type": "stream",
     "text": [
      "there are 37505 unique words\n",
      "False\n"
     ]
    }
   ],
   "source": [
    "print(f\"there are {X['word'].nunique()} unique words\")\n",
    "print(\"*\" in list(X[\"word\"].unique()))"
   ]
  },
  {
   "cell_type": "code",
   "execution_count": 11,
   "metadata": {},
   "outputs": [
    {
     "name": "stdout",
     "output_type": "stream",
     "text": [
      "696475\n"
     ]
    },
    {
     "data": {
      "text/html": [
       "<div>\n",
       "<style scoped>\n",
       "    .dataframe tbody tr th:only-of-type {\n",
       "        vertical-align: middle;\n",
       "    }\n",
       "\n",
       "    .dataframe tbody tr th {\n",
       "        vertical-align: top;\n",
       "    }\n",
       "\n",
       "    .dataframe thead th {\n",
       "        text-align: right;\n",
       "    }\n",
       "</style>\n",
       "<table border=\"1\" class=\"dataframe\">\n",
       "  <thead>\n",
       "    <tr style=\"text-align: right;\">\n",
       "      <th></th>\n",
       "      <th>word</th>\n",
       "      <th>count</th>\n",
       "    </tr>\n",
       "  </thead>\n",
       "  <tbody>\n",
       "    <tr>\n",
       "      <th>0</th>\n",
       "      <td>,</td>\n",
       "      <td>35472</td>\n",
       "    </tr>\n",
       "    <tr>\n",
       "      <th>1</th>\n",
       "      <td>the</td>\n",
       "      <td>30079</td>\n",
       "    </tr>\n",
       "    <tr>\n",
       "      <th>2</th>\n",
       "      <td>.</td>\n",
       "      <td>28510</td>\n",
       "    </tr>\n",
       "    <tr>\n",
       "      <th>3</th>\n",
       "      <td>of</td>\n",
       "      <td>16761</td>\n",
       "    </tr>\n",
       "    <tr>\n",
       "      <th>4</th>\n",
       "      <td>to</td>\n",
       "      <td>16130</td>\n",
       "    </tr>\n",
       "    <tr>\n",
       "      <th>...</th>\n",
       "      <td>...</td>\n",
       "      <td>...</td>\n",
       "    </tr>\n",
       "    <tr>\n",
       "      <th>37500</th>\n",
       "      <td>zillion</td>\n",
       "      <td>1</td>\n",
       "    </tr>\n",
       "    <tr>\n",
       "      <th>37501</th>\n",
       "      <td>zinc-strip</td>\n",
       "      <td>1</td>\n",
       "    </tr>\n",
       "    <tr>\n",
       "      <th>37502</th>\n",
       "      <td>zirconate</td>\n",
       "      <td>1</td>\n",
       "    </tr>\n",
       "    <tr>\n",
       "      <th>37503</th>\n",
       "      <td>zlotys</td>\n",
       "      <td>1</td>\n",
       "    </tr>\n",
       "    <tr>\n",
       "      <th>37504</th>\n",
       "      <td>zombies</td>\n",
       "      <td>1</td>\n",
       "    </tr>\n",
       "  </tbody>\n",
       "</table>\n",
       "<p>37505 rows × 2 columns</p>\n",
       "</div>"
      ],
      "text/plain": [
       "             word  count\n",
       "0               ,  35472\n",
       "1             the  30079\n",
       "2               .  28510\n",
       "3              of  16761\n",
       "4              to  16130\n",
       "...           ...    ...\n",
       "37500     zillion      1\n",
       "37501  zinc-strip      1\n",
       "37502   zirconate      1\n",
       "37503      zlotys      1\n",
       "37504     zombies      1\n",
       "\n",
       "[37505 rows x 2 columns]"
      ]
     },
     "execution_count": 11,
     "metadata": {},
     "output_type": "execute_result"
    }
   ],
   "source": [
    "word_count_df = X.groupby(by=\"word\", as_index=False).count().sort_values(\n",
    "    by=\"id\", ascending=False\n",
    ").rename(columns={\"id\": \"count\"}).reset_index(drop=True)\n",
    "print(word_count_df[\"count\"].sum())\n",
    "word_count_df"
   ]
  },
  {
   "cell_type": "code",
   "execution_count": 12,
   "metadata": {},
   "outputs": [
    {
     "data": {
      "image/png": "[encoded data removed]",
      "text/plain": [
       "<Figure size 1000x600 with 1 Axes>"
      ]
     },
     "metadata": {},
     "output_type": "display_data"
    }
   ],
   "source": [
    "top_10_words = word_count_df.head(10)\n",
    "\n",
    "# Plotting\n",
    "plt.figure(figsize=(10, 6))\n",
    "plt.bar(top_10_words[\"word\"], top_10_words[\"count\"], color=\"skyblue\")\n",
    "plt.xlabel(\"Words\")\n",
    "plt.ylabel(\"Frequency\")\n",
    "plt.title(\"Top 10 Most Frequent Words\")\n",
    "plt.xticks(rotation=45)\n",
    "plt.show()"
   ]
  },
  {
   "cell_type": "code",
   "execution_count": 13,
   "metadata": {},
   "outputs": [],
   "source": [
    "penn_treebank_tags = [\n",
    "    \"CC\",   # Coordinating conjunction\n",
    "    \"CD\",   # Cardinal number\n",
    "    \"DT\",   # Determiner\n",
    "    \"EX\",   # Existential there\n",
    "    \"FW\",   # Foreign word\n",
    "    \"IN\",   # Preposition or subordinating conjunction\n",
    "    \"JJ\",   # Adjective\n",
    "    \"JJR\",  # Adjective, comparative\n",
    "    \"JJS\",  # Adjective, superlative\n",
    "    \"LS\",   # List item marker\n",
    "    \"MD\",   # Modal\n",
    "    \"NN\",   # Noun, singular or mass\n",
    "    \"NNS\",  # Noun, plural\n",
    "    \"NNP\",  # Proper noun, singular\n",
    "    \"NNPS\", # Proper noun, plural\n",
    "    \"PDT\",  # Predeterminer\n",
    "    \"POS\",  # Possessive ending\n",
    "    \"PRP\",  # Personal pronoun\n",
    "    \"PRP$\", # Possessive pronoun\n",
    "    \"RB\",   # Adverb\n",
    "    \"RBR\",  # Adverb, comparative\n",
    "    \"RBS\",  # Adverb, superlative\n",
    "    \"RP\",   # Particle\n",
    "    \"SYM\",  # Symbol\n",
    "    \"TO\",   # to\n",
    "    \"UH\",   # Interjection\n",
    "    \"VB\",   # Verb, base form\n",
    "    \"VBD\",  # Verb, past tense\n",
    "    \"VBG\",  # Verb, gerund or present participle\n",
    "    \"VBN\",  # Verb, past participle\n",
    "    \"VBP\",  # Verb, non-3rd person singular present\n",
    "    \"VBZ\",  # Verb, 3rd person singular present\n",
    "    \"WDT\",  # Wh-determiner\n",
    "    \"WP\",   # Wh-pronoun\n",
    "    \"WP$\",  # Possessive wh-pronoun\n",
    "    \"WRB\"   # Wh-adverb\n",
    "]\n",
    "outlier_tags = [item for item in list(Y['tag'].unique()) if item not in penn_treebank_tags]"
   ]
  },
  {
   "cell_type": "code",
   "execution_count": 14,
   "metadata": {},
   "outputs": [
    {
     "name": "stderr",
     "output_type": "stream",
     "text": [
      "/tmp/ipykernel_267/1930418974.py:1: DeprecationWarning: DataFrameGroupBy.apply operated on the grouping columns. This behavior is deprecated, and in a future version of pandas the grouping columns will be excluded from the operation. Either pass `include_groups=False` to exclude the groupings or explicitly select the grouping columns after groupby to silence this warning.\n",
      "  grouped = word_with_tag.groupby(by=[\"tag\"]).apply(lambda x: x[\"word\"].value_counts())\n"
     ]
    },
    {
     "data": {
      "text/plain": [
       "tag  word    \n",
       "#    #             91\n",
       "$    $           4976\n",
       "     C$            54\n",
       "     US$           51\n",
       "     A$            35\n",
       "                 ... \n",
       "WRB  WHY            2\n",
       "     wherever       1\n",
       "``   ``          5148\n",
       "     `             80\n",
       "     non-``         1\n",
       "Name: count, Length: 43418, dtype: int64"
      ]
     },
     "execution_count": 14,
     "metadata": {},
     "output_type": "execute_result"
    }
   ],
   "source": [
    "grouped = word_with_tag.groupby(by=[\"tag\"]).apply(lambda x: x[\"word\"].value_counts())\n",
    "grouped"
   ]
  },
  {
   "cell_type": "code",
   "execution_count": 15,
   "metadata": {},
   "outputs": [
    {
     "data": {
      "text/plain": [
       "tag\n",
       "NN     96805\n",
       "IN     72097\n",
       "NNP    67431\n",
       "DT     59928\n",
       "JJ     45356\n",
       "Name: count, dtype: int64"
      ]
     },
     "execution_count": 15,
     "metadata": {},
     "output_type": "execute_result"
    }
   ],
   "source": [
    "tag_totals = word_with_tag[\"tag\"].value_counts()\n",
    "tag_totals[:5]"
   ]
  },
  {
   "cell_type": "code",
   "execution_count": 16,
   "metadata": {},
   "outputs": [
    {
     "name": "stdout",
     "output_type": "stream",
     "text": [
      "Normalized data for tag: O\n",
      "{'-DOCSTART-': 1.0}\n",
      "Normalized data for tag: ,\n",
      "{',': 0.9999154334038055, 'Wa': 2.8188865398167723e-05, 'an': 2.8188865398167723e-05, '2': 2.8188865398167723e-05}\n",
      "Normalized data for tag: .\n",
      "{'.': 0.9886604015674307, '?': 0.009605714880188647, '!': 0.001733883552380622}\n",
      "Normalized data for tag: ``\n",
      "{'``': 0.9845094664371773, '`': 0.015299292407726142, 'non-``': 0.00019124115509657678}\n",
      "Normalized data for tag: ''\n",
      "{\"''\": 0.9817825661116553, \"'\": 0.01821743388834476}\n",
      "Normalized data for tag: :\n",
      "{'--': 0.4314269850083287, ':': 0.2670738478622987, ';': 0.24736257634647418, '...': 0.04053303720155469, '-': 0.013603553581343698}\n",
      "Normalized data for tag: $\n",
      "{'$': 0.9709268292682927, 'C$': 0.01053658536585366, 'US$': 0.009951219512195122, 'A$': 0.006829268292682927, 'HK$': 0.0013658536585365853, 'NZ$': 0.0001951219512195122, 'C': 0.0001951219512195122}\n",
      "Normalized data for tag: (\n",
      "{'(': 0.8452497551420176, '{': 0.15475024485798236}\n",
      "Normalized data for tag: )\n",
      "{')': 0.8446601941747572, '}': 0.1553398058252427}\n",
      "Normalized data for tag: #\n",
      "{'#': 1.0}\n"
     ]
    },
    {
     "data": {
      "text/plain": [
       "tag  word\n",
       "#    #       1.000000\n",
       "$    $       0.970927\n",
       "     C$      0.010537\n",
       "     US$     0.009951\n",
       "     A$      0.006829\n",
       "Name: count, dtype: float64"
      ]
     },
     "execution_count": 16,
     "metadata": {},
     "output_type": "execute_result"
    }
   ],
   "source": [
    "normalized = grouped.groupby(level=0).apply(lambda x: x / tag_totals[x.name]).reset_index(level=0, drop=True)\n",
    "# print out words for tags that do not appear in \n",
    "for weird_tag in outlier_tags:\n",
    "  print(f\"Normalized data for tag: {weird_tag}\")\n",
    "  print(normalized.loc[weird_tag].to_dict())\n",
    "\n",
    "normalized.head()"
   ]
  },
  {
   "cell_type": "markdown",
   "metadata": {},
   "source": [
    "### Construct sentences from X_train ###"
   ]
  },
  {
   "cell_type": "code",
   "execution_count": 17,
   "metadata": {},
   "outputs": [],
   "source": [
    "# word_tag_tupl is a list of list of tuples.\n",
    "# NOTE: remove the rows containg the tag: O\n",
    "word_tag_tupl = [item for item in word_tag_tupl if item[0] != \"-DOCSTART-\"]\n",
    "word_tag_tupl = tnt.basic_sent_chop(word_tag_tupl, raw=False)"
   ]
  },
  {
   "cell_type": "code",
   "execution_count": 18,
   "metadata": {},
   "outputs": [
    {
     "data": {
      "text/plain": [
       "[[('61', 'CD'), ('years', 'NNS'), ('old', 'JJ'), (',', ',')]]"
      ]
     },
     "execution_count": 18,
     "metadata": {},
     "output_type": "execute_result"
    }
   ],
   "source": [
    "word_tag_tupl[1:2]"
   ]
  },
  {
   "cell_type": "markdown",
   "metadata": {},
   "source": [
    "### Emission probabilities ###\n",
    "This shows that the emission_matrix, or B probabilities, is very sparse"
   ]
  },
  {
   "cell_type": "code",
   "execution_count": 19,
   "metadata": {},
   "outputs": [
    {
     "data": {
      "text/html": [
       "<div>\n",
       "<style scoped>\n",
       "    .dataframe tbody tr th:only-of-type {\n",
       "        vertical-align: middle;\n",
       "    }\n",
       "\n",
       "    .dataframe tbody tr th {\n",
       "        vertical-align: top;\n",
       "    }\n",
       "\n",
       "    .dataframe thead th {\n",
       "        text-align: right;\n",
       "    }\n",
       "</style>\n",
       "<table border=\"1\" class=\"dataframe\">\n",
       "  <thead>\n",
       "    <tr style=\"text-align: right;\">\n",
       "      <th>word</th>\n",
       "      <th>!</th>\n",
       "      <th>#</th>\n",
       "      <th>$</th>\n",
       "      <th>%</th>\n",
       "      <th>&amp;</th>\n",
       "      <th>'</th>\n",
       "      <th>''</th>\n",
       "      <th>'30s</th>\n",
       "      <th>'40s</th>\n",
       "      <th>'50s</th>\n",
       "      <th>...</th>\n",
       "      <th>zlotys</th>\n",
       "      <th>zombies</th>\n",
       "      <th>zone</th>\n",
       "      <th>zones</th>\n",
       "      <th>zoning</th>\n",
       "      <th>zoo</th>\n",
       "      <th>zoology</th>\n",
       "      <th>zoomed</th>\n",
       "      <th>{</th>\n",
       "      <th>}</th>\n",
       "    </tr>\n",
       "    <tr>\n",
       "      <th>tag</th>\n",
       "      <th></th>\n",
       "      <th></th>\n",
       "      <th></th>\n",
       "      <th></th>\n",
       "      <th></th>\n",
       "      <th></th>\n",
       "      <th></th>\n",
       "      <th></th>\n",
       "      <th></th>\n",
       "      <th></th>\n",
       "      <th></th>\n",
       "      <th></th>\n",
       "      <th></th>\n",
       "      <th></th>\n",
       "      <th></th>\n",
       "      <th></th>\n",
       "      <th></th>\n",
       "      <th></th>\n",
       "      <th></th>\n",
       "      <th></th>\n",
       "      <th></th>\n",
       "    </tr>\n",
       "  </thead>\n",
       "  <tbody>\n",
       "    <tr>\n",
       "      <th>#</th>\n",
       "      <td>0.0</td>\n",
       "      <td>1.0</td>\n",
       "      <td>0.000000</td>\n",
       "      <td>0.0</td>\n",
       "      <td>0.0</td>\n",
       "      <td>0.000000</td>\n",
       "      <td>0.000000</td>\n",
       "      <td>0.0</td>\n",
       "      <td>0.0</td>\n",
       "      <td>0.0</td>\n",
       "      <td>...</td>\n",
       "      <td>0.0</td>\n",
       "      <td>0.0</td>\n",
       "      <td>0.0</td>\n",
       "      <td>0.0</td>\n",
       "      <td>0.0</td>\n",
       "      <td>0.0</td>\n",
       "      <td>0.0</td>\n",
       "      <td>0.0</td>\n",
       "      <td>0.00000</td>\n",
       "      <td>0.00000</td>\n",
       "    </tr>\n",
       "    <tr>\n",
       "      <th>$</th>\n",
       "      <td>0.0</td>\n",
       "      <td>0.0</td>\n",
       "      <td>0.970927</td>\n",
       "      <td>0.0</td>\n",
       "      <td>0.0</td>\n",
       "      <td>0.000000</td>\n",
       "      <td>0.000000</td>\n",
       "      <td>0.0</td>\n",
       "      <td>0.0</td>\n",
       "      <td>0.0</td>\n",
       "      <td>...</td>\n",
       "      <td>0.0</td>\n",
       "      <td>0.0</td>\n",
       "      <td>0.0</td>\n",
       "      <td>0.0</td>\n",
       "      <td>0.0</td>\n",
       "      <td>0.0</td>\n",
       "      <td>0.0</td>\n",
       "      <td>0.0</td>\n",
       "      <td>0.00000</td>\n",
       "      <td>0.00000</td>\n",
       "    </tr>\n",
       "    <tr>\n",
       "      <th>''</th>\n",
       "      <td>0.0</td>\n",
       "      <td>0.0</td>\n",
       "      <td>0.000000</td>\n",
       "      <td>0.0</td>\n",
       "      <td>0.0</td>\n",
       "      <td>0.018217</td>\n",
       "      <td>0.981783</td>\n",
       "      <td>0.0</td>\n",
       "      <td>0.0</td>\n",
       "      <td>0.0</td>\n",
       "      <td>...</td>\n",
       "      <td>0.0</td>\n",
       "      <td>0.0</td>\n",
       "      <td>0.0</td>\n",
       "      <td>0.0</td>\n",
       "      <td>0.0</td>\n",
       "      <td>0.0</td>\n",
       "      <td>0.0</td>\n",
       "      <td>0.0</td>\n",
       "      <td>0.00000</td>\n",
       "      <td>0.00000</td>\n",
       "    </tr>\n",
       "    <tr>\n",
       "      <th>(</th>\n",
       "      <td>0.0</td>\n",
       "      <td>0.0</td>\n",
       "      <td>0.000000</td>\n",
       "      <td>0.0</td>\n",
       "      <td>0.0</td>\n",
       "      <td>0.000000</td>\n",
       "      <td>0.000000</td>\n",
       "      <td>0.0</td>\n",
       "      <td>0.0</td>\n",
       "      <td>0.0</td>\n",
       "      <td>...</td>\n",
       "      <td>0.0</td>\n",
       "      <td>0.0</td>\n",
       "      <td>0.0</td>\n",
       "      <td>0.0</td>\n",
       "      <td>0.0</td>\n",
       "      <td>0.0</td>\n",
       "      <td>0.0</td>\n",
       "      <td>0.0</td>\n",
       "      <td>0.15475</td>\n",
       "      <td>0.00000</td>\n",
       "    </tr>\n",
       "    <tr>\n",
       "      <th>)</th>\n",
       "      <td>0.0</td>\n",
       "      <td>0.0</td>\n",
       "      <td>0.000000</td>\n",
       "      <td>0.0</td>\n",
       "      <td>0.0</td>\n",
       "      <td>0.000000</td>\n",
       "      <td>0.000000</td>\n",
       "      <td>0.0</td>\n",
       "      <td>0.0</td>\n",
       "      <td>0.0</td>\n",
       "      <td>...</td>\n",
       "      <td>0.0</td>\n",
       "      <td>0.0</td>\n",
       "      <td>0.0</td>\n",
       "      <td>0.0</td>\n",
       "      <td>0.0</td>\n",
       "      <td>0.0</td>\n",
       "      <td>0.0</td>\n",
       "      <td>0.0</td>\n",
       "      <td>0.00000</td>\n",
       "      <td>0.15534</td>\n",
       "    </tr>\n",
       "  </tbody>\n",
       "</table>\n",
       "<p>5 rows × 37505 columns</p>\n",
       "</div>"
      ],
      "text/plain": [
       "word    !    #         $    %    &         '        ''  '30s  '40s  '50s  ...  \\\n",
       "tag                                                                       ...   \n",
       "#     0.0  1.0  0.000000  0.0  0.0  0.000000  0.000000   0.0   0.0   0.0  ...   \n",
       "$     0.0  0.0  0.970927  0.0  0.0  0.000000  0.000000   0.0   0.0   0.0  ...   \n",
       "''    0.0  0.0  0.000000  0.0  0.0  0.018217  0.981783   0.0   0.0   0.0  ...   \n",
       "(     0.0  0.0  0.000000  0.0  0.0  0.000000  0.000000   0.0   0.0   0.0  ...   \n",
       ")     0.0  0.0  0.000000  0.0  0.0  0.000000  0.000000   0.0   0.0   0.0  ...   \n",
       "\n",
       "word  zlotys  zombies  zone  zones  zoning  zoo  zoology  zoomed        {  \\\n",
       "tag                                                                         \n",
       "#        0.0      0.0   0.0    0.0     0.0  0.0      0.0     0.0  0.00000   \n",
       "$        0.0      0.0   0.0    0.0     0.0  0.0      0.0     0.0  0.00000   \n",
       "''       0.0      0.0   0.0    0.0     0.0  0.0      0.0     0.0  0.00000   \n",
       "(        0.0      0.0   0.0    0.0     0.0  0.0      0.0     0.0  0.15475   \n",
       ")        0.0      0.0   0.0    0.0     0.0  0.0      0.0     0.0  0.00000   \n",
       "\n",
       "word        }  \n",
       "tag            \n",
       "#     0.00000  \n",
       "$     0.00000  \n",
       "''    0.00000  \n",
       "(     0.00000  \n",
       ")     0.15534  \n",
       "\n",
       "[5 rows x 37505 columns]"
      ]
     },
     "execution_count": 19,
     "metadata": {},
     "output_type": "execute_result"
    }
   ],
   "source": [
    "emission_mx = normalized.unstack(level=1).fillna(0)\n",
    "emission_mx.head()"
   ]
  },
  {
   "cell_type": "code",
   "execution_count": 20,
   "metadata": {},
   "outputs": [],
   "source": [
    "emission_probs = emission_mx.to_dict()"
   ]
  },
  {
   "cell_type": "code",
   "execution_count": 21,
   "metadata": {},
   "outputs": [
    {
     "data": {
      "text/plain": [
       "0.01524311476256911"
      ]
     },
     "execution_count": 21,
     "metadata": {},
     "output_type": "execute_result"
    }
   ],
   "source": [
    "emission_probs['buy']['VB']"
   ]
  },
  {
   "cell_type": "code",
   "execution_count": 22,
   "metadata": {},
   "outputs": [],
   "source": [
    "hi = word_with_tag.groupby(by=\"word\")['tag'].unique()\n",
    "word_tag_dict = {k: list(v) for k, v in hi.to_dict().items()}"
   ]
  },
  {
   "cell_type": "code",
   "execution_count": 23,
   "metadata": {},
   "outputs": [
    {
     "data": {
      "text/plain": [
       "['NN', 'VB', 'VBP']"
      ]
     },
     "execution_count": 23,
     "metadata": {},
     "output_type": "execute_result"
    }
   ],
   "source": [
    "word_tag_dict['work']"
   ]
  },
  {
   "cell_type": "markdown",
   "metadata": {},
   "source": [
    "### Transition probabilities ###"
   ]
  },
  {
   "cell_type": "code",
   "execution_count": 24,
   "metadata": {},
   "outputs": [],
   "source": [
    "def process_ngrams(sentences):\n",
    "    # Initialize counters\n",
    "    unigram_counts = defaultdict(int)\n",
    "    bigram_counts = defaultdict(int)\n",
    "    trigram_counts = defaultdict(int)\n",
    "\n",
    "    # Process the sentences\n",
    "    for sentence in sentences:\n",
    "        tags = [tag for _, tag in sentence]\n",
    "\n",
    "        # Add start and end tags\n",
    "        padded_tags = [\"START\", \"START\"] + tags + [\"END\"]\n",
    "\n",
    "        # Count unigrams\n",
    "        for tag in padded_tags:\n",
    "            unigram_counts[tag] += 1\n",
    "\n",
    "        # Count bigrams\n",
    "        for bigram in zip(padded_tags, padded_tags[1:]):\n",
    "            bigram_counts[bigram] += 1\n",
    "\n",
    "        # Count trigrams\n",
    "        for trigram in zip(padded_tags, padded_tags[1:], padded_tags[2:]):\n",
    "            trigram_counts[trigram] += 1\n",
    "\n",
    "    return unigram_counts, bigram_counts, trigram_counts\n"
   ]
  },
  {
   "cell_type": "code",
   "execution_count": 25,
   "metadata": {},
   "outputs": [],
   "source": [
    "# Calculate probabilities: q(s|u, v) = c(u, v, s) / c(u, v)\n",
    "def calculate_probabilities(unigram_counts, bigram_counts, trigram_counts):\n",
    "    bigram_probabilities = {}\n",
    "    trigram_probabilities = {}\n",
    "\n",
    "    # Calculate bigram probabilities\n",
    "    for (t1, t2), count in bigram_counts.items():\n",
    "        bigram_probabilities[(t1, t2)] = count / unigram_counts[t1]\n",
    "\n",
    "    # Calculate trigram probabilities\n",
    "    for (t1, t2, t3), count in trigram_counts.items():\n",
    "        trigram_probabilities[(t1, t2, t3)] = count / bigram_counts[(t1, t2)]\n",
    "\n",
    "    return bigram_probabilities, trigram_probabilities\n",
    "\n",
    "unigram_counts, bigram_counts, trigram_counts = process_ngrams(word_tag_tupl)\n",
    "bigram_probabilities, trigram_probabilities = calculate_probabilities(\n",
    "    unigram_counts, bigram_counts, trigram_counts\n",
    ")"
   ]
  },
  {
   "cell_type": "code",
   "execution_count": 26,
   "metadata": {},
   "outputs": [],
   "source": [
    "def deleted_interpolation(trigram_counts, bigram_counts, unigram_counts):\n",
    "    lambda1 = lambda2 = lambda3 = 0\n",
    "    \n",
    "    N = max(unigram_counts.values())\n",
    "\n",
    "    for (t1, t2, t3), count in trigram_counts.items():\n",
    "        if count > 0:\n",
    "            case1 = (count - 1) / (bigram_counts[(t1, t2)] - 1) if bigram_counts[(t1, t2)] > 1 else 0\n",
    "            case2 = (bigram_counts[(t2, t3)] - 1) / (unigram_counts[t2] - 1) if unigram_counts[t2] > 1 else 0\n",
    "            case3 = (unigram_counts[t3] - 1) / (N - 1) if N > 1 else 0\n",
    "\n",
    "            max_case = max(case1, case2, case3)\n",
    "\n",
    "            if max_case == case1:\n",
    "                lambda3 += count\n",
    "            elif max_case == case2:\n",
    "                lambda2 += count\n",
    "            else:\n",
    "                lambda1 += count\n",
    "\n",
    "    total = lambda1 + lambda2 + lambda3\n",
    "    lambda1 /= total\n",
    "    lambda2 /= total\n",
    "    lambda3 /= total\n",
    "\n",
    "    return lambda1, lambda2, lambda3"
   ]
  },
  {
   "cell_type": "code",
   "execution_count": 27,
   "metadata": {},
   "outputs": [
    {
     "name": "stdout",
     "output_type": "stream",
     "text": [
      "l1: 0.7745290012997155, l2: 0.03474862292055407, l3: 0.1907223757797305\n"
     ]
    }
   ],
   "source": [
    "lambda1, lambda2, lambda3 = deleted_interpolation(\n",
    "    trigram_counts, bigram_counts, unigram_counts\n",
    ")\n",
    "print(f\"l1: {lambda1}, l2: {lambda2}, l3: {lambda3}\")"
   ]
  },
  {
   "cell_type": "code",
   "execution_count": 28,
   "metadata": {},
   "outputs": [
    {
     "name": "stdout",
     "output_type": "stream",
     "text": [
      "First 5 Bigram Probabilities:\n",
      "P(START|START) = 0.5000\n",
      "P(NNP|START) = 0.0771\n",
      "P(NNP|NNP) = 0.3772\n",
      "P(,|NNP) = 0.1381\n",
      "P(END|,) = 0.9999\n",
      "\n",
      "First 5 Trigram Probabilities:\n",
      "P(NNP|START, START) = 0.1542\n",
      "P(NNP|START, NNP) = 0.5138\n",
      "P(,|NNP, NNP) = 0.2014\n",
      "P(END|NNP, ,) = 0.9999\n",
      "P(CD|START, START) = 0.0161\n"
     ]
    }
   ],
   "source": [
    "from itertools import islice\n",
    "\n",
    "\n",
    "print(\"First 5 Bigram Probabilities:\")\n",
    "for (t1, t2), prob in islice(bigram_probabilities.items(), 5):\n",
    "    print(f\"P({t2}|{t1}) = {prob:.4f}\")\n",
    "\n",
    "print(\"\\nFirst 5 Trigram Probabilities:\")\n",
    "for (t1, t2, t3), prob in islice(trigram_probabilities.items(), 5):\n",
    "    print(f\"P({t3}|{t1}, {t2}) = {prob:.4f}\")"
   ]
  },
  {
   "cell_type": "markdown",
   "metadata": {},
   "source": [
    "### Viterbi ###"
   ]
  },
  {
   "cell_type": "code",
   "execution_count": 29,
   "metadata": {},
   "outputs": [
    {
     "name": "stdout",
     "output_type": "stream",
     "text": [
      "['O', 'NNP', ',', 'CD', 'NNS', 'JJ', 'MD', 'VB', 'DT', 'NN', 'IN', '.', 'VBZ', 'VBG', 'CC', 'VBD', 'VBN', 'RB', 'TO', 'PRP', 'RBR', 'WDT', 'VBP', 'RP', 'PRP$', 'JJS', 'POS', '``', 'EX', \"''\", 'WP', ':', 'JJR', 'WRB', '$', 'NNPS', 'WP$', '(', ')', 'PDT', 'RBS', 'FW', 'UH', 'SYM', 'LS', '#', 'START', 'UNK']\n"
     ]
    }
   ],
   "source": [
    "# Assuming PTB_TAGS and TAG_TO_IDX have been defined as in your code\n",
    "PTB_TAGS = list(Y[\"tag\"].unique())\n",
    "PTB_TAGS.append(\"START\")\n",
    "PTB_TAGS.append(\"UNK\")\n",
    "print(PTB_TAGS)\n",
    "\n",
    "NUM_TAGS = len(PTB_TAGS)\n",
    "TAG_TO_IDX = {tag: idx for idx, tag in enumerate(PTB_TAGS)}\n",
    "\n",
    "TOTAL_OCCURENCES = len(X)\n",
    "def viterbi(\n",
    "    sentence,\n",
    "    unigram_counts,\n",
    "    bigram_probabilities,\n",
    "    trigram_probabilities,\n",
    "    emission_probs,\n",
    "    word_tag_dict,\n",
    "    lambda1,\n",
    "    lambda2,\n",
    "    lambda3,\n",
    "):\n",
    "    T = len(sentence)\n",
    "    # Initialize trellis and backpointers\n",
    "    trellis = np.full((T + 1, NUM_TAGS, NUM_TAGS), -np.inf)\n",
    "    backpointers = np.zeros((T + 1, NUM_TAGS, NUM_TAGS), dtype=int)\n",
    "\n",
    "    # Initialization: Set π(0, START, START) = 0 (in log space)\n",
    "    start_idx = TAG_TO_IDX[\"START\"]\n",
    "    trellis[0, start_idx, start_idx] = 0\n",
    "\n",
    "    # Fill in the rest of the trellis\n",
    "    for t in range(1, T + 1):\n",
    "        word = sentence[t - 1]\n",
    "        is_unknown = word not in emission_probs\n",
    "        if is_unknown:\n",
    "            #print(f\"Word '{word}' not found in training corpus. Treating as UNK.\")\n",
    "            pass\n",
    "        for u in range(NUM_TAGS):\n",
    "            #  assigns all probability mass to the 'UNK' tag for unknown words.\n",
    "            if is_unknown:\n",
    "                v = TAG_TO_IDX['UNK']\n",
    "                max_log_prob = -np.inf\n",
    "                max_w = -1\n",
    "                for w in range(NUM_TAGS):\n",
    "                    if trellis[t - 1, w, u] > max_log_prob:\n",
    "                        max_log_prob = trellis[t - 1, w, u]\n",
    "                        max_w = w \n",
    "                trellis[t, u, v] = max_log_prob\n",
    "                backpointers[t, u, v] = max_w\n",
    "            else:\n",
    "                for cur_tag in word_tag_dict[word]:\n",
    "                    max_log_prob = -np.inf\n",
    "                    max_w = -1\n",
    "                    v = TAG_TO_IDX[cur_tag]\n",
    "                    #print(f\"\\nCurrent word: {word}, Current tag: {cur_tag}, v (TAG_TO_IDX): {v}\")\n",
    "                    for w in range(NUM_TAGS):\n",
    "                        trans_prob = (\n",
    "                            lambda1\n",
    "                            * trigram_probabilities.get(\n",
    "                                (PTB_TAGS[w], PTB_TAGS[u], cur_tag), 0\n",
    "                            )\n",
    "                            + lambda2\n",
    "                            * bigram_probabilities.get((PTB_TAGS[u], cur_tag), 0)\n",
    "                            + lambda3\n",
    "                            * (unigram_counts.get((cur_tag), 0) / TOTAL_OCCURENCES)\n",
    "                        )\n",
    "                        emis_prob = emission_probs[word][cur_tag]\n",
    "                        log_prob = trellis[t - 1, w, u] + np.log(trans_prob) + np.log(emis_prob)\n",
    "                        #print(f\"w: {w}, PTB_TAGS[w]: {PTB_TAGS[w]}, trans_prob: {trans_prob}, emis_prob: {emis_prob}, log_prob: {log_prob}\")\n",
    "\n",
    "                        if log_prob > max_log_prob:\n",
    "                            max_log_prob = log_prob\n",
    "                            max_w = w\n",
    "                            #print(f\"Updated max_log_prob: {max_log_prob}, max_tag: {PTB_TAGS[max_w]}\")\n",
    "\n",
    "                    trellis[t, u, v] = max_log_prob\n",
    "                    backpointers[t, u, v] = max_w\n",
    "\n",
    "    # Find the best path\n",
    "    best_path = []\n",
    "    max_log_prob = -np.inf\n",
    "    max_u, max_v = -1, -1\n",
    "    for u in range(NUM_TAGS):\n",
    "        for v in range(NUM_TAGS):\n",
    "            log_prob = trellis[T, u, v] + np.log(\n",
    "                trigram_probabilities.get((PTB_TAGS[u], PTB_TAGS[v], \"END\"), 1e-10)\n",
    "            )\n",
    "            if log_prob > max_log_prob:\n",
    "                max_log_prob = log_prob\n",
    "                max_u, max_v = u, v\n",
    "\n",
    "    # Backtrack to find the best path\n",
    "    best_path.append(PTB_TAGS[max_v])\n",
    "    best_path.append(PTB_TAGS[max_u])\n",
    "\n",
    "    for t in range(T, 2, -1):\n",
    "        max_w = backpointers[t, max_u, max_v]\n",
    "        best_path.append(PTB_TAGS[max_w])\n",
    "        max_u, max_v = max_w, max_u\n",
    "\n",
    "    # Reverse the best path to get it in the correct order\n",
    "    best_path = list(reversed(best_path))\n",
    "    return best_path"
   ]
  },
  {
   "cell_type": "markdown",
   "metadata": {},
   "source": [
    "### Testing ###"
   ]
  },
  {
   "cell_type": "code",
   "execution_count": 30,
   "metadata": {},
   "outputs": [
    {
     "data": {
      "text/html": [
       "<div>\n",
       "<style scoped>\n",
       "    .dataframe tbody tr th:only-of-type {\n",
       "        vertical-align: middle;\n",
       "    }\n",
       "\n",
       "    .dataframe tbody tr th {\n",
       "        vertical-align: top;\n",
       "    }\n",
       "\n",
       "    .dataframe thead th {\n",
       "        text-align: right;\n",
       "    }\n",
       "</style>\n",
       "<table border=\"1\" class=\"dataframe\">\n",
       "  <thead>\n",
       "    <tr style=\"text-align: right;\">\n",
       "      <th></th>\n",
       "      <th>id</th>\n",
       "      <th>word</th>\n",
       "    </tr>\n",
       "  </thead>\n",
       "  <tbody>\n",
       "    <tr>\n",
       "      <th>0</th>\n",
       "      <td>0</td>\n",
       "      <td>-DOCSTART-</td>\n",
       "    </tr>\n",
       "    <tr>\n",
       "      <th>1</th>\n",
       "      <td>1</td>\n",
       "      <td>Following</td>\n",
       "    </tr>\n",
       "    <tr>\n",
       "      <th>2</th>\n",
       "      <td>2</td>\n",
       "      <td>is</td>\n",
       "    </tr>\n",
       "    <tr>\n",
       "      <th>3</th>\n",
       "      <td>3</td>\n",
       "      <td>a</td>\n",
       "    </tr>\n",
       "    <tr>\n",
       "      <th>4</th>\n",
       "      <td>4</td>\n",
       "      <td>weekly</td>\n",
       "    </tr>\n",
       "  </tbody>\n",
       "</table>\n",
       "</div>"
      ],
      "text/plain": [
       "   id        word\n",
       "0   0  -DOCSTART-\n",
       "1   1   Following\n",
       "2   2          is\n",
       "3   3           a\n",
       "4   4      weekly"
      ]
     },
     "execution_count": 30,
     "metadata": {},
     "output_type": "execute_result"
    }
   ],
   "source": [
    "X_DEV = pd.read_csv(\"data/dev_x.csv\", na_filter=False)\n",
    "Y_DEV = pd.read_csv(\"data/dev_y.csv\")\n",
    "X_DEV.head()"
   ]
  },
  {
   "cell_type": "code",
   "execution_count": 31,
   "metadata": {},
   "outputs": [
    {
     "name": "stdout",
     "output_type": "stream",
     "text": [
      "[['Following', 'is', 'a', 'weekly', 'listing', 'of', 'unadited', 'net', 'asset', 'values', 'of', 'publicly', 'traded', 'investment', 'fund', 'shares', ','], ['reported', 'by', 'the', 'companies', 'as', 'of', 'Friday', \"'s\", 'close', '.'], ['Also', 'shown', 'is', 'the', 'closing', 'listed', 'market', 'price', 'or', 'a', 'dealer-to-dealer', 'asked', 'price', 'of', 'each', 'fund', \"'s\", 'shares', ','], ['with', 'the', 'percentage', 'of', 'difference', '.'], ['Closed', 'End', 'Bond', 'Funds', 'Flexible', 'Portfolio', 'Funds', 'Specialized', 'Equity', 'and', 'Convertible', 'Funds', 'a', '-', 'Ex-dividend', '.']]\n",
      "[['VBG', 'VBZ', 'DT', 'JJ', 'NN', 'IN', 'JJ', 'JJ', 'NN', 'NNS', 'IN', 'RB', 'JJ', 'NN', 'NN', 'NNS', ','], ['VBN', 'IN', 'DT', 'NNS', 'IN', 'IN', 'NNP', 'POS', 'NN', '.'], ['RB', 'VBN', 'VBZ', 'DT', 'NN', 'JJ', 'NN', 'NN', 'CC', 'DT', 'JJ', 'JJ', 'NN', 'IN', 'DT', 'NN', 'POS', 'NNS', ','], ['IN', 'DT', 'NN', 'IN', 'NN', '.'], ['NNP', 'NNP', 'NNP', 'NNPS', 'NNP', 'NNP', 'NNPS', 'NNP', 'NNP', 'CC', 'NNP', 'NNPS', 'SYM', ':', 'NN', '.']]\n"
     ]
    }
   ],
   "source": [
    "merged_dev = X_DEV.merge(Y_DEV, on=\"id\")[['word', 'tag']]\n",
    "merged_dev_no_docstart = merged_dev[merged_dev[\"tag\"] != \"O\"]\n",
    "data = tnt.basic_sent_chop(\n",
    "    list(merged_dev_no_docstart[[\"word\", \"tag\"]].itertuples(index=False, name=None)), raw=False\n",
    ")\n",
    "x_test = []\n",
    "y_test = []\n",
    "\n",
    "for sublist in data:\n",
    "    tokens = []\n",
    "    tags = []\n",
    "    for token, tag in sublist:\n",
    "        tokens.append(token)\n",
    "        tags.append(tag)\n",
    "    x_test.append(tokens)\n",
    "    y_test.append(tags)\n",
    "print(x_test[:5])\n",
    "print(y_test[:5])"
   ]
  },
  {
   "cell_type": "markdown",
   "metadata": {},
   "source": [
    "### Metric ###"
   ]
  },
  {
   "cell_type": "markdown",
   "metadata": {},
   "source": [
    "let's quickly check an example sequence"
   ]
  },
  {
   "cell_type": "code",
   "execution_count": 32,
   "metadata": {},
   "outputs": [
    {
     "data": {
      "text/plain": [
       "['NNS', 'MD', 'VB', '.']"
      ]
     },
     "execution_count": 32,
     "metadata": {},
     "output_type": "execute_result"
    }
   ],
   "source": [
    "def compute_accuracy(predicted_tags, expected_tags):\n",
    "    correct = sum(p == e for p, e in zip(predicted_tags, expected_tags))\n",
    "    total = len(expected_tags)\n",
    "    accuracy = correct / total\n",
    "    return accuracy\n",
    "\n",
    "\n",
    "sentence = \"Lawyers will benefit .\"\n",
    "my_lst = sentence.split(\" \")\n",
    "predicted = viterbi(\n",
    "    my_lst,\n",
    "    unigram_counts,\n",
    "    bigram_probabilities,\n",
    "    trigram_probabilities,\n",
    "    emission_probs,\n",
    "    word_tag_dict,\n",
    "    lambda1,\n",
    "    lambda2,\n",
    "    lambda3,\n",
    ")\n",
    "predicted"
   ]
  },
  {
   "cell_type": "markdown",
   "metadata": {},
   "source": [
    "do it for real this time..."
   ]
  },
  {
   "cell_type": "code",
   "execution_count": 33,
   "metadata": {},
   "outputs": [
    {
     "name": "stderr",
     "output_type": "stream",
     "text": [
      "Processing sentences:   0%|          | 1/22635 [00:00<1:52:18,  3.36it/s]"
     ]
    },
    {
     "name": "stdout",
     "output_type": "stream",
     "text": [
      "accuracy at sentence 0 is 0.9411764705882353\n"
     ]
    },
    {
     "name": "stderr",
     "output_type": "stream",
     "text": [
      "Processing sentences:   4%|▍         | 1001/22635 [03:27<1:26:05,  4.19it/s]"
     ]
    },
    {
     "name": "stdout",
     "output_type": "stream",
     "text": [
      "accuracy at sentence 1000 is 0.9310254621555633\n"
     ]
    },
    {
     "name": "stderr",
     "output_type": "stream",
     "text": [
      "Processing sentences:   9%|▉         | 2002/22635 [06:30<1:09:02,  4.98it/s]"
     ]
    },
    {
     "name": "stdout",
     "output_type": "stream",
     "text": [
      "accuracy at sentence 2000 is 0.9321768016978869\n"
     ]
    },
    {
     "name": "stderr",
     "output_type": "stream",
     "text": [
      "Processing sentences:  13%|█▎        | 3001/22635 [09:45<45:10,  7.24it/s]  "
     ]
    },
    {
     "name": "stdout",
     "output_type": "stream",
     "text": [
      "accuracy at sentence 3000 is 0.929343688137658\n"
     ]
    },
    {
     "name": "stderr",
     "output_type": "stream",
     "text": [
      "Processing sentences:  18%|█▊        | 4003/22635 [12:48<28:38, 10.84it/s]  "
     ]
    },
    {
     "name": "stdout",
     "output_type": "stream",
     "text": [
      "accuracy at sentence 4000 is 0.9270847754857169\n"
     ]
    },
    {
     "name": "stderr",
     "output_type": "stream",
     "text": [
      "Processing sentences:  22%|██▏       | 5001/22635 [16:01<57:42,  5.09it/s]  "
     ]
    },
    {
     "name": "stdout",
     "output_type": "stream",
     "text": [
      "accuracy at sentence 5000 is 0.9269582197332548\n"
     ]
    },
    {
     "name": "stderr",
     "output_type": "stream",
     "text": [
      "Processing sentences:  27%|██▋       | 6001/22635 [19:20<1:19:46,  3.48it/s]"
     ]
    },
    {
     "name": "stdout",
     "output_type": "stream",
     "text": [
      "accuracy at sentence 6000 is 0.9274267539299039\n"
     ]
    },
    {
     "name": "stderr",
     "output_type": "stream",
     "text": [
      "Processing sentences:  31%|███       | 7001/22635 [22:30<33:20,  7.81it/s]  "
     ]
    },
    {
     "name": "stdout",
     "output_type": "stream",
     "text": [
      "accuracy at sentence 7000 is 0.9277081527022412\n"
     ]
    },
    {
     "name": "stderr",
     "output_type": "stream",
     "text": [
      "Processing sentences:  35%|███▌      | 8002/22635 [25:42<53:01,  4.60it/s]  "
     ]
    },
    {
     "name": "stdout",
     "output_type": "stream",
     "text": [
      "accuracy at sentence 8000 is 0.9293874504851025\n"
     ]
    },
    {
     "name": "stderr",
     "output_type": "stream",
     "text": [
      "Processing sentences:  40%|███▉      | 9001/22635 [28:40<42:44,  5.32it/s]  "
     ]
    },
    {
     "name": "stdout",
     "output_type": "stream",
     "text": [
      "accuracy at sentence 9000 is 0.9288202270212679\n"
     ]
    },
    {
     "name": "stderr",
     "output_type": "stream",
     "text": [
      "Processing sentences:  44%|████▍     | 10002/22635 [31:38<46:11,  4.56it/s] "
     ]
    },
    {
     "name": "stdout",
     "output_type": "stream",
     "text": [
      "accuracy at sentence 10000 is 0.9290644598656622\n"
     ]
    },
    {
     "name": "stderr",
     "output_type": "stream",
     "text": [
      "Processing sentences:  49%|████▊     | 11001/22635 [34:53<1:08:57,  2.81it/s]"
     ]
    },
    {
     "name": "stdout",
     "output_type": "stream",
     "text": [
      "accuracy at sentence 11000 is 0.9291332614700533\n"
     ]
    },
    {
     "name": "stderr",
     "output_type": "stream",
     "text": [
      "Processing sentences:  53%|█████▎    | 12001/22635 [37:57<32:58,  5.38it/s]  "
     ]
    },
    {
     "name": "stdout",
     "output_type": "stream",
     "text": [
      "accuracy at sentence 12000 is 0.9292578236377508\n"
     ]
    },
    {
     "name": "stderr",
     "output_type": "stream",
     "text": [
      "Processing sentences:  57%|█████▋    | 13003/22635 [40:56<12:49, 12.52it/s]  "
     ]
    },
    {
     "name": "stdout",
     "output_type": "stream",
     "text": [
      "accuracy at sentence 13000 is 0.9296098697191375\n"
     ]
    },
    {
     "name": "stderr",
     "output_type": "stream",
     "text": [
      "Processing sentences:  62%|██████▏   | 14002/22635 [43:47<26:10,  5.50it/s]  "
     ]
    },
    {
     "name": "stdout",
     "output_type": "stream",
     "text": [
      "accuracy at sentence 14000 is 0.9293997180776085\n"
     ]
    },
    {
     "name": "stderr",
     "output_type": "stream",
     "text": [
      "Processing sentences:  66%|██████▋   | 15001/22635 [47:12<39:31,  3.22it/s]  "
     ]
    },
    {
     "name": "stdout",
     "output_type": "stream",
     "text": [
      "accuracy at sentence 15000 is 0.929305061136047\n"
     ]
    },
    {
     "name": "stderr",
     "output_type": "stream",
     "text": [
      "Processing sentences:  71%|███████   | 16001/22635 [50:21<24:37,  4.49it/s]  "
     ]
    },
    {
     "name": "stdout",
     "output_type": "stream",
     "text": [
      "accuracy at sentence 16000 is 0.9297595225151238\n"
     ]
    },
    {
     "name": "stderr",
     "output_type": "stream",
     "text": [
      "Processing sentences:  75%|███████▌  | 17001/22635 [53:22<31:00,  3.03it/s]"
     ]
    },
    {
     "name": "stdout",
     "output_type": "stream",
     "text": [
      "accuracy at sentence 17000 is 0.92967046115858\n"
     ]
    },
    {
     "name": "stderr",
     "output_type": "stream",
     "text": [
      "Processing sentences:  80%|███████▉  | 18002/22635 [56:29<12:13,  6.32it/s]"
     ]
    },
    {
     "name": "stdout",
     "output_type": "stream",
     "text": [
      "accuracy at sentence 18000 is 0.9298006107418717\n"
     ]
    },
    {
     "name": "stderr",
     "output_type": "stream",
     "text": [
      "Processing sentences:  84%|████████▍ | 19001/22635 [59:27<15:08,  4.00it/s]"
     ]
    },
    {
     "name": "stdout",
     "output_type": "stream",
     "text": [
      "accuracy at sentence 19000 is 0.930496460805982\n"
     ]
    },
    {
     "name": "stderr",
     "output_type": "stream",
     "text": [
      "Processing sentences:  88%|████████▊ | 20003/22635 [1:02:30<06:52,  6.38it/s]"
     ]
    },
    {
     "name": "stdout",
     "output_type": "stream",
     "text": [
      "accuracy at sentence 20000 is 0.9305428378515868\n"
     ]
    },
    {
     "name": "stderr",
     "output_type": "stream",
     "text": [
      "Processing sentences:  93%|█████████▎| 21001/22635 [1:04:52<06:30,  4.19it/s]"
     ]
    },
    {
     "name": "stdout",
     "output_type": "stream",
     "text": [
      "accuracy at sentence 21000 is 0.9304153636044148\n"
     ]
    },
    {
     "name": "stderr",
     "output_type": "stream",
     "text": [
      "Processing sentences:  97%|█████████▋| 22001/22635 [1:08:09<02:13,  4.76it/s]"
     ]
    },
    {
     "name": "stdout",
     "output_type": "stream",
     "text": [
      "accuracy at sentence 22000 is 0.930203863570835\n"
     ]
    },
    {
     "name": "stderr",
     "output_type": "stream",
     "text": [
      "Processing sentences: 100%|██████████| 22635/22635 [1:10:14<00:00,  5.37it/s]"
     ]
    },
    {
     "name": "stdout",
     "output_type": "stream",
     "text": [
      "Overall Accuracy is 0.9300170267852358\n"
     ]
    },
    {
     "name": "stderr",
     "output_type": "stream",
     "text": [
      "\n"
     ]
    }
   ],
   "source": [
    "def compute_overall_accuracy(\n",
    "    x_test,\n",
    "    y_test,\n",
    "    start=0,\n",
    "    end=None,\n",
    "    custom_tagger=None\n",
    "):\n",
    "    if end is None:\n",
    "        end = len(x_test)\n",
    "\n",
    "    total_correct = 0\n",
    "    total_tags = 0\n",
    "\n",
    "    for i in tqdm(range(start, end), desc=\"Processing sentences\"):\n",
    "        if custom_tagger:\n",
    "            predicted = custom_tagger.tag(x_test[i])\n",
    "            predicted = [tag for word, tag in predicted]\n",
    "        else:\n",
    "            predicted = viterbi(\n",
    "                x_test[i],\n",
    "                unigram_counts,\n",
    "                bigram_probabilities,\n",
    "                trigram_probabilities,\n",
    "                emission_probs,\n",
    "                word_tag_dict,\n",
    "                lambda1,\n",
    "                lambda2,\n",
    "                lambda3,\n",
    "            )\n",
    "        expected = y_test[i]\n",
    "        cur_sent_correct = sum(p == e for p, e in zip(predicted, expected))\n",
    "        total_correct += cur_sent_correct\n",
    "        total_tags += len(expected)\n",
    "        if i % 1000 == 0:\n",
    "            print(f\"accuracy at sentence {i} is {total_correct/total_tags}\")\n",
    "\n",
    "    overall_accuracy = total_correct / total_tags if total_tags > 0 else 0\n",
    "    return overall_accuracy\n",
    "\n",
    "\n",
    "overall_accuracy = compute_overall_accuracy(\n",
    "    x_test,\n",
    "    y_test,\n",
    ")\n",
    "print(f\"Overall Accuracy is {overall_accuracy}\")"
   ]
  },
  {
   "cell_type": "markdown",
   "metadata": {},
   "source": [
    "### Testing with nltk's TnT ###"
   ]
  },
  {
   "cell_type": "code",
   "execution_count": 34,
   "metadata": {},
   "outputs": [
    {
     "name": "stdout",
     "output_type": "stream",
     "text": [
      "l1: 0.16044299426835162, l2: 0.2920479133577331, l3: 0.5475090923739152\n"
     ]
    },
    {
     "data": {
      "text/plain": [
       "0.9405537459283387"
      ]
     },
     "execution_count": 34,
     "metadata": {},
     "output_type": "execute_result"
    }
   ],
   "source": [
    "tagger = tnt.TnT()\n",
    "tagger.train(word_tag_tupl)\n",
    "print(f\"l1: {tagger._l1}, l2: {tagger._l2}, l3: {tagger._l3}\")\n",
    "tagger.accuracy(data[197:323])"
   ]
  },
  {
   "cell_type": "code",
   "execution_count": 37,
   "metadata": {},
   "outputs": [
    {
     "name": "stderr",
     "output_type": "stream",
     "text": [
      "Processing sentences: 100%|██████████| 392/392 [00:19<00:00, 20.16it/s]"
     ]
    },
    {
     "name": "stdout",
     "output_type": "stream",
     "text": [
      "Overall Accuracy is 0.9334857142857143\n"
     ]
    },
    {
     "name": "stderr",
     "output_type": "stream",
     "text": [
      "\n"
     ]
    }
   ],
   "source": [
    "overall_accuracy = compute_overall_accuracy(x_test, y_test, start=45, end=437, custom_tagger=tagger)\n",
    "print(f\"Overall Accuracy is {overall_accuracy}\")"
   ]
  },
  {
   "cell_type": "code",
   "execution_count": 38,
   "metadata": {},
   "outputs": [
    {
     "data": {
      "text/plain": [
       "[('I', 'PRP'), ('go', 'VBP')]"
      ]
     },
     "execution_count": 38,
     "metadata": {},
     "output_type": "execute_result"
    }
   ],
   "source": [
    "sentence = \"I go\"\n",
    "tmp = sentence.split(\" \")\n",
    "tagger.tag(tmp)"
   ]
  },
  {
   "cell_type": "markdown",
   "metadata": {},
   "source": [
    "why is my viterbi version still inferior compared to TnT implementation (?!)\n",
    "\n",
    "NOTE: debugged this. it turns out that unigram count should be divided by len(X) to get the freq"
   ]
  },
  {
   "cell_type": "code",
   "execution_count": null,
   "metadata": {},
   "outputs": [],
   "source": [
    "i = 216\n",
    "for i in range(197,323):\n",
    "    predicted1 = viterbi(\n",
    "        x_test[i],\n",
    "        unigram_counts,\n",
    "        bigram_probabilities,\n",
    "        trigram_probabilities,\n",
    "        emission_probs,\n",
    "        word_tag_dict,\n",
    "        lambda1,\n",
    "        lambda2,\n",
    "        lambda3,\n",
    "    )\n",
    "    # print(predicted1)\n",
    "    predicted2 = tagger.tag(x_test[i])\n",
    "    predicted2 = [tag for word, tag in predicted2]\n",
    "    # print(predicted2)\n",
    "    expected = y_test[i]\n",
    "    # print(expected)\n",
    "    my_acc = compute_accuracy(predicted1, expected)\n",
    "    tnt_acc = compute_accuracy(predicted2, expected)\n",
    "    if tnt_acc > my_acc:\n",
    "        print(f\"sentence {i}: {x_test[i]}\")\n",
    "        print(predicted1)\n",
    "        print(predicted2)\n",
    "        print(expected)"
   ]
  },
  {
   "cell_type": "markdown",
   "metadata": {},
   "source": [
    "### exploring nltk's POS tagging capability ###"
   ]
  },
  {
   "cell_type": "code",
   "execution_count": 41,
   "metadata": {},
   "outputs": [
    {
     "name": "stderr",
     "output_type": "stream",
     "text": [
      "[nltk_data] Downloading package treebank to /home/studio-lab-\n",
      "[nltk_data]     user/nltk_data...\n",
      "[nltk_data]   Package treebank is already up-to-date!\n",
      "[nltk_data] Downloading package brown to /home/studio-lab-\n",
      "[nltk_data]     user/nltk_data...\n",
      "[nltk_data]   Package brown is already up-to-date!\n",
      "[nltk_data] Downloading package averaged_perceptron_tagger to\n",
      "[nltk_data]     /home/studio-lab-user/nltk_data...\n",
      "[nltk_data]   Unzipping taggers/averaged_perceptron_tagger.zip.\n"
     ]
    },
    {
     "data": {
      "text/plain": [
       "True"
      ]
     },
     "execution_count": 41,
     "metadata": {},
     "output_type": "execute_result"
    }
   ],
   "source": [
    "import nltk\n",
    "nltk.download('treebank')\n",
    "nltk.download(\"brown\")\n",
    "nltk.download('averaged_perceptron_tagger')"
   ]
  },
  {
   "cell_type": "code",
   "execution_count": 42,
   "metadata": {},
   "outputs": [
    {
     "name": "stdout",
     "output_type": "stream",
     "text": [
      "0.8859315589353612\n"
     ]
    }
   ],
   "source": [
    "from nltk.tag import PerceptronTagger\n",
    "from nltk.corpus import treebank\n",
    "from nltk.corpus import brown\n",
    "tagger = PerceptronTagger()\n",
    "gold_data = treebank.tagged_sents()[10:20]\n",
    "print(tagger.accuracy(gold_data))"
   ]
  },
  {
   "cell_type": "code",
   "execution_count": 43,
   "metadata": {},
   "outputs": [
    {
     "data": {
      "text/plain": [
       "<ConditionalFreqDist with 46 conditions>"
      ]
     },
     "execution_count": 43,
     "metadata": {},
     "output_type": "execute_result"
    }
   ],
   "source": [
    "wsj = nltk.corpus.treebank.tagged_words()\n",
    "cfd1 = nltk.ConditionalFreqDist(wsj)\n",
    "cfd2 = nltk.ConditionalFreqDist(tag_word_tupl)\n",
    "cfd2"
   ]
  },
  {
   "cell_type": "code",
   "execution_count": 44,
   "metadata": {},
   "outputs": [
    {
     "data": {
      "text/plain": [
       "FreqDist({'be': 2703, 'have': 786, 'make': 382, 'buy': 295, 'sell': 284, 'get': 279, 'take': 263, 'do': 232, 'pay': 198, 'yield': 171, ...})"
      ]
     },
     "execution_count": 44,
     "metadata": {},
     "output_type": "execute_result"
    }
   ],
   "source": [
    "cfd2[\"VB\"]"
   ]
  },
  {
   "cell_type": "code",
   "execution_count": 45,
   "metadata": {},
   "outputs": [
    {
     "data": {
      "text/plain": [
       "0.01524311476256911"
      ]
     },
     "execution_count": 45,
     "metadata": {},
     "output_type": "execute_result"
    }
   ],
   "source": [
    "cfd2[\"VB\"].freq(\"buy\")"
   ]
  },
  {
   "cell_type": "code",
   "execution_count": 46,
   "metadata": {},
   "outputs": [
    {
     "name": "stdout",
     "output_type": "stream",
     "text": [
      "('-DOCSTART-', 'Pierre', 'Vinken'): 0.5\n",
      "('Pierre', 'Vinken', ','): 1.0\n",
      "('Vinken', ',', '61'): 1.0\n",
      "(',', '61', 'years'): 0.5\n",
      "('61', 'years', 'old'): 1.0\n"
     ]
    }
   ],
   "source": [
    "trigram_counter = dict(nltk.FreqDist(nltk.trigrams(list(X[\"word\"].values))))\n",
    "bigram_counter = dict(nltk.FreqDist(nltk.bigrams(list(X[\"word\"].values))))\n",
    "transition_probs = {key: val / bigram_counter[key[:2]] for key, val in trigram_counter.items()}\n",
    "\n",
    "\n",
    "portion_to_display = list(transition_probs.items())[:5]\n",
    "for key, value in portion_to_display:\n",
    "    print(f\"{key}: {value}\")"
   ]
  },
  {
   "cell_type": "code",
   "execution_count": 47,
   "metadata": {},
   "outputs": [
    {
     "name": "stderr",
     "output_type": "stream",
     "text": [
      "/tmp/ipykernel_267/267290831.py:8: DeprecationWarning: \n",
      "  Function evaluate() has been deprecated.  Use accuracy(gold)\n",
      "  instead.\n",
      "  bigram_tagger.evaluate(test_sents)\n"
     ]
    },
    {
     "data": {
      "text/plain": [
       "[[('The', 'AT'), ('Fulton', 'NP-TL'), ('County', 'NN-TL'), ('Grand', 'JJ-TL'), ('Jury', 'NN-TL'), ('said', 'VBD'), ('Friday', 'NR'), ('an', 'AT'), ('investigation', 'NN'), ('of', 'IN'), (\"Atlanta's\", 'NP$'), ('recent', 'JJ'), ('primary', 'NN'), ('election', 'NN'), ('produced', 'VBD'), ('``', '``'), ('no', 'AT'), ('evidence', 'NN'), (\"''\", \"''\"), ('that', 'CS'), ('any', 'DTI'), ('irregularities', 'NNS'), ('took', 'VBD'), ('place', 'NN'), ('.', '.')], [('The', 'AT'), ('jury', 'NN'), ('further', 'RBR'), ('said', 'VBD'), ('in', 'IN'), ('term-end', 'NN'), ('presentments', 'NNS'), ('that', 'CS'), ('the', 'AT'), ('City', 'NN-TL'), ('Executive', 'JJ-TL'), ('Committee', 'NN-TL'), (',', ','), ('which', 'WDT'), ('had', 'HVD'), ('over-all', 'JJ'), ('charge', 'NN'), ('of', 'IN'), ('the', 'AT'), ('election', 'NN'), (',', ','), ('``', '``'), ('deserves', 'VBZ'), ('the', 'AT'), ('praise', 'NN'), ('and', 'CC'), ('thanks', 'NNS'), ('of', 'IN'), ('the', 'AT'), ('City', 'NN-TL'), ('of', 'IN-TL'), ('Atlanta', 'NP-TL'), (\"''\", \"''\"), ('for', 'IN'), ('the', 'AT'), ('manner', 'NN'), ('in', 'IN'), ('which', 'WDT'), ('the', 'AT'), ('election', 'NN'), ('was', 'BEDZ'), ('conducted', 'VBN'), ('.', '.')], ...]"
      ]
     },
     "execution_count": 47,
     "metadata": {},
     "output_type": "execute_result"
    }
   ],
   "source": [
    "from nltk.corpus import brown\n",
    "\n",
    "brown_tagged_sents = brown.tagged_sents(categories=\"news\")\n",
    "size = int(len(brown_tagged_sents) * 0.9)\n",
    "train_sents = brown_tagged_sents[:size]\n",
    "test_sents = brown_tagged_sents[size:]\n",
    "bigram_tagger = nltk.TrigramTagger(train_sents)\n",
    "bigram_tagger.evaluate(test_sents)\n",
    "train_sents"
   ]
  },
  {
   "cell_type": "code",
   "execution_count": 48,
   "metadata": {},
   "outputs": [
    {
     "name": "stderr",
     "output_type": "stream",
     "text": [
      "/tmp/ipykernel_267/142853021.py:5: DeprecationWarning: \n",
      "  Function evaluate() has been deprecated.  Use accuracy(gold)\n",
      "  instead.\n",
      "  t3.evaluate(test_sents)\n"
     ]
    },
    {
     "data": {
      "text/plain": [
       "0.843317053722715"
      ]
     },
     "execution_count": 48,
     "metadata": {},
     "output_type": "execute_result"
    }
   ],
   "source": [
    "t0 = nltk.DefaultTagger('NN')\n",
    "t1 = nltk.UnigramTagger(train_sents, backoff=t0)\n",
    "t2 = nltk.BigramTagger(train_sents, backoff=t1)\n",
    "t3 = nltk.TrigramTagger(train_sents, backoff=t2)\n",
    "t3.evaluate(test_sents)"
   ]
  },
  {
   "cell_type": "code",
   "execution_count": null,
   "metadata": {},
   "outputs": [],
   "source": [
    "from nltk.tag import tnt \n",
    "from nltk.corpus import brown\n",
    "# res = tnt.basic_sent_chop(word_tag_tupl, raw=False)\n",
    "tagger = tnt.TnT()\n",
    "sents = list(brown.tagged_sents(tagset=\"universal\"))\n",
    "tagger.train(sents[200:1000])\n",
    "print(dict(tagger._uni))\n",
    "print(dict(tagger._bi))\n",
    "print(dict(tagger._tri))\n",
    "print(dict(tagger._wd))\n",
    "list_of_words = \"the city was urged to remedy this problem\".split(\" \")\n",
    "tagger.accuracy(sents[10:11])"
   ]
  },
  {
   "cell_type": "code",
   "execution_count": 49,
   "metadata": {
    "tags": []
   },
   "outputs": [
    {
     "data": {
      "text/plain": [
       "[('Rudolph', 'NNP'),\n",
       " ('Agnew', 'NNP'),\n",
       " (',', ','),\n",
       " ('55', 'CD'),\n",
       " ('years', 'NNS'),\n",
       " ('old', 'JJ'),\n",
       " ('and', 'CC'),\n",
       " ('former', 'JJ'),\n",
       " ('chairman', 'NN'),\n",
       " ('of', 'IN'),\n",
       " ('Consolidated', 'NNP'),\n",
       " ('Gold', 'NNP'),\n",
       " ('Fields', 'NNP'),\n",
       " ('PLC', 'NNP'),\n",
       " (',', ','),\n",
       " ('was', 'VBD'),\n",
       " ('named', 'VBN'),\n",
       " ('*-1', '-NONE-'),\n",
       " ('a', 'DT'),\n",
       " ('nonexecutive', 'JJ'),\n",
       " ('director', 'NN'),\n",
       " ('of', 'IN'),\n",
       " ('this', 'DT'),\n",
       " ('British', 'JJ'),\n",
       " ('industrial', 'JJ'),\n",
       " ('conglomerate', 'NN'),\n",
       " ('.', '.')]"
      ]
     },
     "execution_count": 49,
     "metadata": {},
     "output_type": "execute_result"
    }
   ],
   "source": [
    "from nltk.corpus import treebank\n",
    "d = list(treebank.tagged_sents())\n",
    "d[2]"
   ]
  },
  {
   "cell_type": "code",
   "execution_count": null,
   "metadata": {},
   "outputs": [],
   "source": []
  }
 ],
 "metadata": {
  "kernelspec": {
   "display_name": ".conda-default:Python",
   "language": "python",
   "name": "conda-env-.conda-default-py"
  },
  "language_info": {
   "codemirror_mode": {
    "name": "ipython",
    "version": 3
   },
   "file_extension": ".py",
   "mimetype": "text/x-python",
   "name": "python",
   "nbconvert_exporter": "python",
   "pygments_lexer": "ipython3",
   "version": "3.9.19"
  }
 },
 "nbformat": 4,
 "nbformat_minor": 4
}
